{
 "cells": [
  {
   "cell_type": "code",
   "execution_count": 1,
   "metadata": {},
   "outputs": [
    {
     "data": {
      "text/plain": [
       "0"
      ]
     },
     "execution_count": 1,
     "metadata": {},
     "output_type": "execute_result"
    }
   ],
   "source": [
    "def check_p_rank (K_cyc, p):\n",
    "    nr = 0\n",
    "    for l in K_cyc:\n",
    "        c = int(l)\n",
    "        if c%p == 0:\n",
    "            nr += 1\n",
    "    return nr\n",
    "\n",
    "check_p_rank(['2', '10'], 3)"
   ]
  },
  {
   "cell_type": "code",
   "execution_count": 2,
   "metadata": {},
   "outputs": [],
   "source": [
    "file = open(\"/Users/eric/Downloads/cl7mod8.0\")\n",
    "disc_file = open(\"discriminants/p_2_[4,4,4]_disc_7_mod_8.txt\", \"w\")\n",
    "lines = file.readlines()\n",
    "discriminant = -7\n",
    "for i in range(0,len(lines)-1):\n",
    "    my_str = ''.join(map(str, lines[i]))\n",
    "    my_str = my_str[0:-1]\n",
    "    li = list(my_str.split(\"\\t\"))\n",
    "    li[-1] = list(li[-1].split(\" \"))\n",
    "    discriminant -= 8*int(li[0])\n",
    "    if len(li[-1]) > 1 and check_p_rank(li[-1], 2) == 3 and check_p_rank(li[-1], 4) == 3:\n",
    "        disc_file.write(str(discriminant)+\"\\n\")\n",
    "    \n",
    "file.close()\n",
    "disc_file.close()"
   ]
  },
  {
   "cell_type": "code",
   "execution_count": 7,
   "metadata": {},
   "outputs": [
    {
     "data": {
      "text/plain": [
       "268435456"
      ]
     },
     "execution_count": 7,
     "metadata": {},
     "output_type": "execute_result"
    }
   ],
   "source": [
    "2**28"
   ]
  },
  {
   "cell_type": "code",
   "execution_count": 1,
   "metadata": {},
   "outputs": [],
   "source": [
    "pol = \"s^3+s^2+s+1\""
   ]
  },
  {
   "cell_type": "code",
   "execution_count": 1,
   "metadata": {},
   "outputs": [
    {
     "name": "stdout",
     "output_type": "stream",
     "text": [
      "s^36+s^35+s^34+s^33+s^32+s^31+s^30+s^29+s^28+s^27+s^26+s^25+s^24+s^23+s^22+s^21+s^20+s^19+s^18+s^17+s^16+s^15+s^14+s^13+s^12+s^11+s^10+s^9+s^8+s^7+s^6+s^5+s^4+s^3+s^2+s+1\n"
     ]
    }
   ],
   "source": [
    "p = 37\n",
    "pol = \"s+1\"\n",
    "for n in range(2, p):\n",
    "    pol = \"s^\"+str(n)+\"+\"+pol\n",
    "\n",
    "print(pol)"
   ]
  },
  {
   "cell_type": "code",
   "execution_count": 8,
   "metadata": {},
   "outputs": [],
   "source": [
    "s = \"$.1^28 - $.1^27 + $.1^26 - $.1^25 + $.1^24 - $.1^23 + $.1^22 - $.1^21 + $.1^20 - $.1^19 + $.1^18 - $.1^17 + $.1^16 - $.1^15 + $.1^14 - $.1^13 + $.1^12 - $.1^11 + $.1^10 - $.1^9 + $.1^8 - $.1^7 + $.1^6 - $.1^5 + $.1^4 - $.1^3 + $.1^2 - $.1 + 1\""
   ]
  },
  {
   "cell_type": "code",
   "execution_count": 10,
   "metadata": {},
   "outputs": [
    {
     "name": "stdout",
     "output_type": "stream",
     "text": [
      "s^28 - s^27 + s^26 - s^25 + s^24 - s^23 + s^22 - s^21 + s^20 - s^19 + s^18 - s^17 + s^16 - s^15 + s^14 - s^13 + s^12 - s^11 + s^10 - s^9 + s^8 - s^7 + s^6 - s^5 + s^4 - s^3 + s^2 - s + 1\n"
     ]
    }
   ],
   "source": [
    "print(s.replace('$.1', 's'))"
   ]
  },
  {
   "cell_type": "code",
   "execution_count": null,
   "metadata": {},
   "outputs": [],
   "source": []
  }
 ],
 "metadata": {
  "kernelspec": {
   "display_name": "Python 3.8.9 64-bit",
   "language": "python",
   "name": "python3"
  },
  "language_info": {
   "codemirror_mode": {
    "name": "ipython",
    "version": 3
   },
   "file_extension": ".py",
   "mimetype": "text/x-python",
   "name": "python",
   "nbconvert_exporter": "python",
   "pygments_lexer": "ipython3",
   "version": "3.9.6"
  },
  "orig_nbformat": 4,
  "vscode": {
   "interpreter": {
    "hash": "31f2aee4e71d21fbe5cf8b01ff0e069b9275f58929596ceb00d14d90e3e16cd6"
   }
  }
 },
 "nbformat": 4,
 "nbformat_minor": 2
}
