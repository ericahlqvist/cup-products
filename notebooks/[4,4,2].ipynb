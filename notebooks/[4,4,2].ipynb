{
 "cells": [
  {
   "cell_type": "code",
   "execution_count": 1,
   "metadata": {},
   "outputs": [
    {
     "data": {
      "text/plain": [
       "true"
      ]
     },
     "execution_count": 1,
     "metadata": {
      "text/plain": ""
     },
     "output_type": "execute_result"
    }
   ],
   "source": [
    "LoadPackage(\"ANUPQ\"); # to run IsIsom \n"
   ]
  },
  {
   "cell_type": "code",
   "execution_count": 15,
   "metadata": {},
   "outputs": [
    {
     "data": {
      "text/plain": [
       "256"
      ]
     },
     "execution_count": 13,
     "metadata": {
      "text/plain": ""
     },
     "output_type": "execute_result"
    },
    {
     "data": {
      "text/plain": [
       "10"
      ]
     },
     "execution_count": 14,
     "metadata": {
      "text/plain": ""
     },
     "output_type": "execute_result"
    },
    {
     "data": {
      "text/plain": [
       "11"
      ]
     },
     "execution_count": 15,
     "metadata": {
      "text/plain": ""
     },
     "output_type": "execute_result"
    }
   ],
   "source": [
    "\n",
    "# Rank 3\n",
    "F := FreeGroup( \"a\", \"b\", \"c\");;\n",
    "a:=F.1;;\n",
    "b:=F.2;;\n",
    "c:=F.3;;\n",
    "\n",
    "a_b:=a*b*a^-1*b^-1;;\n",
    "a_c:=a*c*a^-1*c^-1;;\n",
    "\n",
    "b_c:=b*c*b^-1*c^-1;;\n",
    "\n",
    "rels:=[a^2*a_b*a_c*b_c];;\n",
    "G:=F/rels;;\n",
    "hom:=EpimorphismPGroup(G,2,2);;\n",
    "Q_F := Image(hom);;\n",
    "Size(Q_F);\n",
    "NuclearRank(Q_F);\n",
    "MultiplicatorRank(Q_F);"
   ]
  },
  {
   "cell_type": "code",
   "execution_count": 19,
   "metadata": {},
   "outputs": [
    {
     "data": {
      "text/plain": [
       "29923"
      ]
     },
     "execution_count": 19,
     "metadata": {
      "text/plain": ""
     },
     "output_type": "execute_result"
    }
   ],
   "source": [
    "#Dec_1:=PqDescendants( Q_F: ClassBound := 3, StepSize := 1);;\n",
    "Dec_2:=PqDescendants( Q_F: ClassBound := 3, StepSize := 2);;\n",
    "#Dec_3:=PqDescendants( Q_F: ClassBound := 3, StepSize := 3);;\n",
    "# Dec_4:=PqDescendants( Q_F: ClassBound := 3, StepSize := 4);;\n",
    "# Dec_5:=PqDescendants( Q_F: ClassBound := 3, StepSize := 5);;\n",
    "# Dec_6:=PqDescendants( Q_F: ClassBound := 3, StepSize := 6);;\n",
    "# \n",
    "Length(Dec_2);"
   ]
  },
  {
   "cell_type": "code",
   "execution_count": null,
   "metadata": {},
   "outputs": [],
   "source": []
  }
 ],
 "metadata": {
  "kernelspec": {
   "display_name": "GAP 4",
   "language": "gap",
   "name": "gap-4"
  },
  "language_info": {
   "codemirror_mode": "gap",
   "file_extension": ".g",
   "mimetype": "text/x-gap",
   "name": "gap",
   "nbconvert_exporter": "",
   "pygments_lexer": "gap",
   "version": "4.12.2"
  }
 },
 "nbformat": 4,
 "nbformat_minor": 2
}
