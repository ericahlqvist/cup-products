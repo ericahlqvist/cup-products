{
 "cells": [
  {
   "cell_type": "code",
   "execution_count": null,
   "metadata": {},
   "outputs": [],
   "source": []
  },
  {
   "cell_type": "code",
   "execution_count": 1,
   "metadata": {},
   "outputs": [
    {
     "data": {
      "text/plain": [
       "true"
      ]
     },
     "execution_count": 1,
     "metadata": {
      "text/plain": ""
     },
     "output_type": "execute_result"
    }
   ],
   "source": [
    "LoadPackage(\"ANUPQ\"); # to run IsIsom "
   ]
  },
  {
   "cell_type": "code",
   "execution_count": 8,
   "metadata": {},
   "outputs": [],
   "source": [
    "# Rank 3\n",
    "F := FreeGroup( \"a\", \"b\", \"c\");;\n",
    "a:=F.1;;\n",
    "b:=F.2;;\n",
    "c:=F.3;;\n",
    "\n",
    "a_b:=a^b*a^-1;;\n",
    "a_c:=a^c*a^-1;;\n",
    "\n",
    "b_c:=b^c*b^-1;;\n"
   ]
  },
  {
   "cell_type": "code",
   "execution_count": 9,
   "metadata": {},
   "outputs": [],
   "source": [
    "rels:=[a_b*a_c*b_c*c^2];;"
   ]
  },
  {
   "cell_type": "code",
   "execution_count": 15,
   "metadata": {},
   "outputs": [
    {
     "data": {
      "text/plain": [
       "256"
      ]
     },
     "execution_count": 13,
     "metadata": {
      "text/plain": ""
     },
     "output_type": "execute_result"
    },
    {
     "data": {
      "text/plain": [
       "10"
      ]
     },
     "execution_count": 14,
     "metadata": {
      "text/plain": ""
     },
     "output_type": "execute_result"
    },
    {
     "data": {
      "text/plain": [
       "11"
      ]
     },
     "execution_count": 15,
     "metadata": {
      "text/plain": ""
     },
     "output_type": "execute_result"
    }
   ],
   "source": [
    "G:=F/rels;;\n",
    "hom:=EpimorphismPGroup(G,2,2);;\n",
    "Q_F := Image(hom);;\n",
    "Size(Q_F);\n",
    "NuclearRank(Q_F);\n",
    "MultiplicatorRank(Q_F);"
   ]
  },
  {
   "cell_type": "code",
   "execution_count": 17,
   "metadata": {},
   "outputs": [
    {
     "data": {
      "text/plain": [
       "29923"
      ]
     },
     "execution_count": 17,
     "metadata": {
      "text/plain": ""
     },
     "output_type": "execute_result"
    }
   ],
   "source": [
    "#Dec_1:=PqDescendants( Q_F: ClassBound := 3, StepSize := 1);;\n",
    "Dec_2:=PqDescendants( Q_F: ClassBound := 3, StepSize := 2);;\n",
    "#Dec_3:=PqDescendants( Q_F: ClassBound := 3, StepSize := 3);;\n",
    "# Dec_4:=PqDescendants( Q_F: ClassBound := 3, StepSize := 4);;\n",
    "# Dec_5:=PqDescendants( Q_F: ClassBound := 3, StepSize := 5);;\n",
    "# Dec_6:=PqDescendants( Q_F: ClassBound := 3, StepSize := 6);;\n",
    "# 42+696+3944+6336+2424+176 = 13618\n",
    "Length(Dec_2);\n"
   ]
  },
  {
   "cell_type": "code",
   "execution_count": null,
   "metadata": {},
   "outputs": [
    {
     "data": {
      "text/plain": [
       "[ [ 2, 4, 8 ], [ 2, 4, 4 ], [ 2, 4, 8 ], [ 2, 4, 4 ], [ 2, 4, 4 ],   [ 2, 4, 4 ], [ 2, 4, 4 ], [ 2, 4, 4 ], [ 2, 4, 4 ], [ 2, 4, 4 ],   [ 2, 4, 4 ], [ 2, 4, 4 ], [ 2, 4, 4 ], [ 2, 4, 4 ], [ 2, 4, 4 ],   [ 2, 4, 4 ], [ 2, 4, 4 ], [ 2, 4, 4 ], [ 2, 4, 4 ], [ 2, 4, 4 ],   [ 2, 4, 4 ], [ 2, 4, 4 ], [ 2, 4, 4 ], [ 2, 4, 4 ], [ 2, 4, 4 ],   [ 2, 4, 4 ], [ 2, 4, 4 ], [ 2, 4, 4 ], [ 2, 4, 4 ], [ 2, 4, 4 ],   [ 2, 4, 4 ], [ 2, 4, 4 ], [ 2, 4, 4 ], [ 2, 4, 4 ], [ 2, 4, 4 ],   [ 2, 4, 4 ], [ 2, 4, 4 ], [ 2, 4, 4 ], [ 2, 4, 4 ], [ 2, 4, 4 ],   [ 2, 4, 4 ], [ 2, 4, 4 ] ]"
      ]
     },
     "metadata": {},
     "output_type": "display_data"
    }
   ],
   "source": [
    "List(Dec_1, AbelianInvariants); # None of them is [2,8,8]"
   ]
  },
  {
   "cell_type": "code",
   "execution_count": null,
   "metadata": {},
   "outputs": [
    {
     "data": {
      "text/plain": [
       "[ true, false, false, false, false, false, false, false, false, false, false,   false, false, false, false, false, false, false, false, false, false,   false, false, false, false, false, false, false, false, false, false,   false, false, false, false, false, false, false, false, false, false,   false, false, false, false, false, false, false, false, false, false,   false, false, false, false, false, false, false, false, false, false,   false, false, false, false, false, false, false, false, false, false,   false, false, false, false, false, false, false, false, false, false,   false, false, false, false, false, false, false, false, false, false,   false, false, false, false, false, false, false, false, false, false,   false, false, false, false, false, false, false, false, false, false,   false, false, false, false, false, false, false, false, false, false,   false, false, false, false, false, false, false, false, false, false,   false, false, false, false, false, false, false, false, false, false,   false, false, false, false, false, false, false, false, false, false,   false, false, false, false, false, false, false, false, false, false,   false, false, false, false, false, false, false, false, false, false,   false, false, false, false, false, false, false, false, false, false,   false, false, false, false, false, false, false, false, false, false,   false, false, false, false, false, false, false, false, false, false,   false, false, false, false, false, false, false, false, false, false,   false, false, false, false, false, false, false, false, false, false,   false, false, false, false, false, false, false, false, false, false,   false, false, false, false, false, false, false, false, false, false,   false, false, false, false, false, false, false, false, false, false,   false, false, false, false, false, false, false, false, false, false,   false, false, false, false, false, false, false, false, false, false,   false, false, false, false, false, false, false, false, false, false,   false, false, false, false, false, false, false, false, false, false,   false, false, false, false, false, false, false, false, false, false,   false, false, false, false, false, false, false, false, false, false,   false, false, false, false, false, false, false, false, false, false,   false, false, false, false, false, false, false, false, false, false,   false, false, false, false, false, false, false, false, false, false,   false, false, false, false, false, false, false, false, false, false,   false, false, false, false, false, false, false, false, false, false,   false, false, false, false, false, false, false, false, false, false,   false, false, false, false, false, false, false, false, false, false,   false, false, false, false, false, false, false, false, false, false,   false, false, false, false, false, false, false, false, false, false,   false, false, false, false, false, false, false, false, false, false,   false, false, false, false, false, false, false, false, false, false,   false, false, false, false, false, false, false, false, false, false,   false, false, false, false, false, false, false, false, false, false,   false, false, false, false, false, false, false, false, false, false,   false, false, false, false, false, false, false, false, false, false,   false, false, false, false, false, false, false, false, false, false,   false, false, false, false, false, false, false, false, false, false,   false, false, false, false, false, false, false, false, false, false,   false, false, false, false, false, false, false, false, false, false,   false, false, false, false, false, false, false, false, false, false,   false, false, false, false, false, false, false, false, false, false,   false, false, false, false, false, false, false, false, false, false,   false, false, false, false, false, false, false, false, false, false,   false, false, false, false, false, false, false, false, false, false,   false, false, false, false, false, false, false, false, false, false,   false, false, false, false, false, false, false, false, false, false,   false, false, false, false, false, false, false, false, false, false,   false, false, false, false, false, false, false, false, false, false,   false, false, false, false, false, false, false, false, false, false,   false, false, false, false, false, false, false, false, false, false,   false, false, false, false, false, false, false, false, false, false,   false, false, false, false, false, false, false, false, false, false,   false, false, false, false, false, false, false, false, false, false,   false, false, false, false, false, false, false, false, false, false,   false, false, false, false, false, false, false, false, false, false,   false, false, false, false, false, false, false, false, false, false,   false, false, false, false, false, false, false, false, false, false,   false, false, false, false, false, false, false, false, false, false,   false, false, false, false, false ]"
      ]
     },
     "metadata": {},
     "output_type": "display_data"
    }
   ],
   "source": [
    "List(Dec_2, d -> AbelianInvariants(d)=[2,8,8]); # A single of them is [2,8,8]"
   ]
  },
  {
   "cell_type": "code",
   "execution_count": null,
   "metadata": {},
   "outputs": [
    {
     "data": {
      "text/plain": [
       "[ true, true, true, true, true, true, true, true, true, true, true, true,   true, true, true, true, true, true, true, true, true, true, true, true,   true, true, true, true, true, true, true, true, true, true, true, true,   true, true, true, true, true, true, true, true, true, true, true, true,   false, false, false, false, false, false, false, false, false, false,   false, false, false, false, false, false, false, false, false, false,   false, false, false, false, false, false, false, false, false, false,   false, false, false, false, false, false, false, false, false, false,   false, false, false, false, false, false, false, false, false, false,   false, false, false, false, false, false, false, false, false, false,   false, false, false, false, false, false, false, false, false, false,   false, false, false, false, false, false, false, false, false, false,   false, false, false, false, false, false, false, false, false, false,   false, false, false, false, false, false, false, false, false, false,   false, false, false, false, false, false, false, false, false, false,   false, false, false, false, false, false, false, false, false, false,   false, false, false, false, false, false, false, false ]"
      ]
     },
     "metadata": {},
     "output_type": "display_data"
    }
   ],
   "source": [
    "List(Dec_6, d -> AbelianInvariants(d)=[2,8,8]); # A single of them is [2,8,8]"
   ]
  },
  {
   "cell_type": "code",
   "execution_count": null,
   "metadata": {},
   "outputs": [
    {
     "data": {
      "text/plain": [
       "[ <pc group of size 512 with 9 generators> ]"
      ]
     },
     "metadata": {},
     "output_type": "display_data"
    }
   ],
   "source": [
    "dec_sort_ab:=[Dec_2[1]];"
   ]
  },
  {
   "cell_type": "code",
   "execution_count": null,
   "metadata": {},
   "outputs": [
    {
     "data": {
      "text/plain": [
       "1"
      ]
     },
     "metadata": {},
     "output_type": "display_data"
    },
    {
     "data": {
      "text/plain": [
       "49"
      ]
     },
     "metadata": {},
     "output_type": "display_data"
    },
    {
     "data": {
      "text/plain": [
       "49"
      ]
     },
     "metadata": {},
     "output_type": "display_data"
    }
   ],
   "source": [
    "a:=1;\n",
    "for i in Dec_6 do\n",
    "    if AbelianInvariants(i)=[2,8,8] then\n",
    "        a:=a+1;\n",
    "        Append(dec_sort_ab, [i]);\n",
    "    fi;\n",
    "od; # 48 of them are [2,8,8]\n",
    "a;\n",
    "Length(dec_sort_ab);"
   ]
  },
  {
   "cell_type": "code",
   "execution_count": null,
   "metadata": {},
   "outputs": [
    {
     "data": {
      "text/plain": [
       "67"
      ]
     },
     "metadata": {},
     "output_type": "display_data"
    },
    {
     "data": {
      "text/plain": [
       "67"
      ]
     },
     "metadata": {},
     "output_type": "display_data"
    }
   ],
   "source": [
    "\n",
    "for i in Dec_3 do\n",
    "    if AbelianInvariants(i)=[2,8,8] then\n",
    "        a:=a+1;\n",
    "        Append(dec_sort_ab, [i]);\n",
    "    fi;\n",
    "od; # 18 of them are [2,8,8]\n",
    "a;\n",
    "Length(dec_sort_ab);"
   ]
  },
  {
   "cell_type": "code",
   "execution_count": null,
   "metadata": {},
   "outputs": [
    {
     "data": {
      "text/plain": [
       "175"
      ]
     },
     "metadata": {},
     "output_type": "display_data"
    },
    {
     "data": {
      "text/plain": [
       "175"
      ]
     },
     "metadata": {},
     "output_type": "display_data"
    }
   ],
   "source": [
    "for i in Dec_4 do\n",
    "    if AbelianInvariants(i)=[2,8,8] then\n",
    "        a:=a+1;\n",
    "        Append(dec_sort_ab, [i]);\n",
    "    fi;\n",
    "od; # 108 of them are [2,8,8]\n",
    "a;\n",
    "Length(dec_sort_ab);"
   ]
  },
  {
   "cell_type": "code",
   "execution_count": null,
   "metadata": {},
   "outputs": [
    {
     "data": {
      "text/plain": [
       "335"
      ]
     },
     "metadata": {},
     "output_type": "display_data"
    },
    {
     "data": {
      "text/plain": [
       "335"
      ]
     },
     "metadata": {},
     "output_type": "display_data"
    }
   ],
   "source": [
    "for i in Dec_5 do\n",
    "    if AbelianInvariants(i)=[2,8,8] then\n",
    "        a:=a+1;\n",
    "        Append(dec_sort_ab, [i]);\n",
    "    fi;\n",
    "od; # 160 of them are [2,8,8]\n",
    "a;\n",
    "Length(dec_sort_ab);"
   ]
  },
  {
   "cell_type": "markdown",
   "metadata": {},
   "source": [
    "Leaves us with 335 candidates"
   ]
  },
  {
   "cell_type": "code",
   "execution_count": null,
   "metadata": {},
   "outputs": [
    {
     "data": {
      "text/plain": [
       "[ 512, 8192, 8192, 8192, 8192, 8192, 8192, 8192, 8192, 8192, 8192, 8192,   8192, 8192, 8192, 8192, 8192, 8192, 8192, 8192, 8192, 8192, 8192, 8192,   8192, 8192, 8192, 8192, 8192, 8192, 8192, 8192, 8192, 8192, 8192, 8192,   8192, 8192, 8192, 8192, 8192, 8192, 8192, 8192, 8192, 8192, 8192, 8192,   8192, 1024, 1024, 1024, 1024, 1024, 1024, 1024, 1024, 1024, 1024, 1024,   1024, 1024, 1024, 1024, 1024, 1024, 1024, 2048, 2048, 2048, 2048, 2048,   2048, 2048, 2048, 2048, 2048, 2048, 2048, 2048, 2048, 2048, 2048, 2048,   2048, 2048, 2048, 2048, 2048, 2048, 2048, 2048, 2048, 2048, 2048, 2048,   2048, 2048, 2048, 2048, 2048, 2048, 2048, 2048, 2048, 2048, 2048, 2048,   2048, 2048, 2048, 2048, 2048, 2048, 2048, 2048, 2048, 2048, 2048, 2048,   2048, 2048, 2048, 2048, 2048, 2048, 2048, 2048, 2048, 2048, 2048, 2048,   2048, 2048, 2048, 2048, 2048, 2048, 2048, 2048, 2048, 2048, 2048, 2048,   2048, 2048, 2048, 2048, 2048, 2048, 2048, 2048, 2048, 2048, 2048, 2048,   2048, 2048, 2048, 2048, 2048, 2048, 2048, 2048, 2048, 2048, 2048, 2048,   2048, 2048, 2048, 2048, 2048, 2048, 2048, 4096, 4096, 4096, 4096, 4096,   4096, 4096, 4096, 4096, 4096, 4096, 4096, 4096, 4096, 4096, 4096, 4096,   4096, 4096, 4096, 4096, 4096, 4096, 4096, 4096, 4096, 4096, 4096, 4096,   4096, 4096, 4096, 4096, 4096, 4096, 4096, 4096, 4096, 4096, 4096, 4096,   4096, 4096, 4096, 4096, 4096, 4096, 4096, 4096, 4096, 4096, 4096, 4096,   4096, 4096, 4096, 4096, 4096, 4096, 4096, 4096, 4096, 4096, 4096, 4096,   4096, 4096, 4096, 4096, 4096, 4096, 4096, 4096, 4096, 4096, 4096, 4096,   4096, 4096, 4096, 4096, 4096, 4096, 4096, 4096, 4096, 4096, 4096, 4096,   4096, 4096, 4096, 4096, 4096, 4096, 4096, 4096, 4096, 4096, 4096, 4096,   4096, 4096, 4096, 4096, 4096, 4096, 4096, 4096, 4096, 4096, 4096, 4096,   4096, 4096, 4096, 4096, 4096, 4096, 4096, 4096, 4096, 4096, 4096, 4096,   4096, 4096, 4096, 4096, 4096, 4096, 4096, 4096, 4096, 4096, 4096, 4096,   4096, 4096, 4096, 4096, 4096, 4096, 4096, 4096, 4096, 4096, 4096, 4096,   4096, 4096, 4096, 4096, 4096, 4096, 4096, 4096, 4096, 4096, 4096 ]"
      ]
     },
     "metadata": {},
     "output_type": "display_data"
    }
   ],
   "source": [
    "List(dec_sort_ab, Size); "
   ]
  },
  {
   "cell_type": "code",
   "execution_count": null,
   "metadata": {},
   "outputs": [],
   "source": [
    "dec_sort_2:=[];;\n",
    "for i in dec_sort_ab do \n",
    "    c_1:=0;\n",
    "    c_2:=0;\n",
    "    c_3:=0;\n",
    "    for j in List(LowIndexSubgroups(i, 2), AbelianInvariants) do\n",
    "        if j=[4,4,4,8] then\n",
    "            c_2:=c_2+1;\n",
    "        elif j=[2,4,4,8] then\n",
    "            c_1:=c_1+1;\n",
    "        elif j=[2,8,8] then\n",
    "            c_3:=c_3+1;\n",
    "        fi;\n",
    "    od;\n",
    "    if c_1=2 and c_2=1 and c_3=5 then\n",
    "        Append(dec_sort_2, [i]);;\n",
    "    fi;\n",
    "od;"
   ]
  },
  {
   "cell_type": "code",
   "execution_count": null,
   "metadata": {},
   "outputs": [
    {
     "data": {
      "text/plain": [
       "26"
      ]
     },
     "metadata": {},
     "output_type": "display_data"
    }
   ],
   "source": [
    "Length(dec_sort_2);"
   ]
  },
  {
   "cell_type": "code",
   "execution_count": null,
   "metadata": {},
   "outputs": [
    {
     "data": {
      "text/plain": [
       "[ 8192, 8192, 8192, 8192, 8192, 8192, 8192, 8192, 8192, 8192, 8192, 8192,   8192, 8192, 4096, 4096, 4096, 4096, 4096, 4096, 4096, 4096, 4096, 4096,   4096, 4096 ]"
      ]
     },
     "metadata": {},
     "output_type": "display_data"
    }
   ],
   "source": [
    "List(dec_sort_2, Size);"
   ]
  },
  {
   "cell_type": "code",
   "execution_count": null,
   "metadata": {},
   "outputs": [
    {
     "data": {
      "text/plain": [
       "9"
      ]
     },
     "metadata": {},
     "output_type": "display_data"
    }
   ],
   "source": [
    "NuclearRank(dec_sort_2[5]);"
   ]
  }
 ],
 "metadata": {
  "kernelspec": {
   "display_name": "GAP 4",
   "language": "gap",
   "name": "gap-4"
  },
  "language_info": {
   "codemirror_mode": "gap",
   "file_extension": ".g",
   "mimetype": "text/x-gap",
   "name": "gap",
   "nbconvert_exporter": "",
   "pygments_lexer": "gap",
   "version": "4.12.2"
  }
 },
 "nbformat": 4,
 "nbformat_minor": 2
}
