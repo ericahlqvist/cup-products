{
 "cells": [
  {
   "cell_type": "code",
   "execution_count": 1,
   "metadata": {},
   "outputs": [
    {
     "data": {
      "text/plain": [
       "true"
      ]
     },
     "execution_count": 1,
     "metadata": {
      "text/plain": ""
     },
     "output_type": "execute_result"
    }
   ],
   "source": [
    "LoadPackage(\"ANUPQ\"); # to run IsIsom "
   ]
  },
  {
   "cell_type": "code",
   "execution_count": 21,
   "metadata": {},
   "outputs": [],
   "source": [
    "\n",
    "# Rank 4\n",
    "F := FreeGroup( \"a\", \"b\", \"c\", \"d\", \"e\");;\n",
    "\n",
    "a:=F.1;;\n",
    "b:=F.2;;\n",
    "c:=F.3;;\n",
    "d:=F.4;;\n",
    "e:=F.5;;\n",
    "\n",
    "a_b:=a*b*a^-1*b^-1;;\n",
    "a_c:=a*c*a^-1*c^-1;;\n",
    "a_d:=a*d*a^-1*d^-1;;\n",
    "a_e:=a*e*a^-1*e^-1;;\n",
    "\n",
    "b_c:=b*c*b^-1*c^-1;;\n",
    "b_d:=b*d*b^-1*d^-1;;\n",
    "b_e:=b*e*b^-1*e^-1;;\n",
    "\n",
    "c_d:=c*d*c^-1*d^-1;;\n",
    "c_e:=c*e*c^-1*e^-1;;\n",
    "\n",
    "d_e:=d*e*d^-1*e^-1;;\n",
    "\n",
    "rels:=[a_d*a_e*b_c, a_b*a_d*a_e*b_d*b_e*c^2, a_b*a_c*a_d*a_e*b^2*b_d*c_d, b^2*b_e*c_e, a_b*a_e*b^2*b_d*b_e*d^2, a_d*a_e*b^2*b_d*d_e, a_c*a_d*b^2*e^2];;\n",
    "G:=F/rels;;\n",
    "hom:=EpimorphismPGroup(G,2,2);;\n",
    "Q_F := Image(hom);;\n",
    "#Dec_1:=PqDescendants( Q_F: ClassBound := 3, StepSize := 1, PcgsAutomorphisms, SpaceEfficient := true);; # none works\n",
    "# Dec_2:=PqDescendants( Q_F: ClassBound := 3, StepSize := 2);; # none works\n",
    "#Dec_3:=PqDescendants( Q_F: ClassBound := 3, StepSize := 3);; # none works\n",
    "#Length(Dec_2);"
   ]
  },
  {
   "cell_type": "code",
   "execution_count": null,
   "metadata": {},
   "outputs": [],
   "source": [
    "#Dec_1:=PqDescendants( Q_F: ClassBound := 3, StepSize := 1, PcgsAutomorphisms, SpaceEfficient := true);; # none works\n",
    "Dec_2:=PqDescendants( Q_F: ClassBound := 3, StepSize := 2);; # none works\n",
    "#Dec_3:=PqDescendants( Q_F: ClassBound := 3, StepSize := 3);; # none works\n",
    "Length(Dec_2);"
   ]
  },
  {
   "cell_type": "code",
   "execution_count": null,
   "metadata": {},
   "outputs": [],
   "source": []
  }
 ],
 "metadata": {
  "kernelspec": {
   "display_name": "GAP 4",
   "language": "gap",
   "name": "gap-4"
  },
  "language_info": {
   "codemirror_mode": "gap",
   "file_extension": ".g",
   "mimetype": "text/x-gap",
   "name": "gap",
   "nbconvert_exporter": "",
   "pygments_lexer": "gap",
   "version": "4.12.2"
  }
 },
 "nbformat": 4,
 "nbformat_minor": 2
}
