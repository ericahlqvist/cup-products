{
 "cells": [
  {
   "cell_type": "code",
   "execution_count": 1,
   "metadata": {
    "vscode": {
     "languageId": "gap"
    }
   },
   "outputs": [
    {
     "data": {
      "text/plain": [
       "true"
      ]
     },
     "execution_count": 1,
     "metadata": {
      "text/plain": ""
     },
     "output_type": "execute_result"
    }
   ],
   "source": [
    "LoadPackage(\"ANUPQ\"); # to run IsIsom "
   ]
  },
  {
   "cell_type": "code",
   "execution_count": 16,
   "metadata": {
    "vscode": {
     "languageId": "gap"
    }
   },
   "outputs": [],
   "source": [
    "# Rank 4\n",
    "F := FreeGroup( \"a\", \"b\", \"c\", \"d\");;\n",
    "\n",
    "a:=F.1;;\n",
    "b:=F.2;;\n",
    "c:=F.3;;\n",
    "d:=F.4;;\n",
    "\n",
    "a_b:=a*b*a^-1*b^-1;;\n",
    "a_c:=a*c*a^-1*c^-1;;\n",
    "a_d:=a*d*a^-1*d^-1;;\n",
    "b_c:=b*c*b^-1*c^-1;;\n",
    "b_d:=b*d*b^-1*d^-1;;\n",
    "c_d:=c*d*c^-1*d^-1;;\n",
    "\n",
    "rels:=[a_b, a^2*a_c, a_d, a^2*b_d, a^2*c_d, d^2];;\n",
    "G:=F/rels;;\n",
    "hom:=EpimorphismPGroup(G,2,2);;\n",
    "Q_F := Image(hom);;"
   ]
  },
  {
   "cell_type": "code",
   "execution_count": 17,
   "metadata": {
    "vscode": {
     "languageId": "gap"
    }
   },
   "outputs": [
    {
     "data": {
      "text/plain": [
       "2097152"
      ]
     },
     "execution_count": 17,
     "metadata": {
      "text/plain": ""
     },
     "output_type": "execute_result"
    }
   ],
   "source": [
    "Size(AutomorphismGroup(Q_F));"
   ]
  },
  {
   "cell_type": "code",
   "execution_count": 17,
   "metadata": {
    "vscode": {
     "languageId": "gap"
    }
   },
   "outputs": [
    {
     "data": {
      "text/plain": [
       "2"
      ]
     },
     "execution_count": 17,
     "metadata": {
      "text/plain": ""
     },
     "output_type": "execute_result"
    }
   ],
   "source": [
    "PClassPGroup(Q_F);"
   ]
  },
  {
   "cell_type": "code",
   "execution_count": 17,
   "metadata": {
    "vscode": {
     "languageId": "gap"
    }
   },
   "outputs": [
    {
     "data": {
      "text/plain": [
       "5"
      ]
     },
     "execution_count": 17,
     "metadata": {
      "text/plain": ""
     },
     "output_type": "execute_result"
    }
   ],
   "source": [
    "NuclearRank(Q_F);"
   ]
  },
  {
   "cell_type": "code",
   "execution_count": 17,
   "metadata": {
    "vscode": {
     "languageId": "gap"
    }
   },
   "outputs": [
    {
     "data": {
      "text/plain": [
       "<pc group of size 256 with 8 generators>"
      ]
     },
     "execution_count": 17,
     "metadata": {
      "text/plain": ""
     },
     "output_type": "execute_result"
    }
   ],
   "source": [
    "Q_F;"
   ]
  },
  {
   "cell_type": "code",
   "execution_count": 17,
   "metadata": {
    "vscode": {
     "languageId": "gap"
    }
   },
   "outputs": [
    {
     "data": {
      "text/plain": [
       "[ 256, 6783 ]"
      ]
     },
     "execution_count": 17,
     "metadata": {
      "text/plain": ""
     },
     "output_type": "execute_result"
    }
   ],
   "source": [
    "IdSmallGroup(Q_F);"
   ]
  },
  {
   "cell_type": "code",
   "execution_count": 130,
   "metadata": {
    "vscode": {
     "languageId": "gap"
    }
   },
   "outputs": [
    {
     "data": {
      "text/plain": [
       "2884"
      ]
     },
     "execution_count": 130,
     "metadata": {
      "text/plain": ""
     },
     "output_type": "execute_result"
    }
   ],
   "source": [
    "#Dec_1:=PqDescendants( Q_F: ClassBound := 3, StepSize := 1, PcgsAutomorphisms, SpaceEfficient := true);; # none works\n",
    "# Dec_2:=PqDescendants( Q_F: ClassBound := 3, StepSize := 2);; # none works\n",
    "#Dec_3:=PqDescendants( Q_F: ClassBound := 3, StepSize := 3);; # none works\n",
    "#Length(Dec_2);"
   ]
  },
  {
   "cell_type": "code",
   "execution_count": 35,
   "metadata": {
    "vscode": {
     "languageId": "gap"
    }
   },
   "outputs": [
    {
     "data": {
      "text/plain": [
       "5444"
      ]
     },
     "execution_count": 35,
     "metadata": {
      "text/plain": ""
     },
     "output_type": "execute_result"
    }
   ],
   "source": [
    "# Dec_3_1 := [];;\n",
    "# for i in [60001..65444] do \n",
    "#     Append(Dec_3_1, [Dec_3[i]]);;\n",
    "# od;\n",
    "# Length(Dec_3_1);"
   ]
  },
  {
   "cell_type": "code",
   "execution_count": 29,
   "metadata": {
    "vscode": {
     "languageId": "gap"
    }
   },
   "outputs": [
    {
     "data": {
      "text/plain": [
       "10000"
      ]
     },
     "execution_count": 23,
     "metadata": {
      "text/plain": ""
     },
     "output_type": "execute_result"
    },
    {
     "data": {
      "text/plain": [
       "10000"
      ]
     },
     "execution_count": 26,
     "metadata": {
      "text/plain": ""
     },
     "output_type": "execute_result"
    },
    {
     "data": {
      "text/plain": [
       "0"
      ]
     },
     "execution_count": 29,
     "metadata": {
      "text/plain": ""
     },
     "output_type": "execute_result"
    }
   ],
   "source": [
    "# Dec_4:=PqDescendants( Q_F: ClassBound := 3, StepSize := 4);;\n",
    "Dec_5:=PqDescendants(Q_F: ClassBound := 3, StepSize := 5, SubList := [320001..330000]);; # first 330 000 does not work\n",
    "# Dec_5:=PqDescendants(Q_F: ClassBound := 3, StepSize := 5);; # first 280 000 does not work\n",
    "\n",
    "Length(Dec_5);\n",
    "\n",
    "dec_sort_ab:=[];;\n",
    "for i in Dec_5 do\n",
    "    if AbelianInvariants(i)=[2,2,4,4] then\n",
    "        Append(dec_sort_ab, [i]);\n",
    "    fi;\n",
    "od;\n",
    "\n",
    "Length(dec_sort_ab);\n",
    "\n",
    "dec_sort_2:=[];;\n",
    "for i in dec_sort_ab do \n",
    "    c_1:=0;\n",
    "    c_2:=0;\n",
    "    c_3:=0;\n",
    "    for j in List(LowIndexSubgroups(i, 2), AbelianInvariants) do\n",
    "        if j=[2, 4, 8] then\n",
    "            c_1:=c_1+1;\n",
    "        elif j=[2, 8, 8] then\n",
    "            c_2:=c_2+1;\n",
    "        elif j=[2, 2, 2, 4, 8] then\n",
    "            c_3:=c_3+1;\n",
    "        fi;\n",
    "    od;\n",
    "    if c_1=8 and c_2=4 and c_3=3 then\n",
    "        Append(dec_sort_2, [i]);;\n",
    "    fi;\n",
    "od;\n",
    "\n",
    "Length(dec_sort_2);"
   ]
  },
  {
   "cell_type": "code",
   "execution_count": 33,
   "metadata": {
    "vscode": {
     "languageId": "gap"
    }
   },
   "outputs": [],
   "source": [
    "# Rank 3\n",
    "F := FreeGroup( \"a\", \"b\", \"c\");;\n",
    "\n",
    "a:=F.1;;\n",
    "b:=F.2;;\n",
    "c:=F.3;;\n",
    "\n",
    "\n",
    "a_b:=a*b*a^-1*b^-1;;\n",
    "a_c:=a*c*a^-1*c^-1;;\n",
    "\n",
    "b_c:=b*c*b^-1*c^-1;;\n",
    "\n",
    "\n"
   ]
  },
  {
   "cell_type": "code",
   "execution_count": 53,
   "metadata": {
    "vscode": {
     "languageId": "gap"
    }
   },
   "outputs": [],
   "source": [
    "rels_1:=[a_b, b^2*b_c];;\n",
    "rels_2:=[a^2, a_b*a_c];;\n",
    "rels_3:=[a_b, b^2*b_c];;\n",
    "rels_4:=[a_c*b_c, a_c*c^2];;\n",
    "rels_5:=[a^2*a_b, a_c];;\n",
    "G_1:=F/rels_1;;\n",
    "G_2:=F/rels_2;;\n",
    "G_3:=F/rels_3;;\n",
    "G_4:=F/rels_4;;\n",
    "G_5:=F/rels_5;;\n",
    "hom_1:=EpimorphismPGroup(G_1,2,2);;\n",
    "hom_2:=EpimorphismPGroup(G_2,2,2);;\n",
    "hom_3:=EpimorphismPGroup(G_3,2,2);;\n",
    "hom_4:=EpimorphismPGroup(G_4,2,2);;\n",
    "hom_5:=EpimorphismPGroup(G_5,2,2);;\n",
    "Q_1 := Image(hom_1);;\n",
    "Q_2 := Image(hom_2);;\n",
    "Q_3 := Image(hom_3);;\n",
    "Q_4 := Image(hom_4);;\n",
    "Q_5 := Image(hom_5);;"
   ]
  },
  {
   "cell_type": "code",
   "execution_count": 58,
   "metadata": {
    "vscode": {
     "languageId": "gap"
    }
   },
   "outputs": [
    {
     "data": {
      "text/plain": [
       "[ 128, 167 ]"
      ]
     },
     "execution_count": 54,
     "metadata": {
      "text/plain": ""
     },
     "output_type": "execute_result"
    },
    {
     "data": {
      "text/plain": [
       "[ 128, 165 ]"
      ]
     },
     "execution_count": 55,
     "metadata": {
      "text/plain": ""
     },
     "output_type": "execute_result"
    },
    {
     "data": {
      "text/plain": [
       "[ 128, 167 ]"
      ]
     },
     "execution_count": 56,
     "metadata": {
      "text/plain": ""
     },
     "output_type": "execute_result"
    },
    {
     "data": {
      "text/plain": [
       "[ 128, 167 ]"
      ]
     },
     "execution_count": 57,
     "metadata": {
      "text/plain": ""
     },
     "output_type": "execute_result"
    },
    {
     "data": {
      "text/plain": [
       "[ 128, 167 ]"
      ]
     },
     "execution_count": 58,
     "metadata": {
      "text/plain": ""
     },
     "output_type": "execute_result"
    }
   ],
   "source": [
    "IdSmallGroup(Q_1);\n",
    "IdSmallGroup(Q_2);\n",
    "IdSmallGroup(Q_3);\n",
    "IdSmallGroup(Q_4);\n",
    "IdSmallGroup(Q_5);"
   ]
  },
  {
   "cell_type": "code",
   "execution_count": 74,
   "metadata": {
    "vscode": {
     "languageId": "gap"
    }
   },
   "outputs": [],
   "source": [
    "# Rank 5\n",
    "F := FreeGroup( \"a\", \"b\", \"c\", \"d\", \"e\");;\n",
    "\n",
    "a:=F.1;;\n",
    "b:=F.2;;\n",
    "c:=F.3;;\n",
    "d:=F.4;;\n",
    "e:=F.5;;\n",
    "\n",
    "a_b:=a*b*a^-1*b^-1;;\n",
    "a_c:=a*c*a^-1*c^-1;;\n",
    "a_d:=a*d*a^-1*d^-1;;\n",
    "a_e:=a*e*a^-1*e^-1;;\n",
    "b_c:=b*c*b^-1*c^-1;;\n",
    "b_d:=b*d*b^-1*d^-1;;\n",
    "b_e:=b*e*b^-1*e^-1;;\n",
    "c_d:=c*d*c^-1*d^-1;;\n",
    "c_e:=c*e*c^-1*e^-1;;\n",
    "d_e:=d*e*d^-1*e^-1;;\n",
    "\n"
   ]
  },
  {
   "cell_type": "code",
   "execution_count": 86,
   "metadata": {
    "vscode": {
     "languageId": "gap"
    }
   },
   "outputs": [],
   "source": [
    "rels_6:=[a_b, a_c, a^2*a_d, a_e, b_c*b_e, b_c*c_e, a^2*b_d*c^2*c_d*d_e, c^2*e^2];;\n",
    "rels_7:=[a^2*a_c, a_d, a_e, b_d*c^2, c_d, a^2*c_e, a_b*b_d*b_e*d^2, d_e];;\n",
    "rels_8:=[a_b*a_d*a_e, b^2, b_c, b_d*b_e, a_c*b_d*c^2, c_d, c_e, b_d*d_e];;\n",
    "\n",
    "G_6:=F/rels_6;;\n",
    "G_7:=F/rels_7;;\n",
    "G_8:=F/rels_8;;\n",
    "\n",
    "hom_6:=EpimorphismPGroup(G_6,2,2);;\n",
    "hom_7:=EpimorphismPGroup(G_7,2,2);;\n",
    "hom_8:=EpimorphismPGroup(G_8,2,2);;\n",
    "\n",
    "Q_6 := Image(hom_6);;\n",
    "Q_7 := Image(hom_7);;\n",
    "Q_8 := Image(hom_8);;\n"
   ]
  },
  {
   "cell_type": "code",
   "execution_count": 244,
   "metadata": {
    "vscode": {
     "languageId": "gap"
    }
   },
   "outputs": [
    {
     "name": "stderr",
     "output_type": "stream",
     "text": [
      "Error, the group identification for groups of size 4096 is not available at /opt/homebrew/Cellar/gap/4.12.2/libexec/pkg/smallgrp/gap/small.gi:314 called from\n",
      "<function \"IdGroup generic method for groups\">( <arguments> )\n",
      " called from read-eval loop at stream:1\n"
     ]
    }
   ],
   "source": [
    "IdSmallGroup(Q_6);"
   ]
  },
  {
   "cell_type": "code",
   "execution_count": 90,
   "metadata": {
    "vscode": {
     "languageId": "gap"
    }
   },
   "outputs": [
    {
     "name": "stdout",
     "output_type": "stream",
     "text": [
      "\n",
      "1\n",
      "\n",
      "2\n",
      "\n",
      "3\n",
      "\n",
      "4\n",
      "\n",
      "5\n",
      "\n",
      "6\n",
      "\n",
      "7\n",
      "\n",
      "8\n",
      "\n",
      "9\n",
      "\n",
      "10\n",
      "\n",
      "11\n",
      "\n",
      "12\n",
      "\n",
      "13\n",
      "\n",
      "14\n",
      "\n",
      "15\n",
      "\n",
      "16\n",
      "\n",
      "17\n",
      "\n",
      "18\n",
      "\n",
      "19\n",
      "\n",
      "20\n",
      "\n",
      "21\n",
      "\n",
      "22\n",
      "\n",
      "23\n",
      "\n",
      "24\n",
      "\n",
      "25\n",
      "\n",
      "26\n",
      "\n",
      "27\n",
      "\n",
      "28\n",
      "\n",
      "29\n",
      "\n",
      "30\n",
      "\n",
      "31\n",
      "\n",
      "32\n",
      "\n",
      "33\n",
      "\n",
      "34\n",
      "\n",
      "35\n",
      "\n",
      "36\n",
      "\n",
      "37\n",
      "\n",
      "38\n",
      "\n",
      "39\n",
      "\n",
      "40\n",
      "\n",
      "41\n",
      "\n",
      "42\n",
      "\n",
      "43\n",
      "\n",
      "44\n",
      "\n",
      "45\n",
      "\n",
      "46\n",
      "\n",
      "47\n",
      "\n",
      "48\n",
      "\n",
      "49\n",
      "\n",
      "50\n",
      "\n",
      "51\n",
      "\n",
      "52\n",
      "\n",
      "53\n",
      "\n",
      "54\n",
      "\n",
      "55\n",
      "\n",
      "56\n",
      "\n",
      "57\n",
      "\n",
      "58\n",
      "\n",
      "59\n",
      "\n",
      "60\n",
      "\n",
      "61\n",
      "\n",
      "62\n",
      "\n",
      "63\n",
      "\n",
      "64\n",
      "\n",
      "65\n",
      "\n",
      "66\n",
      "\n",
      "67\n",
      "\n",
      "68\n",
      "\n",
      "69\n",
      "\n",
      "70\n",
      "\n",
      "71\n",
      "\n",
      "72\n",
      "\n",
      "73\n",
      "\n",
      "74\n",
      "\n",
      "75\n",
      "\n",
      "76\n",
      "\n",
      "77\n",
      "\n",
      "78\n",
      "\n",
      "79\n",
      "\n",
      "80\n",
      "\n",
      "81\n",
      "\n",
      "82\n",
      "\n",
      "83\n",
      "\n",
      "84\n",
      "\n",
      "85\n",
      "\n",
      "86\n",
      "\n",
      "87\n",
      "\n",
      "88\n",
      "\n",
      "89\n",
      "\n",
      "90\n",
      "\n",
      "91\n",
      "\n",
      "92\n",
      "\n",
      "93\n",
      "\n",
      "94\n",
      "\n",
      "95\n",
      "\n",
      "96\n",
      "\n",
      "97\n",
      "\n",
      "98\n",
      "\n",
      "99\n",
      "\n",
      "100\n",
      "\n",
      "101\n",
      "\n",
      "102\n",
      "\n",
      "103\n",
      "\n",
      "104\n",
      "\n",
      "105\n",
      "\n",
      "106\n",
      "\n",
      "107\n",
      "\n",
      "108\n",
      "\n",
      "109\n",
      "\n",
      "110\n",
      "\n",
      "111\n",
      "\n",
      "112\n",
      "\n",
      "113\n",
      "\n",
      "114\n",
      "\n",
      "115\n",
      "\n",
      "116\n",
      "\n",
      "117\n",
      "\n",
      "118\n",
      "\n",
      "119\n",
      "\n",
      "120\n",
      "\n",
      "121\n",
      "\n",
      "122\n",
      "\n",
      "123\n",
      "\n",
      "124\n",
      "\n",
      "125\n",
      "\n",
      "126\n",
      "\n",
      "127\n",
      "\n",
      "128\n"
     ]
    },
    {
     "data": {
      "text/plain": [
       "0"
      ]
     },
     "execution_count": 90,
     "metadata": {
      "text/plain": ""
     },
     "output_type": "execute_result"
    }
   ],
   "source": [
    "dec_sort_3:=[];;\n",
    "index:=0;;\n",
    "for i in dec_sort_2 do \n",
    "    index:=index+1;;\n",
    "    Print(\"\\n\");\n",
    "    Print(index);\n",
    "    Print(\"\\n\");\n",
    "    c_1:=0;\n",
    "    c_2:=0;\n",
    "    c_6:=0;\n",
    "    c_7:=0;\n",
    "    c_8:=0;\n",
    "    for j in LowIndexSubgroups(i, 2) do\n",
    "        hom:=EpimorphismPGroup(j,2,2);\n",
    "        J := Image(hom);\n",
    "\n",
    "        if IsPqIsomorphicPGroup( J, Q_1 ) then\n",
    "            c_1:=c_1+1;\n",
    "        elif IsPqIsomorphicPGroup( J, Q_2 ) then\n",
    "            c_2:=c_2+1;\n",
    "        # elif IsIsomorphicPGroup( J, Q_3 ) then\n",
    "        #     c_3:=c_3+1;\n",
    "        # elif IsIsomorphicPGroup( J, Q_4 ) then\n",
    "        #     c_4:=c_4+1;\n",
    "        # elif IsIsomorphicPGroup( J, Q_5 ) then\n",
    "        #     c_5:=c_5+1;\n",
    "        elif IsPqIsomorphicPGroup( J, Q_6 ) then\n",
    "            c_6:=c_6+1;\n",
    "        elif IsPqIsomorphicPGroup( J, Q_7 ) then\n",
    "            c_7:=c_7+1;\n",
    "        elif IsPqIsomorphicPGroup( J, Q_8 ) then\n",
    "            c_8:=c_8+1;\n",
    "        fi;\n",
    "    od;\n",
    "    if c_1=8 and c_2=4 and c_6=1 and c_7=1 and c_8=1 then\n",
    "        Append(dec_sort_3, [i]);;\n",
    "    fi;\n",
    "od;\n",
    "\n",
    "Length(dec_sort_3);"
   ]
  },
  {
   "cell_type": "code",
   "execution_count": null,
   "metadata": {
    "vscode": {
     "languageId": "gap"
    }
   },
   "outputs": [
    {
     "name": "stderr",
     "output_type": "stream",
     "text": [
      "Error, Variable: 'dec_sort_3' must have a value\n",
      "not in any function at stream:1\n"
     ]
    },
    {
     "ename": "",
     "evalue": "",
     "output_type": "error",
     "traceback": [
      "\u001b[1;31mThe Kernel crashed while executing code in the current cell or a previous cell. \n",
      "\u001b[1;31mPlease review the code in the cell(s) to identify a possible cause of the failure. \n",
      "\u001b[1;31mClick <a href='https://aka.ms/vscodeJupyterKernelCrash'>here</a> for more info. \n",
      "\u001b[1;31mView Jupyter <a href='command:jupyter.viewOutput'>log</a> for further details."
     ]
    }
   ],
   "source": [
    "Length(dec_sort_3);"
   ]
  },
  {
   "cell_type": "code",
   "execution_count": null,
   "metadata": {
    "vscode": {
     "languageId": "gap"
    }
   },
   "outputs": [
    {
     "data": {
      "text/plain": [
       "[ 8192, 8192, 8192, 8192, 8192, 8192, 8192, 8192, 8192, 8192, 8192, 8192,   8192, 8192, 4096, 4096, 4096, 4096, 4096, 4096, 4096, 4096, 4096, 4096,   4096, 4096 ]"
      ]
     },
     "metadata": {},
     "output_type": "display_data"
    }
   ],
   "source": [
    "List(dec_sort_2, Size);"
   ]
  },
  {
   "cell_type": "code",
   "execution_count": null,
   "metadata": {
    "vscode": {
     "languageId": "gap"
    }
   },
   "outputs": [
    {
     "data": {
      "text/plain": [
       "9"
      ]
     },
     "metadata": {},
     "output_type": "display_data"
    }
   ],
   "source": [
    "NuclearRank(dec_sort_2[5]);"
   ]
  }
 ],
 "metadata": {
  "kernelspec": {
   "display_name": "GAP 4",
   "language": "gap",
   "name": "gap-4"
  },
  "language_info": {
   "codemirror_mode": "gap",
   "file_extension": ".g",
   "mimetype": "text/x-gap",
   "name": "GAP 4",
   "nbconvert_exporter": "",
   "pygments_lexer": "gap",
   "version": "4.12.2"
  }
 },
 "nbformat": 4,
 "nbformat_minor": 2
}
