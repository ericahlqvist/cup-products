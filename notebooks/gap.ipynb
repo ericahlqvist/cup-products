{
 "cells": [
  {
   "cell_type": "markdown",
   "metadata": {},
   "source": [
    "The following notebook provides some examples on how to use the CRIME and the COHOMOLO package in GAP in order to compute (part of) some cohomology rings $H^*(G, \\mathbb{F}_p)$, where $G$ is a $p$-group. "
   ]
  },
  {
   "cell_type": "markdown",
   "metadata": {},
   "source": [
    "For instructions on how to install GAP visit https://www.gap-system.org/Download/ (I used homebrew on my macbook).\n",
    "\n",
    "To get GAP into your jupyter notebook visit https://github.com/gap-packages/JupyterKernel\n"
   ]
  },
  {
   "cell_type": "markdown",
   "metadata": {},
   "source": [
    "First let us look at the dihedral group $D_8=\\langle s, r \\mid r^4=s^2=(sr)^2 =1\\rangle$ and the quaternion group ${Q} _{8}=\\langle a,b\\mid a^{4}=1,a^{2}=b^{2},ba=a^{-1}b\\rangle $."
   ]
  },
  {
   "cell_type": "code",
   "execution_count": 2,
   "metadata": {
    "vscode": {
     "languageId": "gap"
    }
   },
   "outputs": [],
   "source": [
    "G:= DihedralGroup(8);; q8 := SmallGroup(8,4);;"
   ]
  },
  {
   "cell_type": "markdown",
   "metadata": {},
   "source": [
    "CRIME requires $G$ to be a permutation group"
   ]
  },
  {
   "cell_type": "code",
   "execution_count": 113,
   "metadata": {
    "vscode": {
     "languageId": "gap"
    }
   },
   "outputs": [
    {
     "data": {
      "text/plain": [
       "8"
      ]
     },
     "execution_count": 113,
     "metadata": {
      "text/plain": ""
     },
     "output_type": "execute_result"
    }
   ],
   "source": [
    "G_perm:= Group((1,2,3,4), (1,2)(3,4));; q8_perm:= Group((1,2,4,7)(3,6,8,5), (1,3,4,8)(2,5,7,6));; Size(q8_perm);"
   ]
  },
  {
   "cell_type": "markdown",
   "metadata": {},
   "source": [
    "Next we will load the package CRIME which we will use to compute the cohomology ring $H^*(G, \\mathbb{F}_2)$ is degree 1 and 2."
   ]
  },
  {
   "cell_type": "code",
   "execution_count": 3,
   "metadata": {
    "vscode": {
     "languageId": "gap"
    }
   },
   "outputs": [
    {
     "data": {
      "text/plain": [
       "true"
      ]
     },
     "execution_count": 2,
     "metadata": {
      "text/plain": ""
     },
     "output_type": "execute_result"
    },
    {
     "data": {
      "text/plain": [
       "true"
      ]
     },
     "execution_count": 3,
     "metadata": {
      "text/plain": ""
     },
     "output_type": "execute_result"
    }
   ],
   "source": [
    "LoadPackage(\"crime\"); LoadPackage(\"cohomolo\");"
   ]
  },
  {
   "cell_type": "code",
   "execution_count": 121,
   "metadata": {
    "vscode": {
     "languageId": "gap"
    }
   },
   "outputs": [
    {
     "data": {
      "text/plain": [
       "true"
      ]
     },
     "execution_count": 118,
     "metadata": {
      "text/plain": ""
     },
     "output_type": "execute_result"
    }
   ],
   "source": [
    "# Create cohomology object\n",
    "\n",
    "C:= CohomologyObject(G);;\n",
    "C2:= CohomologyObject(q8);;\n",
    "\n",
    "e:=One(GF(2));;\n",
    "M := [[e]];; IsMatrix(M); \n",
    "mats := [M, M];;\n",
    "\n",
    "chr:=CHR(G_perm,2, 0, mats);;\n",
    "chr2:=CHR(q8_perm,2, 0, mats);;"
   ]
  },
  {
   "cell_type": "markdown",
   "metadata": {},
   "source": [
    "Let us look at the rank of the cohomology groups in degree 1 and 2:"
   ]
  },
  {
   "cell_type": "code",
   "execution_count": 124,
   "metadata": {
    "vscode": {
     "languageId": "gap"
    }
   },
   "outputs": [
    {
     "data": {
      "text/plain": [
       "[ 2, 3 ]"
      ]
     },
     "execution_count": 123,
     "metadata": {
      "text/plain": ""
     },
     "output_type": "execute_result"
    },
    {
     "data": {
      "text/plain": [
       "[ 2, 2 ]"
      ]
     },
     "execution_count": 124,
     "metadata": {
      "text/plain": ""
     },
     "output_type": "execute_result"
    }
   ],
   "source": [
    "[FirstCohomologyDimension(chr), SecondCohomologyDimension(chr)]; # D_8\n",
    "[FirstCohomologyDimension(chr2), SecondCohomologyDimension(chr2)]; # Q_8\n"
   ]
  },
  {
   "cell_type": "markdown",
   "metadata": {},
   "source": [
    "Let us now compute the generators and relations for the cohomology ring"
   ]
  },
  {
   "cell_type": "code",
   "execution_count": 46,
   "metadata": {
    "vscode": {
     "languageId": "gap"
    }
   },
   "outputs": [
    {
     "data": {
      "text/plain": [
       "[ 1, 1, 2 ]"
      ]
     },
     "execution_count": 45,
     "metadata": {
      "text/plain": ""
     },
     "output_type": "execute_result"
    },
    {
     "data": {
      "text/plain": [
       "[ [ z, y, x ], [ z*y+y^2 ] ]"
      ]
     },
     "execution_count": 46,
     "metadata": {
      "text/plain": ""
     },
     "output_type": "execute_result"
    }
   ],
   "source": [
    "CohomologyGenerators(C,10); CohomologyRelators(C,10);"
   ]
  },
  {
   "cell_type": "markdown",
   "metadata": {},
   "source": [
    "Note that all cohomology groups are vector spaces over $\\mathbb{F}_p$ and hence determined up to isomorphism by their dimension. \n",
    "\n",
    "We see that $H^1(G, \\mathbb{F}_2)=\\langle y, x\\rangle\\cong \\mathbb{F}_2^2$ and $H^2(G, \\mathbb{F}_2)=\\langle x, y^2, z^2\\rangle \\cong \\mathbb{F}_2^3$ and the cup product satisfies $z*y+y^2=0$.  \n",
    "\n",
    "This looks correct since we expect that the minimal number of generators of $D_8$ is $\\text{dim}\\ H^1(D_8, \\mathbb{F}_2)=2$ and the minimal number of generating relations is $\\text{dim}\\ H^2(D_8, \\mathbb{F}_2)=3$. "
   ]
  },
  {
   "cell_type": "code",
   "execution_count": 108,
   "metadata": {
    "vscode": {
     "languageId": "gap"
    }
   },
   "outputs": [
    {
     "data": {
      "text/plain": [
       "[ 1, 1, 4 ]"
      ]
     },
     "execution_count": 107,
     "metadata": {
      "text/plain": ""
     },
     "output_type": "execute_result"
    },
    {
     "data": {
      "text/plain": [
       "[ [ z, y, x ], [ z^2+z*y+y^2, y^3 ] ]"
      ]
     },
     "execution_count": 108,
     "metadata": {
      "text/plain": ""
     },
     "output_type": "execute_result"
    }
   ],
   "source": [
    "CohomologyGenerators(C2,10); CohomologyRelators(C2,10);"
   ]
  },
  {
   "cell_type": "code",
   "execution_count": null,
   "metadata": {
    "vscode": {
     "languageId": "gap"
    }
   },
   "outputs": [],
   "source": []
  },
  {
   "cell_type": "markdown",
   "metadata": {},
   "source": [
    "This tells us that $Q_8$ only needs only two generating relations to generate all relations as a normal subgroup of the free group on $a$ and $b$. This follows since the normal closure of $\\langle a^2b^{-2}, abab^{-1}\\rangle$ inside the free group on $a$ and $b$ contains $a^4$.   "
   ]
  },
  {
   "cell_type": "code",
   "execution_count": 145,
   "metadata": {
    "vscode": {
     "languageId": "gap"
    }
   },
   "outputs": [
    {
     "data": {
      "text/plain": [
       "2"
      ]
     },
     "execution_count": 145,
     "metadata": {
      "text/plain": ""
     },
     "output_type": "execute_result"
    }
   ],
   "source": [
    "D:=DerivedSubgroup(q8);; Size(D);"
   ]
  },
  {
   "cell_type": "code",
   "execution_count": 143,
   "metadata": {
    "vscode": {
     "languageId": "gap"
    }
   },
   "outputs": [
    {
     "data": {
      "text/plain": [
       "2"
      ]
     },
     "execution_count": 143,
     "metadata": {
      "text/plain": ""
     },
     "output_type": "execute_result"
    }
   ],
   "source": [
    "D2:=DerivedSubgroup(q8);; Size(D2);"
   ]
  },
  {
   "cell_type": "markdown",
   "metadata": {},
   "source": [
    "What about the integral cohomology $H^*(G, \\mathbb{Z})$?"
   ]
  },
  {
   "cell_type": "code",
   "execution_count": 5,
   "metadata": {
    "vscode": {
     "languageId": "gap"
    }
   },
   "outputs": [
    {
     "name": "stdout",
     "output_type": "stream",
     "text": [
      "#I  polymake command not found. Please set POLYMAKE_COMMAND by hand\n",
      "#I  HAP warning: Set DISPLAY_PATH manually if needed.\n",
      "#I  HAP warning: Set BROWSER_PATH manually if needed.\n"
     ]
    },
    {
     "data": {
      "text/plain": [
       "true"
      ]
     },
     "execution_count": 5,
     "metadata": {
      "text/plain": ""
     },
     "output_type": "execute_result"
    }
   ],
   "source": [
    "LoadPackage(\"hap\"); "
   ]
  },
  {
   "cell_type": "code",
   "execution_count": 30,
   "metadata": {
    "vscode": {
     "languageId": "gap"
    }
   },
   "outputs": [
    {
     "data": {
      "text/plain": [
       "[  ]"
      ]
     },
     "execution_count": 30,
     "metadata": {
      "text/plain": ""
     },
     "output_type": "execute_result"
    }
   ],
   "source": [
    "GroupCohomology(QuaternionGroup(8),3);"
   ]
  },
  {
   "cell_type": "code",
   "execution_count": 35,
   "metadata": {
    "vscode": {
     "languageId": "gap"
    }
   },
   "outputs": [
    {
     "data": {
      "text/plain": [
       "[ 2 ]"
      ]
     },
     "execution_count": 35,
     "metadata": {
      "text/plain": ""
     },
     "output_type": "execute_result"
    }
   ],
   "source": [
    "GroupCohomology(Group((1,2), (3,4)),3);"
   ]
  },
  {
   "cell_type": "code",
   "execution_count": 18,
   "metadata": {
    "vscode": {
     "languageId": "gap"
    }
   },
   "outputs": [
    {
     "data": {
      "text/plain": [
       "4"
      ]
     },
     "execution_count": 18,
     "metadata": {
      "text/plain": ""
     },
     "output_type": "execute_result"
    }
   ],
   "source": [
    "Cx2:= Group((1,2), (3,4));; Size(Cx2);"
   ]
  },
  {
   "cell_type": "code",
   "execution_count": 23,
   "metadata": {
    "vscode": {
     "languageId": "gap"
    }
   },
   "outputs": [
    {
     "data": {
      "text/plain": [
       "true"
      ]
     },
     "execution_count": 21,
     "metadata": {
      "text/plain": ""
     },
     "output_type": "execute_result"
    }
   ],
   "source": [
    "\n",
    "\n",
    "e:=One(GF(2));;\n",
    "M := [[e]];; IsMatrix(M); \n",
    "mats := [M, M];;\n",
    "\n",
    "chr:=CHR(Cx2,2, 0, mats);;"
   ]
  },
  {
   "cell_type": "code",
   "execution_count": 24,
   "metadata": {
    "vscode": {
     "languageId": "gap"
    }
   },
   "outputs": [
    {
     "data": {
      "text/plain": [
       "[ 2, 3 ]"
      ]
     },
     "execution_count": 24,
     "metadata": {
      "text/plain": ""
     },
     "output_type": "execute_result"
    }
   ],
   "source": [
    "[FirstCohomologyDimension(chr), SecondCohomologyDimension(chr)];"
   ]
  },
  {
   "cell_type": "code",
   "execution_count": 3,
   "metadata": {
    "vscode": {
     "languageId": "gap"
    }
   },
   "outputs": [
    {
     "data": {
      "text/plain": [
       "[ <pc group of size 8 with 3 generators>, Group([ f3 ]), Group([  ]) ]"
      ]
     },
     "execution_count": 3,
     "metadata": {
      "text/plain": ""
     },
     "output_type": "execute_result"
    }
   ],
   "source": [
    "PCentralSeries(G);"
   ]
  },
  {
   "cell_type": "markdown",
   "metadata": {},
   "source": [
    "Next we look at finding the $Q_2(G_K^{ur})$ of an imaginary quadratic field with class group of 2-rank 4."
   ]
  },
  {
   "cell_type": "code",
   "execution_count": 1,
   "metadata": {
    "vscode": {
     "languageId": "gap"
    }
   },
   "outputs": [],
   "source": [
    "F := FreeGroup( \"a\", \"b\", \"c\", \"d\" );;\n"
   ]
  },
  {
   "cell_type": "code",
   "execution_count": 5,
   "metadata": {
    "vscode": {
     "languageId": "gap"
    }
   },
   "outputs": [],
   "source": [
    "a:=F.1;;\n",
    "b:=F.2;;\n",
    "c:=F.3;;\n",
    "d:=F.4;;"
   ]
  },
  {
   "cell_type": "code",
   "execution_count": 12,
   "metadata": {
    "vscode": {
     "languageId": "gap"
    }
   },
   "outputs": [],
   "source": [
    "#(a,b)*(a,c)*(b,c), a^2*(a,c)*b^2*(b,d), (a,c)*b^2*c^2, a^2*(a,b)*(c,d), a^2*(a,c)*(a,d)*b^2*d^2\n",
    "a_b:=a*b*a^-1*b^-1;;\n",
    "a_c:=a*c*a^-1*c^-1;;\n",
    "a_d:=a*d*a^-1*d^-1;;\n",
    "b_c:=b*c*b^-1*c^-1;;\n",
    "b_d:=b*d*b^-1*d^-1;;\n",
    "c_d:=c*d*c^-1*d^-1;;\n",
    "\n",
    "rels:=[a_b*a_c*b_c, a^2*a_c*b^2*b_d, a_c*b^2*c^2, a^2*a_b*c_d, a^2*a_c*a_d*b^2*d^2];; #5469\n",
    "#rels:=[a^2*a_b*a_d*b^2*b_c, a^2*a_b*a_c*a_d*c^2, a_c*b^2*c_d, a_b*b^2*d^2];; # a cup rank 4 example --> nuc rank 11\n",
    "#rels:=[a^2*a_d*b^2, a^2*a_d*b_d, a_b*a_c*a_d*c^2, a^2*a_b*b_c*c_d, a^2*a_b*a_d*d^2];; # another cup rank 5 example --> nuc rank 7"
   ]
  },
  {
   "cell_type": "code",
   "execution_count": 14,
   "metadata": {
    "vscode": {
     "languageId": "gap"
    }
   },
   "outputs": [
    {
     "data": {
      "text/plain": [
       "<fp group on the generators [ a, b, c, d ]>"
      ]
     },
     "execution_count": 14,
     "metadata": {
      "text/plain": ""
     },
     "output_type": "execute_result"
    }
   ],
   "source": [
    "G:=F/rels;"
   ]
  },
  {
   "cell_type": "code",
   "execution_count": 31,
   "metadata": {
    "vscode": {
     "languageId": "gap"
    }
   },
   "outputs": [
    {
     "name": "stderr",
     "output_type": "stream",
     "text": [
      "Error, the group identification for groups of size 512 is not available at /opt/homebrew/Cellar/gap/4.12.2/libexec/pkg/smallgrp/gap/small.gi:314 called from\n",
      "<function \"IdGroup generic method for groups\">( <arguments> )\n",
      " called from read-eval loop at stream:3\n"
     ]
    },
    {
     "data": {
      "text/plain": [
       "6"
      ]
     },
     "execution_count": 31,
     "metadata": {
      "text/plain": ""
     },
     "output_type": "execute_result"
    }
   ],
   "source": [
    "hom:=EpimorphismPGroup(G,2,2);;\n",
    "Q_F := Image(hom);;\n",
    "IdSmallGroup(Q_F);\n",
    "NuclearRank(Q_F);\n",
    "# size 512 as should"
   ]
  },
  {
   "cell_type": "code",
   "execution_count": 1,
   "metadata": {
    "vscode": {
     "languageId": "gap"
    }
   },
   "outputs": [
    {
     "data": {
      "text/plain": [
       "true"
      ]
     },
     "execution_count": 1,
     "metadata": {
      "text/plain": ""
     },
     "output_type": "execute_result"
    }
   ],
   "source": [
    "LoadPackage(\"ANUPQ\"); # to run IsIsom "
   ]
  },
  {
   "cell_type": "code",
   "execution_count": 27,
   "metadata": {
    "vscode": {
     "languageId": "gap"
    }
   },
   "outputs": [
    {
     "name": "stderr",
     "output_type": "stream",
     "text": [
      "Error, LogTo: cannot log to log.txt in\n",
      "  LOG_TO( expandname ); at /opt/homebrew/Cellar/gap/4.12.2/libexec/lib/streams.gi:207 called from \n",
      "<function \"LogTo for output file\">( <arguments> )\n",
      " called from read-eval loop at stream:2\n"
     ]
    }
   ],
   "source": [
    "##Q_3_candidates_all; // 81+1388+8784+35776+72704+32768 = 151501 \n",
    "Dec:=PqDescendants( Q_F: ClassBound := 3, StepSize := 1, SpaceEfficient := true );;\n",
    "#Length(Dec);\n",
    "#List(Dec, Size);"
   ]
  },
  {
   "cell_type": "code",
   "execution_count": null,
   "metadata": {
    "vscode": {
     "languageId": "gap"
    }
   },
   "outputs": [],
   "source": [
    "LoadPackage(\"ANUPQ\"); # to run IsIsom "
   ]
  },
  {
   "cell_type": "code",
   "execution_count": 7,
   "metadata": {
    "vscode": {
     "languageId": "gap"
    }
   },
   "outputs": [],
   "source": [
    "# Rank 3\n",
    "F := FreeGroup( \"a\", \"b\", \"c\");;\n",
    "a:=F.1;;\n",
    "b:=F.2;;\n",
    "c:=F.3;;\n",
    "\n",
    "a_b:=a^-1*b^-1*a*b;;\n",
    "a_c:=a^-1*c^-1*a*c;;\n",
    "\n",
    "b_c:=b^-1*c^-1*b*c;;\n"
   ]
  },
  {
   "cell_type": "code",
   "execution_count": null,
   "metadata": {
    "vscode": {
     "languageId": "gap"
    }
   },
   "outputs": [],
   "source": []
  },
  {
   "cell_type": "code",
   "execution_count": 8,
   "metadata": {
    "vscode": {
     "languageId": "gap"
    }
   },
   "outputs": [],
   "source": [
    "rels:=[a_b, a^2*a_c];;"
   ]
  },
  {
   "cell_type": "code",
   "execution_count": 9,
   "metadata": {
    "vscode": {
     "languageId": "gap"
    }
   },
   "outputs": [
    {
     "data": {
      "text/plain": [
       "[ a^-1*b^-1*a*b, a*c^-1*a*c ]"
      ]
     },
     "execution_count": 9,
     "metadata": {
      "text/plain": ""
     },
     "output_type": "execute_result"
    }
   ],
   "source": [
    "rels;"
   ]
  },
  {
   "cell_type": "code",
   "execution_count": 20,
   "metadata": {
    "vscode": {
     "languageId": "gap"
    }
   },
   "outputs": [
    {
     "data": {
      "text/plain": [
       "128"
      ]
     },
     "execution_count": 20,
     "metadata": {
      "text/plain": ""
     },
     "output_type": "execute_result"
    }
   ],
   "source": [
    "G:=F/rels;;\n",
    "hom:=EpimorphismPGroup(G,2,2);;\n",
    "Q_F := Image(hom);;\n",
    "Size(Q_F);"
   ]
  },
  {
   "cell_type": "code",
   "execution_count": 22,
   "metadata": {
    "vscode": {
     "languageId": "gap"
    }
   },
   "outputs": [
    {
     "data": {
      "text/plain": [
       "6"
      ]
     },
     "execution_count": 21,
     "metadata": {
      "text/plain": ""
     },
     "output_type": "execute_result"
    },
    {
     "data": {
      "text/plain": [
       "8"
      ]
     },
     "execution_count": 22,
     "metadata": {
      "text/plain": ""
     },
     "output_type": "execute_result"
    }
   ],
   "source": [
    "NuclearRank(Q_F);\n",
    "MultiplicatorRank(Q_F);"
   ]
  },
  {
   "cell_type": "code",
   "execution_count": 24,
   "metadata": {
    "vscode": {
     "languageId": "gap"
    }
   },
   "outputs": [
    {
     "data": {
      "text/plain": [
       "13618"
      ]
     },
     "execution_count": 24,
     "metadata": {
      "text/plain": ""
     },
     "output_type": "execute_result"
    }
   ],
   "source": [
    "Dec:=PqDescendants( Q_F: ClassBound := 3);;\n",
    "\n",
    "Length(Dec);\n"
   ]
  },
  {
   "cell_type": "code",
   "execution_count": 36,
   "metadata": {
    "vscode": {
     "languageId": "gap"
    }
   },
   "outputs": [
    {
     "data": {
      "text/plain": [
       "0"
      ]
     },
     "execution_count": 32,
     "metadata": {
      "text/plain": ""
     },
     "output_type": "execute_result"
    },
    {
     "data": {
      "text/plain": [
       "335"
      ]
     },
     "execution_count": 35,
     "metadata": {
      "text/plain": ""
     },
     "output_type": "execute_result"
    },
    {
     "data": {
      "text/plain": [
       "335"
      ]
     },
     "execution_count": 36,
     "metadata": {
      "text/plain": ""
     },
     "output_type": "execute_result"
    }
   ],
   "source": [
    "a:=0;\n",
    "dec_sort_ab:=[];;\n",
    "for i in Dec do\n",
    "    if AbelianInvariants(i)=[2,8,8] then\n",
    "        a:=a+1;\n",
    "        Append(dec_sort_ab, [i]);\n",
    "    fi;\n",
    "od; # 48 of them are [2,8,8]\n",
    "a;\n",
    "Length(dec_sort_ab);"
   ]
  },
  {
   "cell_type": "markdown",
   "metadata": {},
   "source": [
    "Leaves us with 335 candidates"
   ]
  },
  {
   "cell_type": "code",
   "execution_count": 37,
   "metadata": {
    "vscode": {
     "languageId": "gap"
    }
   },
   "outputs": [],
   "source": [
    "dec_sort_2:=[];;\n",
    "for i in dec_sort_ab do \n",
    "    c_1:=0;\n",
    "    c_2:=0;\n",
    "    c_3:=0;\n",
    "    for j in List(LowIndexSubgroups(i, 2), AbelianInvariants) do\n",
    "        if j=[4,4,4,8] then\n",
    "            c_2:=c_2+1;\n",
    "        elif j=[2,4,4,8] then\n",
    "            c_1:=c_1+1;\n",
    "        elif j=[2,8,8] then\n",
    "            c_3:=c_3+1;\n",
    "        fi;\n",
    "    od;\n",
    "    if c_1=2 and c_2=1 and c_3=5 then\n",
    "        Append(dec_sort_2, [i]);;\n",
    "    fi;\n",
    "od;"
   ]
  },
  {
   "cell_type": "code",
   "execution_count": 38,
   "metadata": {
    "vscode": {
     "languageId": "gap"
    }
   },
   "outputs": [
    {
     "data": {
      "text/plain": [
       "26"
      ]
     },
     "execution_count": 38,
     "metadata": {
      "text/plain": ""
     },
     "output_type": "execute_result"
    }
   ],
   "source": [
    "Length(dec_sort_2);"
   ]
  },
  {
   "cell_type": "code",
   "execution_count": 41,
   "metadata": {
    "vscode": {
     "languageId": "gap"
    }
   },
   "outputs": [
    {
     "data": {
      "text/plain": [
       "[ 8192, 8192, 8192, 8192, 8192, 8192, 8192, 8192, 8192, 8192, 8192, 8192,   8192, 8192, 4096, 4096, 4096, 4096, 4096, 4096, 4096, 4096, 4096, 4096,   4096, 4096 ]"
      ]
     },
     "execution_count": 41,
     "metadata": {
      "text/plain": ""
     },
     "output_type": "execute_result"
    }
   ],
   "source": [
    "List(dec_sort_2, Size);"
   ]
  },
  {
   "cell_type": "code",
   "execution_count": 44,
   "metadata": {
    "vscode": {
     "languageId": "gap"
    }
   },
   "outputs": [
    {
     "data": {
      "text/plain": [
       "[ 9, 9, 9, 9, 9, 9, 9, 9, 9, 9, 9, 9, 9, 9, 8, 8, 8, 8, 8, 8, 8, 8, 8, 8, 8,   8 ]"
      ]
     },
     "execution_count": 43,
     "metadata": {
      "text/plain": ""
     },
     "output_type": "execute_result"
    },
    {
     "data": {
      "text/plain": [
       "[ 11, 11, 11, 11, 11, 11, 11, 11, 11, 11, 11, 11, 11, 11, 11, 11, 11, 11, 11,   11, 11, 11, 11, 11, 11, 11 ]"
      ]
     },
     "execution_count": 44,
     "metadata": {
      "text/plain": ""
     },
     "output_type": "execute_result"
    }
   ],
   "source": [
    "List(dec_sort_2,NuclearRank);\n",
    "List(dec_sort_2,MultiplicatorRank);"
   ]
  },
  {
   "cell_type": "code",
   "execution_count": 49,
   "metadata": {
    "vscode": {
     "languageId": "gap"
    }
   },
   "outputs": [
    {
     "data": {
      "text/plain": [
       "532"
      ]
     },
     "execution_count": 49,
     "metadata": {
      "text/plain": ""
     },
     "output_type": "execute_result"
    }
   ],
   "source": [
    "dec_1:=PqDescendants( dec_sort_2[18]: ClassBound := 4, StepSize := 1);;\n",
    "Length(dec_1);\n",
    "#dec_2:=PqDescendants( dec_sort_2[1]: ClassBound := 4, StepSize := 2);;\n",
    "#dec_3:=PqDescendants( dec_sort_2[1]: ClassBound := 4, StepSize := 3);;#\n",
    "#dec_4:=PqDescendants( dec_sort_2[1]: ClassBound := 4, StepSize := 4);;\n",
    "#dec_5:=PqDescendants( dec_sort_2[1]: ClassBound := 4, StepSize := 5);;\n",
    "#dec_6:=PqDescendants( dec_sort_2[1]: ClassBound := 4, StepSize := 6);;"
   ]
  },
  {
   "cell_type": "code",
   "execution_count": 52,
   "metadata": {
    "vscode": {
     "languageId": "gap"
    }
   },
   "outputs": [
    {
     "data": {
      "text/plain": [
       "529"
      ]
     },
     "execution_count": 52,
     "metadata": {
      "text/plain": ""
     },
     "output_type": "execute_result"
    }
   ],
   "source": [
    "cand_4:=[];;\n",
    "for i in dec_1 do\n",
    "    if AbelianInvariants(i)=[2,8,8] then \n",
    "        Append(cand_4, [i]);;\n",
    "    fi;\n",
    "od;\n",
    "Length(cand_4);"
   ]
  },
  {
   "cell_type": "code",
   "execution_count": 44,
   "metadata": {
    "vscode": {
     "languageId": "gap"
    }
   },
   "outputs": [
    {
     "data": {
      "text/plain": [
       "1048576"
      ]
     },
     "execution_count": 44,
     "metadata": {
      "text/plain": ""
     },
     "output_type": "execute_result"
    }
   ],
   "source": [
    "Size(cand_4[1]);"
   ]
  },
  {
   "cell_type": "code",
   "execution_count": 47,
   "metadata": {
    "vscode": {
     "languageId": "gap"
    }
   },
   "outputs": [
    {
     "data": {
      "text/plain": [
       "[ [ 2, 8, 8 ], [ 2, 4, 8, 8 ], [ 4, 8, 8, 8 ], [ 2, 4, 8, 16 ], [ 2, 8, 16 ],   [ 2, 8, 16 ], [ 2, 8, 16 ], [ 2, 8, 16 ] ]"
      ]
     },
     "execution_count": 47,
     "metadata": {
      "text/plain": ""
     },
     "output_type": "execute_result"
    }
   ],
   "source": [
    "List(LowIndexSubgroups(cand_4[1],2), AbelianInvariants);"
   ]
  },
  {
   "cell_type": "code",
   "execution_count": 54,
   "metadata": {
    "vscode": {
     "languageId": "gap"
    }
   },
   "outputs": [],
   "source": [
    "cand_4_sort:=[];;\n",
    "for i in cand_4 do \n",
    "    c_1:=0;\n",
    "    c_2:=0;\n",
    "    c_3:=0;\n",
    "    for j in List(LowIndexSubgroups(i, 2), AbelianInvariants) do\n",
    "        if j=[4,4,4,8] then\n",
    "            c_2:=c_2+1;\n",
    "        elif j=[2,4,4,8] then\n",
    "            c_1:=c_1+1;\n",
    "        elif j=[2,8,8] then\n",
    "            c_3:=c_3+1;\n",
    "        fi;\n",
    "    od;\n",
    "    if c_1=2 and c_2=1 and c_3=5 then\n",
    "        Append(cand_4_sort, [i]);;\n",
    "    fi;\n",
    "od;"
   ]
  },
  {
   "cell_type": "code",
   "execution_count": 55,
   "metadata": {
    "vscode": {
     "languageId": "gap"
    }
   },
   "outputs": [
    {
     "data": {
      "text/plain": [
       "508"
      ]
     },
     "execution_count": 55,
     "metadata": {
      "text/plain": ""
     },
     "output_type": "execute_result"
    }
   ],
   "source": [
    "Length(cand_4_sort);"
   ]
  },
  {
   "cell_type": "code",
   "execution_count": null,
   "metadata": {
    "vscode": {
     "languageId": "gap"
    }
   },
   "outputs": [],
   "source": []
  }
 ],
 "metadata": {
  "kernelspec": {
   "display_name": "GAP 4",
   "language": "gap",
   "name": "gap-4"
  },
  "language_info": {
   "codemirror_mode": "gap",
   "file_extension": ".g",
   "mimetype": "text/x-gap",
   "name": "GAP 4",
   "nbconvert_exporter": "",
   "pygments_lexer": "gap",
   "version": "4.12.2"
  }
 },
 "nbformat": 4,
 "nbformat_minor": 2
}
