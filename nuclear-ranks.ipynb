{
 "cells": [
  {
   "cell_type": "code",
   "execution_count": 1,
   "metadata": {
    "vscode": {
     "languageId": "gap"
    }
   },
   "outputs": [],
   "source": [
    "LoadPackage(\"anupq\");;"
   ]
  },
  {
   "cell_type": "code",
   "execution_count": 2,
   "metadata": {
    "vscode": {
     "languageId": "gap"
    }
   },
   "outputs": [],
   "source": [
    "LoadPackage(\"json\");;"
   ]
  },
  {
   "cell_type": "code",
   "execution_count": 17,
   "metadata": {
    "vscode": {
     "languageId": "gap"
    }
   },
   "outputs": [],
   "source": [
    "F := FreeGroup( \"a\", \"b\", \"c\", \"d\" );;\n",
    "\n",
    "a:=F.1;;\n",
    "b:=F.2;;\n",
    "c:=F.3;;\n",
    "d:=F.4;;\n",
    "\n",
    "a_b:=a*b*a^-1*b^-1;;\n",
    "a_c:=a*c*a^-1*c^-1;;\n",
    "a_d:=a*d*a^-1*d^-1;;\n",
    "b_c:=b*c*b^-1*c^-1;;\n",
    "b_d:=b*d*b^-1*d^-1;;\n",
    "c_d:=c*d*c^-1*d^-1;;\n",
    "\n",
    "a2:=a^2;;\n",
    "b2:=b^2;;\n",
    "c2:=c^2;;\n",
    "d2:=d^2;;\n"
   ]
  },
  {
   "cell_type": "code",
   "execution_count": 19,
   "metadata": {
    "vscode": {
     "languageId": "gap"
    }
   },
   "outputs": [
    {
     "data": {
      "text/plain": [
       "true"
      ]
     },
     "execution_count": 19,
     "metadata": {
      "text/plain": ""
     },
     "output_type": "execute_result"
    }
   ],
   "source": [
    "json_file := InputTextFile(\"data/discriminants/relators-[2,2,2,2]_4_mod_16.json\");;\n",
    "IsStream(json_file);"
   ]
  },
  {
   "cell_type": "code",
   "execution_count": 21,
   "metadata": {
    "vscode": {
     "languageId": "gap"
    }
   },
   "outputs": [
    {
     "data": {
      "text/plain": [
       "\"[a_b*a_c*b_c, a2*a_c*b2*b_d, a_c*b2*c2, a2*a_b*c_d, a2*a_c*a_d*b2*d2]\""
      ]
     },
     "execution_count": 21,
     "metadata": {
      "text/plain": ""
     },
     "output_type": "execute_result"
    }
   ],
   "source": [
    "r := JsonStreamToGap( json_file );;\n",
    "r[1].Relations;"
   ]
  },
  {
   "cell_type": "code",
   "execution_count": 22,
   "metadata": {
    "vscode": {
     "languageId": "gap"
    }
   },
   "outputs": [
    {
     "data": {
      "text/plain": [
       "\"s^2 + 5460\""
      ]
     },
     "execution_count": 22,
     "metadata": {
      "text/plain": ""
     },
     "output_type": "execute_result"
    }
   ],
   "source": [
    "r[1].Polynomial;"
   ]
  },
  {
   "cell_type": "code",
   "execution_count": 22,
   "metadata": {
    "vscode": {
     "languageId": "gap"
    }
   },
   "outputs": [
    {
     "name": "stderr",
     "output_type": "stream",
     "text": [
      "Error, List Element: <list>[987] must have an assigned value in\n",
      "  rels := EvalString( r[i].Relations ); at stream:2 called from \n",
      "<function \"unknown\">( <arguments> )\n",
      " called from read-eval loop at stream:10\n"
     ]
    }
   ],
   "source": [
    "for i in [1..1000] do\n",
    "    rels:=EvalString(r[i].Relations);;\n",
    "    G:=F/rels;; \n",
    "    hom:=EpimorphismPGroup(G,2,2);;\n",
    "    Q_F := Image(hom);;\n",
    "    #Print(NuclearRank(Q_F));\n",
    "    N:=NuclearRank(Q_F);;\n",
    "    M:=MultiplicatorRank(Q_F);;\n",
    "    AppendTo(\"p_rank_deg_2_4_2.json\", \"{\\\"Polynomial\\\": \\\"\", r[i].Polynomial, \"\\\", \\\"IdSmallGroup\\\": \\\"\", IdSmallGroup(Q_F), \"\\\", \\\"NucRk\\\": \\\"\", N, \"\\\", \\\"MulRk\\\": \\\"\", M, \"\\\", \\\"Diff\\\": \\\"\", M-N, \"\\\"}\\n\");;\n",
    "od;"
   ]
  },
  {
   "cell_type": "code",
   "execution_count": null,
   "metadata": {
    "vscode": {
     "languageId": "gap"
    }
   },
   "outputs": [],
   "source": []
  }
 ],
 "metadata": {
  "kernelspec": {
   "display_name": "GAP 4",
   "language": "gap",
   "name": "gap-4"
  },
  "language_info": {
   "codemirror_mode": "gap",
   "file_extension": ".g",
   "mimetype": "text/x-gap",
   "name": "GAP 4",
   "nbconvert_exporter": "",
   "pygments_lexer": "gap",
   "version": "4.12.2"
  }
 },
 "nbformat": 4,
 "nbformat_minor": 2
}
