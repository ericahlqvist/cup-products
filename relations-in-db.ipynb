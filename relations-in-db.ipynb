{
 "cells": [
  {
   "cell_type": "code",
   "execution_count": 38,
   "metadata": {},
   "outputs": [],
   "source": [
    "import subprocess\n",
    "import psycopg2\n",
    "import re"
   ]
  },
  {
   "cell_type": "code",
   "execution_count": 39,
   "metadata": {},
   "outputs": [
    {
     "name": "stdout",
     "output_type": "stream",
     "text": [
      "134059\n",
      "s^6 - 48*s^4 + 576*s^2 + 134059, s^6 + 172*s^4 + 7396*s^2 + 134059, s^6 - 156*s^4 + 6084*s^2 + 134059, s^6 - 104*s^4 + 2704*s^2 + 134059\n",
      "['s^6 - 48*s^4 + 576*s^2 + 134059', 's^6 + 172*s^4 + 7396*s^2 + 134059', 's^6 - 156*s^4 + 6084*s^2 + 134059', 's^6 - 104*s^4 + 2704*s^2 + 134059']\n",
      "[a_c^1, a^6a_b^1b_c^1, a^3a_b^2c^6]  \n",
      "\n",
      "Done:  ['[a_c^1, a^6*a_b^1*b_c^1, a^3*a_b^2*c^6] ']\n",
      "[a_b^2a_c^1b^3, b_c^1, a_b^1a_c^1c^3]  \n",
      "\n",
      "Done:  ['[a_c^1, a^6*a_b^1*b_c^1, a^3*a_b^2*c^6] ', '[a_b^2*a_c^1*b^3, b_c^1, a_b^1*a_c^1*c^3] ']\n",
      "[a_b^1, a^3a_c^2b^3, a^3a_b^2a_c^2b_c^2]  \n",
      "\n",
      "Done:  ['[a_c^1, a^6*a_b^1*b_c^1, a^3*a_b^2*c^6] ', '[a_b^2*a_c^1*b^3, b_c^1, a_b^1*a_c^1*c^3] ', '[a_b^1, a^3*a_c^2*b^3, a^3*a_b^2*a_c^2*b_c^2] ']\n",
      "The C program crashed\n",
      "\n",
      "Done:  ['[a_c^1, a^6*a_b^1*b_c^1, a^3*a_b^2*c^6] ', '[a_b^2*a_c^1*b^3, b_c^1, a_b^1*a_c^1*c^3] ', '[a_b^1, a^3*a_c^2*b^3, a^3*a_b^2*a_c^2*b_c^2] ']\n"
     ]
    }
   ],
   "source": [
    "\n",
    "\n",
    "# Connect to an existing database\n",
    "executable_path = './main-pol-sta'\n",
    "p = \"3\" # A prime \n",
    "with psycopg2.connect(\"dbname=p-rank-2\") as conn:\n",
    "\n",
    "    # Open a cursor to perform database operations\n",
    "    with conn.cursor() as cur:\n",
    "\n",
    "        # Query the database and obtain data as Python objects.\n",
    "        cur.execute(\"\"\"\n",
    "                    WITH OrderedRecords AS (\n",
    "                        SELECT\n",
    "                            D,\n",
    "                            L_pol,\n",
    "                            ROW_NUMBER() OVER (ORDER BY D) AS RowNum\n",
    "                        FROM p_3\n",
    "                    )\n",
    "                    SELECT D, L_pol\n",
    "                    FROM OrderedRecords\n",
    "                    WHERE RowNum >= (SELECT RowNum FROM OrderedRecords WHERE D = 134059)\n",
    "                    ORDER BY D\n",
    "                    LIMIT 1;\n",
    "                    \"\"\")\n",
    "        records = cur.fetchall()\n",
    "        \n",
    "        for record in records:\n",
    "            print(record[0])\n",
    "            print(record[1][1:-1])\n",
    "            pol_vec = record[1][1:-1].split(', ')\n",
    "            print(pol_vec)\n",
    "            relations = []\n",
    "            for pol in pol_vec:\n",
    "                program_arguments = [p, pol]\n",
    "                # Construct the command by combining the executable path and arguments\n",
    "                command = [executable_path]+program_arguments\n",
    "                \n",
    "                # Run the C program with arguments and capture its output\n",
    "                result = subprocess.run(command, capture_output=True, text=True)\n",
    "                full_output = result.stdout\n",
    "                marker_position = full_output.find('\"\"\"')\n",
    "                if marker_position != -1:\n",
    "                    output = full_output[marker_position+3:]\n",
    "                    modified_s = re.sub(r'(\\d)(?![,\\]])', r'\\1*', output)\n",
    "                    relations.append(modified_s)\n",
    "                    print(output, \"\\n\")\n",
    "                else:\n",
    "                    print(\"The C program crashed\\n\")\n",
    "                print(\"Done: \", relations)\n",
    "\n",
    "        # Make the changes to the database persistent\n",
    "        conn.commit()"
   ]
  },
  {
   "cell_type": "code",
   "execution_count": null,
   "metadata": {},
   "outputs": [],
   "source": []
  }
 ],
 "metadata": {
  "kernelspec": {
   "display_name": "base",
   "language": "python",
   "name": "python3"
  },
  "language_info": {
   "codemirror_mode": {
    "name": "ipython",
    "version": 3
   },
   "file_extension": ".py",
   "mimetype": "text/x-python",
   "name": "python",
   "nbconvert_exporter": "python",
   "pygments_lexer": "ipython3",
   "version": "3.9.18"
  }
 },
 "nbformat": 4,
 "nbformat_minor": 2
}
