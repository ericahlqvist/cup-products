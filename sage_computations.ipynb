{
 "cells": [
  {
   "cell_type": "code",
   "execution_count": 5,
   "metadata": {},
   "outputs": [],
   "source": [
    "K.<a> = NumberField(x^2+21)"
   ]
  },
  {
   "cell_type": "code",
   "execution_count": 6,
   "metadata": {},
   "outputs": [
    {
     "data": {
      "text/plain": [
       "Class group of order 4 with structure C2 x C2 of Number Field in a with defining polynomial x^2 + 21"
      ]
     },
     "execution_count": 6,
     "metadata": {},
     "output_type": "execute_result"
    }
   ],
   "source": [
    "K.class_group()"
   ]
  },
  {
   "cell_type": "code",
   "execution_count": 11,
   "metadata": {},
   "outputs": [],
   "source": [
    "H = K.hilbert_class_field('d')"
   ]
  },
  {
   "cell_type": "code",
   "execution_count": 17,
   "metadata": {},
   "outputs": [],
   "source": [
    "L1.<b1> = K.extension(x^2-3)\n",
    "L2.<b2> = K.extension(x^2+1)\n"
   ]
  },
  {
   "cell_type": "code",
   "execution_count": 23,
   "metadata": {},
   "outputs": [
    {
     "data": {
      "text/plain": [
       "(Fractional ideal (1), Fractional ideal (1))"
      ]
     },
     "execution_count": 23,
     "metadata": {},
     "output_type": "execute_result"
    }
   ],
   "source": [
    "L1.relative_discriminant(), L2.relative_discriminant()"
   ]
  },
  {
   "cell_type": "code",
   "execution_count": 26,
   "metadata": {},
   "outputs": [],
   "source": [
    "J_vect = K.class_group().gens()"
   ]
  },
  {
   "cell_type": "code",
   "execution_count": 27,
   "metadata": {},
   "outputs": [
    {
     "data": {
      "text/plain": [
       "(Fractional ideal class (5, a + 3), Fractional ideal class (2, a + 1))"
      ]
     },
     "execution_count": 27,
     "metadata": {},
     "output_type": "execute_result"
    }
   ],
   "source": [
    "\n",
    "J_vect"
   ]
  },
  {
   "cell_type": "code",
   "execution_count": 31,
   "metadata": {},
   "outputs": [
    {
     "data": {
      "text/plain": [
       "Fractional ideal (a - 2)"
      ]
     },
     "execution_count": 31,
     "metadata": {},
     "output_type": "execute_result"
    }
   ],
   "source": [
    "J1 = K.ideal(5, a+3)\n",
    "J1^2"
   ]
  },
  {
   "cell_type": "code",
   "execution_count": 33,
   "metadata": {},
   "outputs": [
    {
     "data": {
      "text/plain": [
       "([\n",
       " Relative number field endomorphism of Number Field in b1 with defining polynomial x^2 - 3 over its base field\n",
       "   Defn: b1 |--> b1\n",
       "         a |--> a,\n",
       " Relative number field endomorphism of Number Field in b1 with defining polynomial x^2 - 3 over its base field\n",
       "   Defn: b1 |--> -b1\n",
       "         a |--> a\n",
       " ],\n",
       " [\n",
       " Relative number field endomorphism of Number Field in b2 with defining polynomial x^2 + 1 over its base field\n",
       "   Defn: b2 |--> b2\n",
       "         a |--> a,\n",
       " Relative number field endomorphism of Number Field in b2 with defining polynomial x^2 + 1 over its base field\n",
       "   Defn: b2 |--> -b2\n",
       "         a |--> a\n",
       " ])"
      ]
     },
     "execution_count": 33,
     "metadata": {},
     "output_type": "execute_result"
    }
   ],
   "source": [
    "L1.automorphisms(), L2.automorphisms()"
   ]
  },
  {
   "cell_type": "code",
   "execution_count": 37,
   "metadata": {},
   "outputs": [
    {
     "data": {
      "text/plain": [
       "(Fractional ideal class (2, 1/2*b1 - 1/2*a + 1),)"
      ]
     },
     "execution_count": 37,
     "metadata": {},
     "output_type": "execute_result"
    }
   ],
   "source": [
    "L1.class_group().gens()"
   ]
  },
  {
   "cell_type": "code",
   "execution_count": 43,
   "metadata": {},
   "outputs": [
    {
     "data": {
      "text/plain": [
       "Fractional ideal ((1/60*a - 1/20)*b1 - 1/20*a - 7/20)"
      ]
     },
     "execution_count": 43,
     "metadata": {},
     "output_type": "execute_result"
    }
   ],
   "source": [
    "I1 = L1.ideal(2, 1/2*b1 - 1/2*a + 1)\n",
    "sigma_I1 = L1.ideal(2, 1/2*(-b1) - 1/2*a + 1)\n",
    "i_J1 = L1.ideal(5, a+3)\n",
    "i_J1^(-1)*I1*sigma_I1^(-1)\n"
   ]
  },
  {
   "cell_type": "code",
   "execution_count": null,
   "metadata": {},
   "outputs": [],
   "source": []
  }
 ],
 "metadata": {
  "kernelspec": {
   "display_name": "SageMath 9.4 for VSCode",
   "language": "python",
   "name": "sagemath-vscode"
  },
  "language_info": {
   "codemirror_mode": {
    "name": "ipython",
    "version": 3
   },
   "file_extension": ".py",
   "mimetype": "text/x-python",
   "name": "python",
   "nbconvert_exporter": "python",
   "pygments_lexer": "ipython3",
   "version": "3.9.9"
  },
  "orig_nbformat": 4
 },
 "nbformat": 4,
 "nbformat_minor": 2
}
