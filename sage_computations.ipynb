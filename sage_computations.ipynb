{
 "cells": [
  {
   "cell_type": "code",
   "execution_count": 1,
   "metadata": {},
   "outputs": [
    {
     "data": {
      "text/plain": [
       "-1 * 2^2 * 3 * 5 * 7 * 13"
      ]
     },
     "execution_count": 1,
     "metadata": {},
     "output_type": "execute_result"
    }
   ],
   "source": [
    "K.<a> = NumberField(x^2+5460)\n",
    "factor(K.discriminant())"
   ]
  },
  {
   "cell_type": "code",
   "execution_count": 2,
   "metadata": {},
   "outputs": [
    {
     "data": {
      "text/plain": [
       "Unit group with structure C2 of Number Field in a with defining polynomial x^2 + 5460"
      ]
     },
     "execution_count": 2,
     "metadata": {},
     "output_type": "execute_result"
    }
   ],
   "source": [
    "K.unit_group()"
   ]
  },
  {
   "cell_type": "code",
   "execution_count": 67,
   "metadata": {},
   "outputs": [],
   "source": [
    "H = K.hilbert_class_field('d')\n"
   ]
  },
  {
   "cell_type": "code",
   "execution_count": 68,
   "metadata": {},
   "outputs": [
    {
     "data": {
      "text/plain": [
       "[\n",
       "(Number Field in d0 with defining polynomial x^2 + 4, Ring morphism:\n",
       "  From: Number Field in d0 with defining polynomial x^2 + 4\n",
       "  To:   Number Field in d with defining polynomial x^16 + 9*x^14 + 44*x^12 + 261*x^10 + 1029*x^8 + 1044*x^6 + 704*x^4 + 576*x^2 + 256 over its base field\n",
       "  Defn: d0 |--> -1127/172800*d^15 - 9779/172800*d^13 - 127/480*d^11 - 91169/57600*d^9 - 115951/19200*d^7 - 1397/360*d^5 + 77/675*d^3 - 4699/2700*d, None),\n",
       "(Number Field in d1 with defining polynomial x^2 + 174756*x + 7635526404, Ring morphism:\n",
       "  From: Number Field in d1 with defining polynomial x^2 + 174756*x + 7635526404\n",
       "  To:   Number Field in d with defining polynomial x^16 + 9*x^14 + 44*x^12 + 261*x^10 + 1029*x^8 + 1044*x^6 + 704*x^4 + 576*x^2 + 256 over its base field\n",
       "  Defn: d1 |--> -1321/19584*a*d^15 - 11165/19584*a*d^13 - 725/272*a*d^11 - 105935/6528*a*d^9 - 132385/2176*a*d^7 - 7975/204*a*d^5 - 5050/153*a*d^3 - 5365/306*a*d - 87378, None),\n",
       "(Number Field in d2 with defining polynomial x^2 - 12383280, Ring morphism:\n",
       "  From: Number Field in d2 with defining polynomial x^2 - 12383280\n",
       "  To:   Number Field in d with defining polynomial x^16 + 9*x^14 + 44*x^12 + 261*x^10 + 1029*x^8 + 1044*x^6 + 704*x^4 + 576*x^2 + 256 over its base field\n",
       "  Defn: d2 |--> 296/1275*a*d^14 + 2372/1275*a*d^12 + 704/85*a*d^10 + 21912/425*a*d^8 + 78304/425*a*d^6 + 3072/85*a*d^4 + 39424/1275*a*d^2 + 59998/1275*a, None),\n",
       "(Number Field in d3 with defining polynomial x^2 - 12, Ring morphism:\n",
       "  From: Number Field in d3 with defining polynomial x^2 - 12\n",
       "  To:   Number Field in d with defining polynomial x^16 + 9*x^14 + 44*x^12 + 261*x^10 + 1029*x^8 + 1044*x^6 + 704*x^4 + 576*x^2 + 256 over its base field\n",
       "  Defn: d3 |--> -281/19584*d^15 - 2173/19584*d^13 - 1175/2448*d^11 - 59773/19584*d^9 - 206089/19584*d^7 + 773/1224*d^5 - 1771/612*d^3 - 419/102*d, None),\n",
       "(Number Field in d4 with defining polynomial x^2 + 174756*x + 7634915856, Ring morphism:\n",
       "  From: Number Field in d4 with defining polynomial x^2 + 174756*x + 7634915856\n",
       "  To:   Number Field in d with defining polynomial x^16 + 9*x^14 + 44*x^12 + 261*x^10 + 1029*x^8 + 1044*x^6 + 704*x^4 + 576*x^2 + 256 over its base field\n",
       "  Defn: d4 |--> 8217/54400*d^14 + 69069/54400*d^12 + 8073/1360*d^10 + 1970397/54400*d^8 + 7370649/54400*d^6 + 29601/340*d^4 + 78507/850*d^2 - 74222811/850, None),\n",
       "(Number Field in d5 with defining polynomial x^2 + 37149840, Ring morphism:\n",
       "  From: Number Field in d5 with defining polynomial x^2 + 37149840\n",
       "  To:   Number Field in d with defining polynomial x^16 + 9*x^14 + 44*x^12 + 261*x^10 + 1029*x^8 + 1044*x^6 + 704*x^4 + 576*x^2 + 256 over its base field\n",
       "  Defn: d5 |--> 27/128*a*d^14 + 247/128*a*d^12 + 151/16*a*d^10 + 7079/128*a*d^8 + 28187/128*a*d^6 + 895/4*a*d^4 + 113/2*a*d^2 + 139/2*a, None),\n",
       "(Number Field in d6 with defining polynomial x^2 + 174756*x + 7633080324, Ring morphism:\n",
       "  From: Number Field in d6 with defining polynomial x^2 + 174756*x + 7633080324\n",
       "  To:   Number Field in d with defining polynomial x^16 + 9*x^14 + 44*x^12 + 261*x^10 + 1029*x^8 + 1044*x^6 + 704*x^4 + 576*x^2 + 256 over its base field\n",
       "  Defn: d6 |--> 121/4800*a*d^15 + 1117/4800*a*d^13 + 139/120*a*d^11 + 32861/4800*a*d^9 + 132457/4800*a*d^7 + 1951/60*a*d^5 + 1369/50*a*d^3 + 2377/75*a*d - 87378, None),\n",
       "(Number Field in d7 with defining polynomial x^2 + 84, Ring morphism:\n",
       "  From: Number Field in d7 with defining polynomial x^2 + 84\n",
       "  To:   Number Field in d with defining polynomial x^16 + 9*x^14 + 44*x^12 + 261*x^10 + 1029*x^8 + 1044*x^6 + 704*x^4 + 576*x^2 + 256 over its base field\n",
       "  Defn: d7 |--> -121/9600*d^15 - 1117/9600*d^13 - 139/240*d^11 - 32861/9600*d^9 - 132457/9600*d^7 - 1951/120*d^5 - 1369/100*d^3 - 2377/150*d, None),\n",
       "(Number Field in d8 with defining polynomial x^2 + 174756*x + 7634914128, Ring morphism:\n",
       "  From: Number Field in d8 with defining polynomial x^2 + 174756*x + 7634914128\n",
       "  To:   Number Field in d with defining polynomial x^16 + 9*x^14 + 44*x^12 + 261*x^10 + 1029*x^8 + 1044*x^6 + 704*x^4 + 576*x^2 + 256 over its base field\n",
       "  Defn: d8 |--> -9/128*d^14 - 247/384*d^12 - 151/48*d^10 - 7079/384*d^8 - 28187/384*d^6 - 895/12*d^4 - 113/6*d^2 - 524407/6, None),\n",
       "(Number Field in d9 with defining polynomial x^2 - 47764080, Ring morphism:\n",
       "  From: Number Field in d9 with defining polynomial x^2 - 47764080\n",
       "  To:   Number Field in d with defining polynomial x^16 + 9*x^14 + 44*x^12 + 261*x^10 + 1029*x^8 + 1044*x^6 + 704*x^4 + 576*x^2 + 256 over its base field\n",
       "  Defn: d9 |--> -24651/54400*a*d^14 - 207207/54400*a*d^12 - 24219/1360*a*d^10 - 5911191/54400*a*d^8 - 22111947/54400*a*d^6 - 88803/340*a*d^4 - 235521/850*a*d^2 - 145467/850*a, None),\n",
       "(Number Field in d10 with defining polynomial x^2 + 174756*x + 7635176964, Ring morphism:\n",
       "  From: Number Field in d10 with defining polynomial x^2 + 174756*x + 7635176964\n",
       "  To:   Number Field in d with defining polynomial x^16 + 9*x^14 + 44*x^12 + 261*x^10 + 1029*x^8 + 1044*x^6 + 704*x^4 + 576*x^2 + 256 over its base field\n",
       "  Defn: d10 |--> 281/9792*a*d^15 + 2173/9792*a*d^13 + 1175/1224*a*d^11 + 59773/9792*a*d^9 + 206089/9792*a*d^7 - 773/612*a*d^5 + 1771/306*a*d^3 + 419/51*a*d - 87378, None),\n",
       "(Number Field in d11 with defining polynomial x^2 + 174756*x + 7634915136, Ring morphism:\n",
       "  From: Number Field in d11 with defining polynomial x^2 + 174756*x + 7634915136\n",
       "  To:   Number Field in d with defining polynomial x^16 + 9*x^14 + 44*x^12 + 261*x^10 + 1029*x^8 + 1044*x^6 + 704*x^4 + 576*x^2 + 256 over its base field\n",
       "  Defn: d11 |--> -296/3825*d^14 - 2372/3825*d^12 - 704/255*d^10 - 7304/425*d^8 - 78304/1275*d^6 - 1024/85*d^4 - 39424/3825*d^2 - 334280848/3825, None),\n",
       "(Number Field in d12 with defining polynomial x^2 - 28, Ring morphism:\n",
       "  From: Number Field in d12 with defining polynomial x^2 - 28\n",
       "  To:   Number Field in d with defining polynomial x^16 + 9*x^14 + 44*x^12 + 261*x^10 + 1029*x^8 + 1044*x^6 + 704*x^4 + 576*x^2 + 256 over its base field\n",
       "  Defn: d12 |--> 1321/39168*d^15 + 11165/39168*d^13 + 725/544*d^11 + 105935/13056*d^9 + 132385/4352*d^7 + 7975/408*d^5 + 2525/153*d^3 + 5365/612*d, None),\n",
       "(Number Field in d13 with defining polynomial x^2 + 174756*x + 7634827524, Ring morphism:\n",
       "  From: Number Field in d13 with defining polynomial x^2 + 174756*x + 7634827524\n",
       "  To:   Number Field in d with defining polynomial x^16 + 9*x^14 + 44*x^12 + 261*x^10 + 1029*x^8 + 1044*x^6 + 704*x^4 + 576*x^2 + 256 over its base field\n",
       "  Defn: d13 |--> 1127/86400*a*d^15 + 9779/86400*a*d^13 + 127/240*a*d^11 + 91169/28800*a*d^9 + 115951/9600*a*d^7 + 1397/180*a*d^5 - 154/675*a*d^3 + 4699/1350*a*d - 87378, None),\n",
       "(Number Field in d14 with defining polynomial x^2 + 1397760, Ring morphism:\n",
       "  From: Number Field in d14 with defining polynomial x^2 + 1397760\n",
       "  To:   Number Field in d with defining polynomial x^16 + 9*x^14 + 44*x^12 + 261*x^10 + 1029*x^8 + 1044*x^6 + 704*x^4 + 576*x^2 + 256 over its base field\n",
       "  Defn: d14 |--> -16*a, None),\n",
       "(Number Field in d15 with defining polynomial x^2 - 60, Ring morphism:\n",
       "  From: Number Field in d15 with defining polynomial x^2 - 60\n",
       "  To:   Number Field in d with defining polynomial x^16 + 9*x^14 + 44*x^12 + 261*x^10 + 1029*x^8 + 1044*x^6 + 704*x^4 + 576*x^2 + 256 over its base field\n",
       "  Defn: d15 |--> 41/1280*d^15 + 317/1280*d^13 + 103/96*d^11 + 26183/3840*d^9 + 90331/3840*d^7 - 17/12*d^5 + 97/15*d^3 + 551/60*d, None),\n",
       "(Number Field in d16 with defining polynomial x^2 + 174756*x + 7634915424, Ring morphism:\n",
       "  From: Number Field in d16 with defining polynomial x^2 + 174756*x + 7634915424\n",
       "  To:   Number Field in d with defining polynomial x^16 + 9*x^14 + 44*x^12 + 261*x^10 + 1029*x^8 + 1044*x^6 + 704*x^4 + 576*x^2 + 256 over its base field\n",
       "  Defn: d16 |--> -9/80*d^14 - 227/240*d^12 - 53/12*d^10 - 6487/240*d^8 - 24247/240*d^6 - 779/12*d^4 - 1033/15*d^2 - 1311308/15, None),\n",
       "(Number Field in d17 with defining polynomial x^2 + 20638800, Ring morphism:\n",
       "  From: Number Field in d17 with defining polynomial x^2 + 20638800\n",
       "  To:   Number Field in d with defining polynomial x^16 + 9*x^14 + 44*x^12 + 261*x^10 + 1029*x^8 + 1044*x^6 + 704*x^4 + 576*x^2 + 256 over its base field\n",
       "  Defn: d17 |--> -211/1360*a*d^14 - 1947/1360*a*d^12 - 477/68*a*d^10 - 55791/1360*a*d^8 - 222927/1360*a*d^6 - 11331/68*a*d^4 - 3569/85*a*d^2 - 4398/85*a, None),\n",
       "(Number Field in d18 with defining polynomial x^2 + 174756*x + 7625742084, Ring morphism:\n",
       "  From: Number Field in d18 with defining polynomial x^2 + 174756*x + 7625742084\n",
       "  To:   Number Field in d with defining polynomial x^16 + 9*x^14 + 44*x^12 + 261*x^10 + 1029*x^8 + 1044*x^6 + 704*x^4 + 576*x^2 + 256 over its base field\n",
       "  Defn: d18 |--> -5579/97920*a*d^15 - 51271/97920*a*d^13 - 6391/2448*a*d^11 - 1509079/97920*a*d^9 - 6052651/97920*a*d^7 - 22271/306*a*d^5 - 46882/765*a*d^3 - 36157/510*a*d - 87378, None),\n",
       "(Number Field in d19 with defining polynomial x^2 + 174756*x + 7634914704, Ring morphism:\n",
       "  From: Number Field in d19 with defining polynomial x^2 + 174756*x + 7634914704\n",
       "  To:   Number Field in d with defining polynomial x^16 + 9*x^14 + 44*x^12 + 261*x^10 + 1029*x^8 + 1044*x^6 + 704*x^4 + 576*x^2 + 256 over its base field\n",
       "  Defn: d19 |--> -37/97920*d^14 - 169/97920*d^12 - 11/816*d^10 - 913/10880*d^8 - 2903/32640*d^6 - 1/17*d^4 - 77/1530*d^2 - 133667849/1530, None),\n",
       "(Number Field in d20 with defining polynomial x^2 + 20, Ring morphism:\n",
       "  From: Number Field in d20 with defining polynomial x^2 + 20\n",
       "  To:   Number Field in d with defining polynomial x^16 + 9*x^14 + 44*x^12 + 261*x^10 + 1029*x^8 + 1044*x^6 + 704*x^4 + 576*x^2 + 256 over its base field\n",
       "  Defn: d20 |--> 1433/97920*d^15 + 12397/97920*d^13 + 161/272*d^11 + 115711/32640*d^9 + 146993/10880*d^7 + 1771/204*d^5 - 769/3060*d^3 + 5957/1530*d, None),\n",
       "(Number Field in d21 with defining polynomial x^2 + 174756*x + 7637972484, Ring morphism:\n",
       "  From: Number Field in d21 with defining polynomial x^2 + 174756*x + 7637972484\n",
       "  To:   Number Field in d with defining polynomial x^16 + 9*x^14 + 44*x^12 + 261*x^10 + 1029*x^8 + 1044*x^6 + 704*x^4 + 576*x^2 + 256 over its base field\n",
       "  Defn: d21 |--> 1303/8640*a*d^15 + 11011/8640*a*d^13 + 143/24*a*d^11 + 104401/2880*a*d^9 + 130559/960*a*d^7 + 1573/18*a*d^5 + 19921/270*a*d^3 + 5291/135*a*d - 87378, None),\n",
       "(Number Field in d22 with defining polynomial x^2 - 6879600, Ring morphism:\n",
       "  From: Number Field in d22 with defining polynomial x^2 - 6879600\n",
       "  To:   Number Field in d with defining polynomial x^16 + 9*x^14 + 44*x^12 + 261*x^10 + 1029*x^8 + 1044*x^6 + 704*x^4 + 576*x^2 + 256 over its base field\n",
       "  Defn: d22 |--> -111/640*a*d^14 - 891/640*a*d^12 - 99/16*a*d^10 - 24651/640*a*d^8 - 87951/640*a*d^6 - 27*a*d^4 - 231/10*a*d^2 - 351/10*a, None),\n",
       "(Number Field in d23 with defining polynomial x^2 + 174756*x + 7634915024, Ring morphism:\n",
       "  From: Number Field in d23 with defining polynomial x^2 + 174756*x + 7634915024\n",
       "  To:   Number Field in d with defining polynomial x^16 + 9*x^14 + 44*x^12 + 261*x^10 + 1029*x^8 + 1044*x^6 + 704*x^4 + 576*x^2 + 256 over its base field\n",
       "  Defn: d23 |--> 37/640*d^14 + 297/640*d^12 + 33/16*d^10 + 8217/640*d^8 + 29317/640*d^6 + 9*d^4 + 77/10*d^2 - 873663/10, None),\n",
       "(Number Field in d24 with defining polynomial x^2 - 140, Ring morphism:\n",
       "  From: Number Field in d24 with defining polynomial x^2 - 140\n",
       "  To:   Number Field in d with defining polynomial x^16 + 9*x^14 + 44*x^12 + 261*x^10 + 1029*x^8 + 1044*x^6 + 704*x^4 + 576*x^2 + 256 over its base field\n",
       "  Defn: d24 |--> -1303/17280*d^15 - 11011/17280*d^13 - 143/48*d^11 - 104401/5760*d^9 - 130559/1920*d^7 - 1573/36*d^5 - 19921/540*d^3 - 5291/270*d, None),\n",
       "(Number Field in d25 with defining polynomial x^2 + 174756*x + 7634478084, Ring morphism:\n",
       "  From: Number Field in d25 with defining polynomial x^2 + 174756*x + 7634478084\n",
       "  To:   Number Field in d with defining polynomial x^16 + 9*x^14 + 44*x^12 + 261*x^10 + 1029*x^8 + 1044*x^6 + 704*x^4 + 576*x^2 + 256 over its base field\n",
       "  Defn: d25 |--> -1433/48960*a*d^15 - 12397/48960*a*d^13 - 161/136*a*d^11 - 115711/16320*a*d^9 - 146993/5440*a*d^7 - 1771/102*a*d^5 + 769/1530*a*d^3 - 5957/765*a*d - 87378, None),\n",
       "(Number Field in d26 with defining polynomial x^2 + 8845200, Ring morphism:\n",
       "  From: Number Field in d26 with defining polynomial x^2 + 8845200\n",
       "  To:   Number Field in d with defining polynomial x^16 + 9*x^14 + 44*x^12 + 261*x^10 + 1029*x^8 + 1044*x^6 + 704*x^4 + 576*x^2 + 256 over its base field\n",
       "  Defn: d26 |--> 37/32640*a*d^14 + 169/32640*a*d^12 + 11/272*a*d^10 + 2739/10880*a*d^8 + 2903/10880*a*d^6 + 3/17*a*d^4 + 77/510*a*d^2 - 20491/510*a, None),\n",
       "(Number Field in d27 with defining polynomial x^2 + 420, Ring morphism:\n",
       "  From: Number Field in d27 with defining polynomial x^2 + 420\n",
       "  To:   Number Field in d with defining polynomial x^16 + 9*x^14 + 44*x^12 + 261*x^10 + 1029*x^8 + 1044*x^6 + 704*x^4 + 576*x^2 + 256 over its base field\n",
       "  Defn: d27 |--> 5579/195840*d^15 + 51271/195840*d^13 + 6391/4896*d^11 + 1509079/195840*d^9 + 6052651/195840*d^7 + 22271/612*d^5 + 23441/765*d^3 + 36157/1020*d, None),\n",
       "(Number Field in d28 with defining polynomial x^2 + 174756*x + 7634914464, Ring morphism:\n",
       "  From: Number Field in d28 with defining polynomial x^2 + 174756*x + 7634914464\n",
       "  To:   Number Field in d with defining polynomial x^16 + 9*x^14 + 44*x^12 + 261*x^10 + 1029*x^8 + 1044*x^6 + 704*x^4 + 576*x^2 + 256 over its base field\n",
       "  Defn: d28 |--> 211/4080*d^14 + 649/1360*d^12 + 159/68*d^10 + 18597/1360*d^8 + 74309/1360*d^6 + 3777/68*d^4 + 3569/255*d^2 - 7425664/85, None),\n",
       "(Number Field in d29 with defining polynomial x^2 - 26535600, Ring morphism:\n",
       "  From: Number Field in d29 with defining polynomial x^2 - 26535600\n",
       "  To:   Number Field in d with defining polynomial x^16 + 9*x^14 + 44*x^12 + 261*x^10 + 1029*x^8 + 1044*x^6 + 704*x^4 + 576*x^2 + 256 over its base field\n",
       "  Defn: d29 |--> 27/80*a*d^14 + 227/80*a*d^12 + 53/4*a*d^10 + 6487/80*a*d^8 + 24247/80*a*d^6 + 779/4*a*d^4 + 1033/5*a*d^2 + 638/5*a, None),\n",
       "(Number Field in d30 with defining polynomial x^2 + 174756*x + 7636225284, Ring morphism:\n",
       "  From: Number Field in d30 with defining polynomial x^2 + 174756*x + 7636225284\n",
       "  To:   Number Field in d with defining polynomial x^16 + 9*x^14 + 44*x^12 + 261*x^10 + 1029*x^8 + 1044*x^6 + 704*x^4 + 576*x^2 + 256 over its base field\n",
       "  Defn: d30 |--> -41/640*a*d^15 - 317/640*a*d^13 - 103/48*a*d^11 - 26183/1920*a*d^9 - 90331/1920*a*d^7 + 17/6*a*d^5 - 194/15*a*d^3 - 551/30*a*d - 87378, None)\n",
       "]"
      ]
     },
     "execution_count": 68,
     "metadata": {},
     "output_type": "execute_result"
    }
   ],
   "source": [
    "H.subfields(degree=2)\n"
   ]
  },
  {
   "cell_type": "code",
   "execution_count": 23,
   "metadata": {},
   "outputs": [
    {
     "data": {
      "text/plain": [
       "(Fractional ideal (1), Fractional ideal (1))"
      ]
     },
     "execution_count": 23,
     "metadata": {},
     "output_type": "execute_result"
    }
   ],
   "source": [
    "L1.relative_discriminant(), L2.relative_discriminant()"
   ]
  },
  {
   "cell_type": "code",
   "execution_count": 26,
   "metadata": {},
   "outputs": [],
   "source": [
    "J_vect = K.class_group().gens()"
   ]
  },
  {
   "cell_type": "code",
   "execution_count": 27,
   "metadata": {},
   "outputs": [
    {
     "data": {
      "text/plain": [
       "(Fractional ideal class (5, a + 3), Fractional ideal class (2, a + 1))"
      ]
     },
     "execution_count": 27,
     "metadata": {},
     "output_type": "execute_result"
    }
   ],
   "source": [
    "\n",
    "J_vect"
   ]
  },
  {
   "cell_type": "code",
   "execution_count": 31,
   "metadata": {},
   "outputs": [
    {
     "data": {
      "text/plain": [
       "Fractional ideal (a - 2)"
      ]
     },
     "execution_count": 31,
     "metadata": {},
     "output_type": "execute_result"
    }
   ],
   "source": [
    "J1 = K.ideal(5, a+3)\n",
    "J1^2"
   ]
  },
  {
   "cell_type": "code",
   "execution_count": 33,
   "metadata": {},
   "outputs": [
    {
     "data": {
      "text/plain": [
       "([\n",
       " Relative number field endomorphism of Number Field in b1 with defining polynomial x^2 - 3 over its base field\n",
       "   Defn: b1 |--> b1\n",
       "         a |--> a,\n",
       " Relative number field endomorphism of Number Field in b1 with defining polynomial x^2 - 3 over its base field\n",
       "   Defn: b1 |--> -b1\n",
       "         a |--> a\n",
       " ],\n",
       " [\n",
       " Relative number field endomorphism of Number Field in b2 with defining polynomial x^2 + 1 over its base field\n",
       "   Defn: b2 |--> b2\n",
       "         a |--> a,\n",
       " Relative number field endomorphism of Number Field in b2 with defining polynomial x^2 + 1 over its base field\n",
       "   Defn: b2 |--> -b2\n",
       "         a |--> a\n",
       " ])"
      ]
     },
     "execution_count": 33,
     "metadata": {},
     "output_type": "execute_result"
    }
   ],
   "source": [
    "L1.automorphisms(), L2.automorphisms()"
   ]
  },
  {
   "cell_type": "code",
   "execution_count": 37,
   "metadata": {},
   "outputs": [
    {
     "data": {
      "text/plain": [
       "(Fractional ideal class (2, 1/2*b1 - 1/2*a + 1),)"
      ]
     },
     "execution_count": 37,
     "metadata": {},
     "output_type": "execute_result"
    }
   ],
   "source": [
    "L1.class_group().gens()"
   ]
  },
  {
   "cell_type": "code",
   "execution_count": 43,
   "metadata": {},
   "outputs": [
    {
     "data": {
      "text/plain": [
       "Fractional ideal ((1/60*a - 1/20)*b1 - 1/20*a - 7/20)"
      ]
     },
     "execution_count": 43,
     "metadata": {},
     "output_type": "execute_result"
    }
   ],
   "source": [
    "I1 = L1.ideal(2, 1/2*b1 - 1/2*a + 1)\n",
    "sigma_I1 = L1.ideal(2, 1/2*(-b1) - 1/2*a + 1)\n",
    "i_J1 = L1.ideal(5, a+3)\n",
    "i_J1^(-1)*I1*sigma_I1^(-1)\n"
   ]
  },
  {
   "cell_type": "code",
   "execution_count": 5,
   "metadata": {},
   "outputs": [
    {
     "data": {
      "text/plain": [
       "sqrt(9595)"
      ]
     },
     "execution_count": 5,
     "metadata": {},
     "output_type": "execute_result"
    }
   ],
   "source": [
    "(5*19*101)^(1/2)\n"
   ]
  },
  {
   "cell_type": "code",
   "execution_count": 6,
   "metadata": {},
   "outputs": [
    {
     "data": {
      "text/plain": [
       "6724"
      ]
     },
     "execution_count": 6,
     "metadata": {},
     "output_type": "execute_result"
    }
   ],
   "source": [
    "82*82"
   ]
  },
  {
   "cell_type": "code",
   "execution_count": 3,
   "metadata": {},
   "outputs": [
    {
     "data": {
      "text/plain": [
       "35"
      ]
     },
     "execution_count": 3,
     "metadata": {},
     "output_type": "execute_result"
    }
   ],
   "source": [
    "15*14/6"
   ]
  },
  {
   "cell_type": "code",
   "execution_count": 4,
   "metadata": {},
   "outputs": [
    {
     "data": {
      "text/plain": [
       "35"
      ]
     },
     "execution_count": 4,
     "metadata": {},
     "output_type": "execute_result"
    }
   ],
   "source": [
    "(2^4-1)*(2^4-2)/((2^2-1)*(2^2-2))"
   ]
  },
  {
   "cell_type": "code",
   "execution_count": 2,
   "metadata": {},
   "outputs": [
    {
     "data": {
      "text/plain": [
       "3 * 5 * 7 * 11 * 13 * 29"
      ]
     },
     "execution_count": 2,
     "metadata": {},
     "output_type": "execute_result"
    }
   ],
   "source": [
    "factor(435435)"
   ]
  },
  {
   "cell_type": "code",
   "execution_count": 17,
   "metadata": {},
   "outputs": [
    {
     "data": {
      "text/plain": [
       "5^3"
      ]
     },
     "execution_count": 17,
     "metadata": {},
     "output_type": "execute_result"
    }
   ],
   "source": [
    "K.<a> = CyclotomicField(5)\n",
    "factor(K.discriminant())"
   ]
  },
  {
   "cell_type": "code",
   "execution_count": 1,
   "metadata": {},
   "outputs": [
    {
     "data": {
      "text/plain": [
       "3 * 13 * 17 * 29 * 113"
      ]
     },
     "execution_count": 1,
     "metadata": {},
     "output_type": "execute_result"
    }
   ],
   "source": [
    "factor(2172651)"
   ]
  },
  {
   "cell_type": "code",
   "execution_count": 1,
   "metadata": {},
   "outputs": [],
   "source": [
    "K.<a> = NumberField(x^2+70372)"
   ]
  },
  {
   "cell_type": "code",
   "execution_count": 2,
   "metadata": {},
   "outputs": [
    {
     "data": {
      "text/plain": [
       "Class group of order 48 with structure C24 x C2 of Number Field in a with defining polynomial x^2 + 70372"
      ]
     },
     "execution_count": 2,
     "metadata": {},
     "output_type": "execute_result"
    }
   ],
   "source": [
    "K.class_group()"
   ]
  },
  {
   "cell_type": "code",
   "execution_count": 3,
   "metadata": {},
   "outputs": [],
   "source": [
    "H_K = K.hilbert_class_field('d')"
   ]
  },
  {
   "cell_type": "code",
   "execution_count": 4,
   "metadata": {},
   "outputs": [
    {
     "data": {
      "text/plain": [
       "x^48 + 11053838*x^47 + 851595114775440*x^46 - 9343943252134692*x^45 + 11582504766286162*x^44 + 122046394757113298*x^43 + 266745308301850552*x^42 - 289774241785965886*x^41 - 3610418541021276569*x^40 - 12661977167870147918*x^39 - 32078449188829954720*x^38 - 66261989070777048694*x^37 - 115376314711538388478*x^36 - 177023794021663206228*x^35 - 234620786684537546008*x^34 - 266467759119163154306*x^33 - 247790631225348522501*x^32 - 143355186419101532556*x^31 + 46234578801927003240*x^30 + 341644029670366032936*x^29 + 709190985520405796460*x^28 + 1109352539425821747188*x^27 + 1493107028833654083592*x^26 + 1747071046034494026636*x^25 + 1861085647332138218426*x^24 + 1747071046034494026636*x^23 + 1493107028833654083592*x^22 + 1109352539425821747188*x^21 + 709190985520405796460*x^20 + 341644029670366032936*x^19 + 46234578801927003240*x^18 - 143355186419101532556*x^17 - 247790631225348522501*x^16 - 266467759119163154306*x^15 - 234620786684537546008*x^14 - 177023794021663206228*x^13 - 115376314711538388478*x^12 - 66261989070777048694*x^11 - 32078449188829954720*x^10 - 12661977167870147918*x^9 - 3610418541021276569*x^8 - 289774241785965886*x^7 + 266745308301850552*x^6 + 122046394757113298*x^5 + 11582504766286162*x^4 - 9343943252134692*x^3 + 851595114775440*x^2 + 11053838*x + 1"
      ]
     },
     "execution_count": 4,
     "metadata": {},
     "output_type": "execute_result"
    }
   ],
   "source": [
    "H_K.defining_polynomial()"
   ]
  },
  {
   "cell_type": "code",
   "execution_count": 30,
   "metadata": {},
   "outputs": [],
   "source": [
    "f = x^60 - 3831*x^59 + 92930804*x^58 + 2774170193*x^57 + 20640312765*x^56 - 366721955448*x^55 - 2338135883080*x^54 + 12058843004488*x^53 + 90591544488146*x^52 - 73805074373998*x^51 - 608625224037996*x^50 + 1941092877274798*x^49 + 7337480564598148*x^48 - 12870417825909234*x^47 - 24263007530444964*x^46 + 109631953893191186*x^45 + 48116456981823073*x^44 - 402579462582076625*x^43 + 228847190834488980*x^42 + 1070077978865606823*x^41 - 1260032057370562989*x^40 - 1946626389936599480*x^39 + 3405230157021087692*x^38 + 2979646240887749756*x^37 - 5753149509913950897*x^36 - 3368409258836509085*x^35 + 6226385659417586140*x^34 + 2121979516868048427*x^33 - 1601277266242402455*x^32 - 374035294205739854*x^31 - 7478984097445049716*x^30 + 2442829906989311766*x^29 + 13123597135763582749*x^28 - 8209293562575622505*x^27 - 8475331715077125444*x^26 + 10502764795718836967*x^25 - 1580523649023821077*x^24 - 5904482058790713808*x^23 + 6965489148855285604*x^22 - 132496073964970932*x^21 - 5614339488171829505*x^20 + 2430331337815991923*x^19 + 2441726502362251644*x^18 - 1697674231830065509*x^17 - 651863561941053123*x^16 + 598446727804997494*x^15 + 100605810167938612*x^14 - 117746875289741918*x^13 - 2768955389292624*x^12 + 11785636871646998*x^11 - 1256681063465728*x^10 - 298965342009242*x^9 + 91130891514602*x^8 - 21588079758620*x^7 + 3857227332412*x^6 - 207967258976*x^5 - 21894165007*x^4 + 1872278489*x^3 + 93392448*x^2 + 18317*x + 1"
   ]
  },
  {
   "cell_type": "code",
   "execution_count": 5,
   "metadata": {},
   "outputs": [],
   "source": [
    "R.<x, s> = PolynomialRing(ZZ)\n",
    "f = x^48 + 11053838*x^47 + 851595114775440*x^46 - 9343943252134692*x^45 + 11582504766286162*x^44 + 122046394757113298*x^43 + 266745308301850552*x^42 - 289774241785965886*x^41 - 3610418541021276569*x^40 - 12661977167870147918*x^39 - 32078449188829954720*x^38 - 66261989070777048694*x^37 - 115376314711538388478*x^36 - 177023794021663206228*x^35 - 234620786684537546008*x^34 - 266467759119163154306*x^33 - 247790631225348522501*x^32 - 143355186419101532556*x^31 + 46234578801927003240*x^30 + 341644029670366032936*x^29 + 709190985520405796460*x^28 + 1109352539425821747188*x^27 + 1493107028833654083592*x^26 + 1747071046034494026636*x^25 + 1861085647332138218426*x^24 + 1747071046034494026636*x^23 + 1493107028833654083592*x^22 + 1109352539425821747188*x^21 + 709190985520405796460*x^20 + 341644029670366032936*x^19 + 46234578801927003240*x^18 - 143355186419101532556*x^17 - 247790631225348522501*x^16 - 266467759119163154306*x^15 - 234620786684537546008*x^14 - 177023794021663206228*x^13 - 115376314711538388478*x^12 - 66261989070777048694*x^11 - 32078449188829954720*x^10 - 12661977167870147918*x^9 - 3610418541021276569*x^8 - 289774241785965886*x^7 + 266745308301850552*x^6 + 122046394757113298*x^5 + 11582504766286162*x^4 - 9343943252134692*x^3 + 851595114775440*x^2 + 11053838*x + 1"
   ]
  },
  {
   "cell_type": "code",
   "execution_count": 6,
   "metadata": {},
   "outputs": [
    {
     "data": {
      "text/plain": [
       "s^48 + 11053838*s^47 + 851595114775440*s^46 - 9343943252134692*s^45 + 11582504766286162*s^44 + 122046394757113298*s^43 + 266745308301850552*s^42 - 289774241785965886*s^41 - 3610418541021276569*s^40 - 12661977167870147918*s^39 - 32078449188829954720*s^38 - 66261989070777048694*s^37 - 115376314711538388478*s^36 - 177023794021663206228*s^35 - 234620786684537546008*s^34 - 266467759119163154306*s^33 - 247790631225348522501*s^32 - 143355186419101532556*s^31 + 46234578801927003240*s^30 + 341644029670366032936*s^29 + 709190985520405796460*s^28 + 1109352539425821747188*s^27 + 1493107028833654083592*s^26 + 1747071046034494026636*s^25 + 1861085647332138218426*s^24 + 1747071046034494026636*s^23 + 1493107028833654083592*s^22 + 1109352539425821747188*s^21 + 709190985520405796460*s^20 + 341644029670366032936*s^19 + 46234578801927003240*s^18 - 143355186419101532556*s^17 - 247790631225348522501*s^16 - 266467759119163154306*s^15 - 234620786684537546008*s^14 - 177023794021663206228*s^13 - 115376314711538388478*s^12 - 66261989070777048694*s^11 - 32078449188829954720*s^10 - 12661977167870147918*s^9 - 3610418541021276569*s^8 - 289774241785965886*s^7 + 266745308301850552*s^6 + 122046394757113298*s^5 + 11582504766286162*s^4 - 9343943252134692*s^3 + 851595114775440*s^2 + 11053838*s + 1"
      ]
     },
     "execution_count": 6,
     "metadata": {},
     "output_type": "execute_result"
    }
   ],
   "source": [
    "f.subs(x = s)"
   ]
  },
  {
   "cell_type": "code",
   "execution_count": 14,
   "metadata": {},
   "outputs": [
    {
     "data": {
      "text/plain": [
       "512"
      ]
     },
     "execution_count": 14,
     "metadata": {},
     "output_type": "execute_result"
    }
   ],
   "source": []
  },
  {
   "cell_type": "code",
   "execution_count": 70,
   "metadata": {},
   "outputs": [
    {
     "data": {
      "text/plain": [
       "Class group of order 2 with structure C2 of Number Field in a with defining polynomial x^2 - 10"
      ]
     },
     "execution_count": 70,
     "metadata": {},
     "output_type": "execute_result"
    }
   ],
   "source": [
    "K.<a> = NumberField(x^2-10)\n",
    "K.class_group()"
   ]
  },
  {
   "cell_type": "code",
   "execution_count": 63,
   "metadata": {},
   "outputs": [],
   "source": [
    "L.<b> = K.extension(x^2+2)"
   ]
  },
  {
   "cell_type": "code",
   "execution_count": 69,
   "metadata": {},
   "outputs": [
    {
     "data": {
      "text/plain": [
       "Class group of order 2 with structure C2 of Number Field in b with defining polynomial x^2 + 2 over its base field"
      ]
     },
     "execution_count": 69,
     "metadata": {},
     "output_type": "execute_result"
    }
   ],
   "source": [
    "L.class_group()"
   ]
  },
  {
   "cell_type": "code",
   "execution_count": 29,
   "metadata": {},
   "outputs": [
    {
     "data": {
      "text/plain": [
       "Unit group with structure C2 of Number Field in a with defining polynomial x^2 + 7"
      ]
     },
     "execution_count": 29,
     "metadata": {},
     "output_type": "execute_result"
    }
   ],
   "source": [
    "K.unit_group()"
   ]
  },
  {
   "cell_type": "code",
   "execution_count": 10,
   "metadata": {},
   "outputs": [
    {
     "name": "stdout",
     "output_type": "stream",
     "text": [
      "2 [Fractional ideal (2)]\n",
      "3 [Fractional ideal (3, a^18 - a^16 - a^14 - a^13 + a^11 + a^7 - a^5 - a^4 - a^2 + 1), Fractional ideal (3, a^18 + a^17 - a^16 - a^15 + a^14 - a^13 - a^12 - a^10 - a^9 - a^8 - a^6 - a^5 + a^4 - a^3 - a^2 + a + 1)]\n",
      "5 [Fractional ideal (5)]\n",
      "7 [Fractional ideal (7, a^9 + 3*a^6 - 3*a^5 - 3*a^4 + 2*a^3 + 2*a^2 - 2*a - 1), Fractional ideal (7, a^9 + a^7 + 2*a^6 + 2*a^5 + 2*a^4 - a^3 + 3*a^2 + a - 1), Fractional ideal (7, a^9 + 2*a^8 - 2*a^7 - 2*a^6 + 3*a^5 + 3*a^4 - 3*a^3 - 1), Fractional ideal (7, a^9 - a^8 - 3*a^7 + a^6 - 2*a^5 - 2*a^4 - 2*a^3 - a^2 - 1)]\n",
      "11 [Fractional ideal (11, a^6 - a^5 - 3*a^4 - 3*a^2 - a + 1), Fractional ideal (11, a^6 - 4*a^5 + 2*a^4 + 2*a^2 - 4*a + 1), Fractional ideal (11, a^6 - 4*a^5 - 5*a^4 - 3*a^3 - 5*a^2 - 4*a + 1), Fractional ideal (11, a^6 + 5*a^5 + 5*a^4 + 4*a^3 + 5*a^2 + 5*a + 1), Fractional ideal (11, a^6 + 4*a^5 + 3*a^4 - 4*a^3 + 3*a^2 + 4*a + 1), Fractional ideal (11, a^6 + a^5 + 3*a^4 + 5*a^3 + 3*a^2 + a + 1)]\n",
      "13 [Fractional ideal (13)]\n",
      "17 [Fractional ideal (17)]\n",
      "19 [Fractional ideal (19)]\n",
      "23 [Fractional ideal (23, a^12 - 9*a^11 - 5*a^10 - 8*a^9 - 7*a^8 + 6*a^7 + 9*a^6 + 6*a^5 - 7*a^4 - 8*a^3 - 5*a^2 - 9*a + 1), Fractional ideal (23, a^12 + 9*a^11 - 10*a^10 - 3*a^9 + a^8 - 2*a^7 + 4*a^6 - 2*a^5 + a^4 - 3*a^3 - 10*a^2 + 9*a + 1), Fractional ideal (23, a^12 + a^11 + 5*a^10 - 6*a^9 + 11*a^8 + 11*a^7 + 7*a^6 + 11*a^5 + 11*a^4 - 6*a^3 + 5*a^2 + a + 1)]\n",
      "29 [Fractional ideal (29, a^12 - 7*a^11 - 3*a^10 - 8*a^9 - 3*a^8 + 2*a^7 + 9*a^6 + 2*a^5 - 3*a^4 - 8*a^3 - 3*a^2 - 7*a + 1), Fractional ideal (29, a^12 + 5*a^11 + 9*a^10 + 14*a^9 - a^8 - 13*a^6 - a^4 + 14*a^3 + 9*a^2 + 5*a + 1), Fractional ideal (29, a^12 + 3*a^11 + 7*a^10 + 9*a^8 - 10*a^7 + a^6 - 10*a^5 + 9*a^4 + 7*a^2 + 3*a + 1)]\n",
      "31 [Fractional ideal (31, a^4 - 9*a^3 - 9*a + 1), Fractional ideal (31, a^4 - 12*a^3 - 10*a^2 - 12*a + 1), Fractional ideal (31, a^4 + 15*a^3 - 2*a^2 + 15*a + 1), Fractional ideal (31, a^4 + 12*a^3 + 11*a^2 + 12*a + 1), Fractional ideal (31, a^4 + 12*a^3 - 5*a^2 + 12*a + 1), Fractional ideal (31, a^4 + 7*a^3 + a^2 + 7*a + 1), Fractional ideal (31, a^4 + 4*a^3 + 14*a^2 + 4*a + 1), Fractional ideal (31, a^4 + 2*a^3 - 10*a^2 + 2*a + 1), Fractional ideal (31, a^4 + a^3 - 13*a^2 + a + 1)]\n",
      "37 [Fractional ideal (37, a - 1)]\n",
      "41 [Fractional ideal (41, a^18 - 11*a^17 + 5*a^16 + 16*a^15 + 19*a^14 + 4*a^13 + 20*a^12 + 14*a^11 + 17*a^10 + 16*a^9 + 17*a^8 + 14*a^7 + 20*a^6 + 4*a^5 + 19*a^4 + 16*a^3 + 5*a^2 - 11*a + 1), Fractional ideal (41, a^18 + 12*a^17 + 5*a^16 - 20*a^15 - 4*a^14 - 9*a^13 - 3*a^12 + 19*a^11 - 6*a^10 - 20*a^9 - 6*a^8 + 19*a^7 - 3*a^6 - 9*a^5 - 4*a^4 - 20*a^3 + 5*a^2 + 12*a + 1)]\n",
      "43 [Fractional ideal (43, a^4 - 2*a^3 - 9*a^2 - 2*a + 1), Fractional ideal (43, a^4 - 13*a^3 - 14*a^2 - 13*a + 1), Fractional ideal (43, a^4 + 21*a^3 - 11*a^2 + 21*a + 1), Fractional ideal (43, a^4 + 18*a^3 - 11*a^2 + 18*a + 1), Fractional ideal (43, a^4 + 16*a^3 - 16*a^2 + 16*a + 1), Fractional ideal (43, a^4 + 13*a^3 - 8*a^2 + 13*a + 1), Fractional ideal (43, a^4 + 13*a^3 + 4*a^2 + 13*a + 1), Fractional ideal (43, a^4 + 11*a^3 - 19*a^2 + 11*a + 1), Fractional ideal (43, a^4 + 10*a^3 + 15*a^2 + 10*a + 1)]\n",
      "47 [Fractional ideal (47, a^3 + 5*a - 1), Fractional ideal (47, a^3 + 9*a^2 + 6*a - 1), Fractional ideal (47, a^3 + 10*a^2 - 22*a - 1), Fractional ideal (47, a^3 + 12*a^2 + 22*a - 1), Fractional ideal (47, a^3 + 13*a^2 + 3*a - 1), Fractional ideal (47, a^3 + 22*a^2 - 10*a - 1), Fractional ideal (47, a^3 - 22*a^2 - 12*a - 1), Fractional ideal (47, a^3 - 22*a^2 + 7*a - 1), Fractional ideal (47, a^3 - 7*a^2 + 22*a - 1), Fractional ideal (47, a^3 - 6*a^2 - 9*a - 1), Fractional ideal (47, a^3 - 5*a^2 - 1), Fractional ideal (47, a^3 - 3*a^2 - 13*a - 1)]\n",
      "53 [Fractional ideal (53, a^9 - 17*a^8 + 10*a^7 - 4*a^6 + 18*a^5 + 25*a^4 + 3*a^3 + 12*a^2 + 16*a - 1), Fractional ideal (53, a^9 - 16*a^8 - 12*a^7 - 3*a^6 - 25*a^5 - 18*a^4 + 4*a^3 - 10*a^2 + 17*a - 1), Fractional ideal (53, a^9 - 15*a^8 - 2*a^7 + 23*a^6 - 24*a^5 - 17*a^4 + 19*a^3 + 4*a - 1), Fractional ideal (53, a^9 - 4*a^8 - 19*a^6 + 17*a^5 + 24*a^4 - 23*a^3 + 2*a^2 + 15*a - 1)]\n",
      "59 [Fractional ideal (59)]\n",
      "61 [Fractional ideal (61)]\n",
      "67 [Fractional ideal (67, a^18 - 14*a^17 + 5*a^16 - 31*a^15 + 22*a^14 + 21*a^13 + 23*a^12 - 33*a^11 + 20*a^10 - 31*a^9 + 20*a^8 - 33*a^7 + 23*a^6 + 21*a^5 + 22*a^4 - 31*a^3 + 5*a^2 - 14*a + 1), Fractional ideal (67, a^18 + 15*a^17 + 5*a^16 + 27*a^15 - 7*a^14 - 26*a^13 - 6*a^12 + 25*a^11 - 9*a^10 + 27*a^9 - 9*a^8 + 25*a^7 - 6*a^6 - 26*a^5 - 7*a^4 + 27*a^3 + 5*a^2 + 15*a + 1)]\n",
      "71 [Fractional ideal (71, a^9 + 5*a^8 + a^7 - 22*a^6 + 15*a^5 + 22*a^4 - 17*a^3 + 3*a^2 + 27*a - 1), Fractional ideal (71, a^9 - 27*a^8 - 3*a^7 + 17*a^6 - 22*a^5 - 15*a^4 + 22*a^3 - a^2 - 5*a - 1), Fractional ideal (71, a^9 - 25*a^8 + 31*a^7 + 17*a^5 + 24*a^4 - 2*a^3 + 33*a^2 + 23*a - 1), Fractional ideal (71, a^9 - 23*a^8 - 33*a^7 + 2*a^6 - 24*a^5 - 17*a^4 - 31*a^2 + 25*a - 1)]\n"
     ]
    }
   ],
   "source": [
    "K.<a> = CyclotomicField(37)\n",
    "for p in primes_first_n(20):\n",
    "    print(p, K.primes_above(p))\n",
    "\n",
    "    "
   ]
  },
  {
   "cell_type": "code",
   "execution_count": 3,
   "metadata": {},
   "outputs": [
    {
     "name": "stdout",
     "output_type": "stream",
     "text": [
      "2 (2,)\n",
      "3 (3,)\n",
      "5 (-2*a0 - 1,)\n",
      "7 (a0^2 + 2*a0 - 1,)\n",
      "11 (-a0^4 - a0^3 + 3*a0^2 + a0 - 1,)\n",
      "13 (a0^5 - 5*a0^3 + 4*a0,)\n",
      "17 (a0^6 + a0^5 - 4*a0^4 - 2*a0^3 + 5*a0^2 - 2,)\n",
      "19 (-a0^7 - a0^6 + 5*a0^5 + 4*a0^4 - 7*a0^3 - 5*a0^2 + 2*a0 + 2,)\n",
      "23 (-a0^8 - a0^7 + 6*a0^6 + 5*a0^5 - 11*a0^4 - 8*a0^3 + 6*a0^2 + 5*a0,)\n",
      "29 (-a0^3 + a0^2 + 3*a0 - 2,)\n"
     ]
    }
   ],
   "source": [
    "for p in primes_first_n(10):\n",
    "    K.<a> = CyclotomicField(p)\n",
    "    L = K.maximal_totally_real_subfield()[0]\n",
    "    print(p, L.primes_above(p)[0].gens_reduced())"
   ]
  },
  {
   "cell_type": "code",
   "execution_count": 104,
   "metadata": {},
   "outputs": [
    {
     "name": "stdout",
     "output_type": "stream",
     "text": [
      "2 x + 2\n",
      "3 x + 1\n",
      "5 x^2 + x - 1\n",
      "7 x^3 + x^2 - 2*x - 1\n",
      "11 x^5 + x^4 - 4*x^3 - 3*x^2 + 3*x + 1\n",
      "13 x^6 + x^5 - 5*x^4 - 4*x^3 + 6*x^2 + 3*x - 1\n",
      "17 x^8 + x^7 - 7*x^6 - 6*x^5 + 15*x^4 + 10*x^3 - 10*x^2 - 4*x + 1\n",
      "19 x^9 + x^8 - 8*x^7 - 7*x^6 + 21*x^5 + 15*x^4 - 20*x^3 - 10*x^2 + 5*x + 1\n",
      "23 x^11 + x^10 - 10*x^9 - 9*x^8 + 36*x^7 + 28*x^6 - 56*x^5 - 35*x^4 + 35*x^3 + 15*x^2 - 6*x - 1\n",
      "29 x^14 + x^13 - 13*x^12 - 12*x^11 + 66*x^10 + 55*x^9 - 165*x^8 - 120*x^7 + 210*x^6 + 126*x^5 - 126*x^4 - 56*x^3 + 28*x^2 + 7*x - 1\n",
      "31 x^15 + x^14 - 14*x^13 - 13*x^12 + 78*x^11 + 66*x^10 - 220*x^9 - 165*x^8 + 330*x^7 + 210*x^6 - 252*x^5 - 126*x^4 + 84*x^3 + 28*x^2 - 8*x - 1\n",
      "37 x^18 + x^17 - 17*x^16 - 16*x^15 + 120*x^14 + 105*x^13 - 455*x^12 - 364*x^11 + 1001*x^10 + 715*x^9 - 1287*x^8 - 792*x^7 + 924*x^6 + 462*x^5 - 330*x^4 - 120*x^3 + 45*x^2 + 9*x - 1\n",
      "41 x^20 + x^19 - 19*x^18 - 18*x^17 + 153*x^16 + 136*x^15 - 680*x^14 - 560*x^13 + 1820*x^12 + 1365*x^11 - 3003*x^10 - 2002*x^9 + 3003*x^8 + 1716*x^7 - 1716*x^6 - 792*x^5 + 495*x^4 + 165*x^3 - 55*x^2 - 10*x + 1\n",
      "43 x^21 + x^20 - 20*x^19 - 19*x^18 + 171*x^17 + 153*x^16 - 816*x^15 - 680*x^14 + 2380*x^13 + 1820*x^12 - 4368*x^11 - 3003*x^10 + 5005*x^9 + 3003*x^8 - 3432*x^7 - 1716*x^6 + 1287*x^5 + 495*x^4 - 220*x^3 - 55*x^2 + 11*x + 1\n",
      "47 x^23 + x^22 - 22*x^21 - 21*x^20 + 210*x^19 + 190*x^18 - 1140*x^17 - 969*x^16 + 3876*x^15 + 3060*x^14 - 8568*x^13 - 6188*x^12 + 12376*x^11 + 8008*x^10 - 11440*x^9 - 6435*x^8 + 6435*x^7 + 3003*x^6 - 2002*x^5 - 715*x^4 + 286*x^3 + 66*x^2 - 12*x - 1\n",
      "53 x^26 + x^25 - 25*x^24 - 24*x^23 + 276*x^22 + 253*x^21 - 1771*x^20 - 1540*x^19 + 7315*x^18 + 5985*x^17 - 20349*x^16 - 15504*x^15 + 38760*x^14 + 27132*x^13 - 50388*x^12 - 31824*x^11 + 43758*x^10 + 24310*x^9 - 24310*x^8 - 11440*x^7 + 8008*x^6 + 3003*x^5 - 1365*x^4 - 364*x^3 + 91*x^2 + 13*x - 1\n",
      "59 x^29 + x^28 - 28*x^27 - 27*x^26 + 351*x^25 + 325*x^24 - 2600*x^23 - 2300*x^22 + 12650*x^21 + 10626*x^20 - 42504*x^19 - 33649*x^18 + 100947*x^17 + 74613*x^16 - 170544*x^15 - 116280*x^14 + 203490*x^13 + 125970*x^12 - 167960*x^11 - 92378*x^10 + 92378*x^9 + 43758*x^8 - 31824*x^7 - 12376*x^6 + 6188*x^5 + 1820*x^4 - 560*x^3 - 105*x^2 + 15*x + 1\n",
      "61 x^30 + x^29 - 29*x^28 - 28*x^27 + 378*x^26 + 351*x^25 - 2925*x^24 - 2600*x^23 + 14950*x^22 + 12650*x^21 - 53130*x^20 - 42504*x^19 + 134596*x^18 + 100947*x^17 - 245157*x^16 - 170544*x^15 + 319770*x^14 + 203490*x^13 - 293930*x^12 - 167960*x^11 + 184756*x^10 + 92378*x^9 - 75582*x^8 - 31824*x^7 + 18564*x^6 + 6188*x^5 - 2380*x^4 - 560*x^3 + 120*x^2 + 15*x - 1\n",
      "67 x^33 + x^32 - 32*x^31 - 31*x^30 + 465*x^29 + 435*x^28 - 4060*x^27 - 3654*x^26 + 23751*x^25 + 20475*x^24 - 98280*x^23 - 80730*x^22 + 296010*x^21 + 230230*x^20 - 657800*x^19 - 480700*x^18 + 1081575*x^17 + 735471*x^16 - 1307504*x^15 - 817190*x^14 + 1144066*x^13 + 646646*x^12 - 705432*x^11 - 352716*x^10 + 293930*x^9 + 125970*x^8 - 77520*x^7 - 27132*x^6 + 11628*x^5 + 3060*x^4 - 816*x^3 - 136*x^2 + 17*x + 1\n",
      "71 x^35 + x^34 - 34*x^33 - 33*x^32 + 528*x^31 + 496*x^30 - 4960*x^29 - 4495*x^28 + 31465*x^27 + 27405*x^26 - 142506*x^25 - 118755*x^24 + 475020*x^23 + 376740*x^22 - 1184040*x^21 - 888030*x^20 + 2220075*x^19 + 1562275*x^18 - 3124550*x^17 - 2042975*x^16 + 3268760*x^15 + 1961256*x^14 - 2496144*x^13 - 1352078*x^12 + 1352078*x^11 + 646646*x^10 - 497420*x^9 - 203490*x^8 + 116280*x^7 + 38760*x^6 - 15504*x^5 - 3876*x^4 + 969*x^3 + 153*x^2 - 18*x - 1\n"
     ]
    }
   ],
   "source": [
    "for p in primes_first_n(20)[0:20]:\n",
    "    K.<a> = CyclotomicField(p)\n",
    "    L = K.maximal_totally_real_subfield()[0]\n",
    "    print(p, L.polynomial())"
   ]
  },
  {
   "cell_type": "code",
   "execution_count": 8,
   "metadata": {},
   "outputs": [
    {
     "data": {
      "text/plain": [
       "157^155"
      ]
     },
     "execution_count": 8,
     "metadata": {},
     "output_type": "execute_result"
    }
   ],
   "source": [
    "factor(K.discriminant())\n"
   ]
  },
  {
   "cell_type": "code",
   "execution_count": 51,
   "metadata": {},
   "outputs": [
    {
     "ename": "KeyboardInterrupt",
     "evalue": "",
     "output_type": "error",
     "traceback": [
      "\u001b[0;31m---------------------------------------------------------------------------\u001b[0m",
      "\u001b[0;31mKeyboardInterrupt\u001b[0m                         Traceback (most recent call last)",
      "\u001b[0;32m<ipython-input-51-cbad7a6d864e>\u001b[0m in \u001b[0;36m<module>\u001b[0;34m\u001b[0m\n\u001b[0;32m----> 1\u001b[0;31m \u001b[0mK\u001b[0m\u001b[0;34m.\u001b[0m\u001b[0mclass_group\u001b[0m\u001b[0;34m(\u001b[0m\u001b[0;34m)\u001b[0m\u001b[0;34m\u001b[0m\u001b[0;34m\u001b[0m\u001b[0m\n\u001b[0m",
      "\u001b[0;32m~/Documents/Programmering/Data-science/miniforge3/envs/sage/lib/python3.9/site-packages/sage/rings/number_field/number_field.py\u001b[0m in \u001b[0;36mclass_group\u001b[0;34m(self, proof, names)\u001b[0m\n\u001b[1;32m   4569\u001b[0m         \u001b[0;32mexcept\u001b[0m \u001b[0mAttributeError\u001b[0m\u001b[0;34m:\u001b[0m\u001b[0;34m\u001b[0m\u001b[0;34m\u001b[0m\u001b[0m\n\u001b[1;32m   4570\u001b[0m             \u001b[0mself\u001b[0m\u001b[0;34m.\u001b[0m\u001b[0m__class_group\u001b[0m \u001b[0;34m=\u001b[0m \u001b[0;34m{\u001b[0m\u001b[0;34m}\u001b[0m\u001b[0;34m\u001b[0m\u001b[0;34m\u001b[0m\u001b[0m\n\u001b[0;32m-> 4571\u001b[0;31m         \u001b[0mk\u001b[0m \u001b[0;34m=\u001b[0m \u001b[0mself\u001b[0m\u001b[0;34m.\u001b[0m\u001b[0mpari_bnf\u001b[0m\u001b[0;34m(\u001b[0m\u001b[0mproof\u001b[0m\u001b[0;34m)\u001b[0m\u001b[0;34m\u001b[0m\u001b[0;34m\u001b[0m\u001b[0m\n\u001b[0m\u001b[1;32m   4572\u001b[0m         \u001b[0mcycle_structure\u001b[0m \u001b[0;34m=\u001b[0m \u001b[0mtuple\u001b[0m\u001b[0;34m(\u001b[0m \u001b[0mZZ\u001b[0m\u001b[0;34m(\u001b[0m\u001b[0mc\u001b[0m\u001b[0;34m)\u001b[0m \u001b[0;32mfor\u001b[0m \u001b[0mc\u001b[0m \u001b[0;32min\u001b[0m \u001b[0mk\u001b[0m\u001b[0;34m.\u001b[0m\u001b[0mbnf_get_cyc\u001b[0m\u001b[0;34m(\u001b[0m\u001b[0;34m)\u001b[0m \u001b[0;34m)\u001b[0m\u001b[0;34m\u001b[0m\u001b[0;34m\u001b[0m\u001b[0m\n\u001b[1;32m   4573\u001b[0m \u001b[0;34m\u001b[0m\u001b[0m\n",
      "\u001b[0;32m~/Documents/Programmering/Data-science/miniforge3/envs/sage/lib/python3.9/site-packages/sage/rings/number_field/number_field.py\u001b[0m in \u001b[0;36mpari_bnf\u001b[0;34m(self, proof, units)\u001b[0m\n\u001b[1;32m   4417\u001b[0m         \u001b[0;31m# Certify if needed\u001b[0m\u001b[0;34m\u001b[0m\u001b[0;34m\u001b[0m\u001b[0m\n\u001b[1;32m   4418\u001b[0m         \u001b[0;32mif\u001b[0m \u001b[0mproof\u001b[0m \u001b[0;32mand\u001b[0m \u001b[0;32mnot\u001b[0m \u001b[0mgetattr\u001b[0m\u001b[0;34m(\u001b[0m\u001b[0mself\u001b[0m\u001b[0;34m,\u001b[0m \u001b[0;34m\"_pari_bnf_certified\"\u001b[0m\u001b[0;34m,\u001b[0m \u001b[0;32mFalse\u001b[0m\u001b[0;34m)\u001b[0m\u001b[0;34m:\u001b[0m\u001b[0;34m\u001b[0m\u001b[0;34m\u001b[0m\u001b[0m\n\u001b[0;32m-> 4419\u001b[0;31m             \u001b[0;32mif\u001b[0m \u001b[0mbnf\u001b[0m\u001b[0;34m.\u001b[0m\u001b[0mbnfcertify\u001b[0m\u001b[0;34m(\u001b[0m\u001b[0;34m)\u001b[0m \u001b[0;34m!=\u001b[0m \u001b[0;36m1\u001b[0m\u001b[0;34m:\u001b[0m\u001b[0;34m\u001b[0m\u001b[0;34m\u001b[0m\u001b[0m\n\u001b[0m\u001b[1;32m   4420\u001b[0m                 \u001b[0;32mraise\u001b[0m \u001b[0mValueError\u001b[0m\u001b[0;34m(\u001b[0m\u001b[0;34m\"The result is not correct according to bnfcertify\"\u001b[0m\u001b[0;34m)\u001b[0m\u001b[0;34m\u001b[0m\u001b[0;34m\u001b[0m\u001b[0m\n\u001b[1;32m   4421\u001b[0m             \u001b[0mself\u001b[0m\u001b[0;34m.\u001b[0m\u001b[0m_pari_bnf_certified\u001b[0m \u001b[0;34m=\u001b[0m \u001b[0;32mTrue\u001b[0m\u001b[0;34m\u001b[0m\u001b[0;34m\u001b[0m\u001b[0m\n",
      "\u001b[0;32mcypari2/auto_gen.pxi\u001b[0m in \u001b[0;36mcypari2.gen.Gen_base.bnfcertify\u001b[0;34m()\u001b[0m\n",
      "\u001b[0;31mKeyboardInterrupt\u001b[0m: "
     ]
    }
   ],
   "source": [
    "K.class_group()"
   ]
  },
  {
   "cell_type": "code",
   "execution_count": 5,
   "metadata": {},
   "outputs": [
    {
     "data": {
      "text/plain": [
       "S-class group of order 1 of Cyclotomic Field of order 5 and degree 4"
      ]
     },
     "execution_count": 5,
     "metadata": {},
     "output_type": "execute_result"
    }
   ],
   "source": [
    "K.S_class_group(K.primes_above(5))"
   ]
  },
  {
   "cell_type": "code",
   "execution_count": 41,
   "metadata": {},
   "outputs": [
    {
     "data": {
      "text/plain": [
       "cos(2/7*pi)"
      ]
     },
     "execution_count": 41,
     "metadata": {},
     "output_type": "execute_result"
    }
   ],
   "source": [
    "cos(2*pi()/7)"
   ]
  },
  {
   "cell_type": "code",
   "execution_count": 77,
   "metadata": {},
   "outputs": [],
   "source": [
    "L = K.maximal_totally_real_subfield()"
   ]
  },
  {
   "cell_type": "code",
   "execution_count": 97,
   "metadata": {},
   "outputs": [],
   "source": [
    "pol = 'x^20 + x^19 - 19*x^18 - 18*x^17 + 153*x^16 + 136*x^15 - 680*x^14 - 560*x^13 + 1820*x^12 + 1365*x^11 - 3003*x^10 - 2002*x^9 + 3003*x^8 + 1716*x^7 - 1716*x^6 - 792*x^5 + 495*x^4 + 165*x^3 - 55*x^2 - 10*x + 1'"
   ]
  },
  {
   "cell_type": "code",
   "execution_count": 98,
   "metadata": {},
   "outputs": [
    {
     "data": {
      "text/plain": [
       "'s^20 + s^19 - 19*s^18 - 18*s^17 + 153*s^16 + 136*s^15 - 680*s^14 - 560*s^13 + 1820*s^12 + 1365*s^11 - 3003*s^10 - 2002*s^9 + 3003*s^8 + 1716*s^7 - 1716*s^6 - 792*s^5 + 495*s^4 + 165*s^3 - 55*s^2 - 10*s + 1'"
      ]
     },
     "execution_count": 98,
     "metadata": {},
     "output_type": "execute_result"
    }
   ],
   "source": [
    "pol.replace('x', 's')"
   ]
  },
  {
   "cell_type": "code",
   "execution_count": 57,
   "metadata": {},
   "outputs": [
    {
     "name": "stdout",
     "output_type": "stream",
     "text": [
      "2^-1\n",
      "1\n",
      "2\n",
      "3\n",
      "5\n",
      "2 * 3\n",
      "2^3\n",
      "3^2\n",
      "11\n",
      "2 * 7\n",
      "3 * 5\n",
      "2 * 3^2\n",
      "2^2 * 5\n",
      "3 * 7\n",
      "23\n",
      "2 * 13\n",
      "29\n",
      "2 * 3 * 5\n",
      "3 * 11\n",
      "5 * 7\n"
     ]
    }
   ],
   "source": [
    "for n in primes_first_n(20):\n",
    "    print(factor((n-1)/2))"
   ]
  },
  {
   "cell_type": "code",
   "execution_count": 55,
   "metadata": {},
   "outputs": [
    {
     "data": {
      "text/plain": [
       "[2, 3, 5, 7, 11, 13, 17]"
      ]
     },
     "execution_count": 55,
     "metadata": {},
     "output_type": "execute_result"
    }
   ],
   "source": [
    "primes_first_n(7)\n"
   ]
  },
  {
   "cell_type": "code",
   "execution_count": 38,
   "metadata": {},
   "outputs": [],
   "source": [
    "K.<a> = CyclotomicField(5)\n",
    "L = K.maximal_totally_real_subfield()[0]"
   ]
  },
  {
   "cell_type": "code",
   "execution_count": 24,
   "metadata": {},
   "outputs": [
    {
     "data": {
      "text/plain": [
       "<module 'sage.structure.proof.all' from '/Users/eric/Documents/Programmering/Data-science/miniforge3/envs/sage/lib/python3.9/site-packages/sage/structure/proof/all.py'>"
      ]
     },
     "execution_count": 24,
     "metadata": {},
     "output_type": "execute_result"
    }
   ],
   "source": []
  },
  {
   "cell_type": "code",
   "execution_count": 42,
   "metadata": {},
   "outputs": [
    {
     "name": "stdout",
     "output_type": "stream",
     "text": [
      "2     2\n",
      "3     3\n",
      "5     -2*a0 - 1\n",
      "7     7\n",
      "11     -3*a0 - 1\n",
      "13     13\n",
      "17     17\n",
      "19     -4*a0 - 1\n",
      "23     23\n",
      "29     a0 + 6\n",
      "31     5*a0 + 3\n",
      "37     37\n",
      "41     a0 + 7\n",
      "43     43\n",
      "47     47\n",
      "53     53\n",
      "59     7*a0 + 5\n",
      "61     7*a0 + 4\n",
      "67     67\n",
      "71     a0 + 9\n"
     ]
    }
   ],
   "source": [
    "for p in primes_first_n(20):\n",
    "    print(p, \"   \", L.prime_above(p).gens_reduced()[0])"
   ]
  },
  {
   "cell_type": "code",
   "execution_count": 70,
   "metadata": {},
   "outputs": [
    {
     "data": {
      "text/plain": [
       "5"
      ]
     },
     "execution_count": 70,
     "metadata": {},
     "output_type": "execute_result"
    }
   ],
   "source": [
    "K.<a> = CyclotomicField(11)\n",
    "L = K.maximal_totally_real_subfield()[0]\n",
    "L.degree()"
   ]
  },
  {
   "cell_type": "code",
   "execution_count": 71,
   "metadata": {},
   "outputs": [
    {
     "name": "stdout",
     "output_type": "stream",
     "text": [
      "2     [2]\n",
      "3     [3]\n",
      "5     [5]\n",
      "7     [7]\n",
      "11     [-a0^4 - a0^3 + 3*a0^2 + a0 - 1]\n",
      "13     [13]\n",
      "17     [17]\n",
      "19     [19]\n",
      "23     [a0^2 + a0 - 3, a0^4 + a0^3 - 4*a0^2 - 3*a0 + 1, -a0^4 - a0^3 + 3*a0^2 + 3*a0 - 2, -a0^4 + 3*a0^2 - a0 - 2, -a0^2 - 2*a0 + 1]\n",
      "29     [29]\n",
      "31     [31]\n",
      "37     [37]\n",
      "41     [41]\n",
      "43     [a0^4 + a0^3 - 4*a0^2 - 4*a0 + 2, -2*a0^4 - a0^3 + 7*a0^2 + 3*a0 - 3, a0^3 + a0^2 - a0 - 2, -a0^4 + 5*a0^2 + a0 - 2, a0^3 + 2*a0^2 - 2*a0 - 2]\n",
      "47     [47]\n",
      "53     [53]\n",
      "59     [59]\n",
      "61     [61]\n",
      "67     [-2*a0^4 - a0^3 + 6*a0^2 + a0 - 2, a0^3 + 2*a0^2 + a0 - 1, a0^4 + a0^3 - 3*a0^2 - 4*a0 + 1, -a0^4 - 2*a0^3 + 3*a0^2 + 6*a0 - 2, -2*a0^4 + 7*a0^2 - 2]\n",
      "71     [71]\n",
      "73     [73]\n",
      "79     [79]\n",
      "83     [83]\n",
      "89     [2*a0^4 + a0^3 - 6*a0^2 - 2*a0 + 2, a0^4 - 2*a0^2 + a0 - 2, a0^4 + a0^3 - 4*a0^2 - 4*a0 + 3, 2*a0^4 + a0^3 - 7*a0^2 - 3*a0 + 2, a0^3 - a0^2 - 4*a0 + 1]\n",
      "97     [97]\n",
      "101     [101]\n",
      "103     [103]\n",
      "107     [107]\n",
      "109     [a0^4 - a0^3 - 5*a0^2 + 2*a0 + 4, -2*a0^3 + 5*a0 - 1, -2*a0^4 - 2*a0^3 + 7*a0^2 + 4*a0 - 3, a0^4 - 4*a0^2 + 2*a0 + 3, a0^3 + 2*a0^2 - 3*a0 - 3]\n",
      "113     [113]\n"
     ]
    }
   ],
   "source": [
    "for p in primes_first_n(30):\n",
    "    print(p, \"   \", [I.gens_reduced()[0] for I in L.primes_above(p)])"
   ]
  },
  {
   "cell_type": "code",
   "execution_count": 3,
   "metadata": {},
   "outputs": [
    {
     "data": {
      "text/plain": [
       "[\n",
       "(Number Field in a0 with defining polynomial x with a0 = 0, Ring morphism:\n",
       "  From: Number Field in a0 with defining polynomial x with a0 = 0\n",
       "  To:   Cyclotomic Field of order 9 and degree 6\n",
       "  Defn: 0 |--> 0, None),\n",
       "(Number Field in a1 with defining polynomial x^2 + 3*x + 9 with a1 = -1.5000000000000000? + 2.598076211353316?*I, Ring morphism:\n",
       "  From: Number Field in a1 with defining polynomial x^2 + 3*x + 9 with a1 = -1.5000000000000000? + 2.598076211353316?*I\n",
       "  To:   Cyclotomic Field of order 9 and degree 6\n",
       "  Defn: a1 |--> 3*a^3, None),\n",
       "(Number Field in a2 with defining polynomial x^3 - 3*x + 1 with a2 = 1.532088886237957?, Ring morphism:\n",
       "  From: Number Field in a2 with defining polynomial x^3 - 3*x + 1 with a2 = 1.532088886237957?\n",
       "  To:   Cyclotomic Field of order 9 and degree 6\n",
       "  Defn: a2 |--> -a^5 - a^2 + a, None),\n",
       "(Number Field in a3 with defining polynomial x^6 + x^3 + 1 with a3 = 0.7660444431189781? + 0.6427876096865393?*I, Ring morphism:\n",
       "  From: Number Field in a3 with defining polynomial x^6 + x^3 + 1 with a3 = 0.7660444431189781? + 0.6427876096865393?*I\n",
       "  To:   Cyclotomic Field of order 9 and degree 6\n",
       "  Defn: a3 |--> a, Ring morphism:\n",
       "  From: Cyclotomic Field of order 9 and degree 6\n",
       "  To:   Number Field in a3 with defining polynomial x^6 + x^3 + 1 with a3 = 0.7660444431189781? + 0.6427876096865393?*I\n",
       "  Defn: a |--> a3)\n",
       "]"
      ]
     },
     "execution_count": 3,
     "metadata": {},
     "output_type": "execute_result"
    }
   ],
   "source": [
    "K.<a> = CyclotomicField(9)\n",
    "K.subfields()"
   ]
  },
  {
   "cell_type": "code",
   "execution_count": 2,
   "metadata": {},
   "outputs": [
    {
     "data": {
      "text/plain": [
       "[1, b, b^2]"
      ]
     },
     "execution_count": 2,
     "metadata": {},
     "output_type": "execute_result"
    }
   ],
   "source": [
    "L.<b> = NumberField(x^3 - 3*x + 1)\n",
    "L.integral_basis()\n"
   ]
  },
  {
   "cell_type": "code",
   "execution_count": 73,
   "metadata": {},
   "outputs": [
    {
     "name": "stdout",
     "output_type": "stream",
     "text": [
      "2     [2]\n",
      "3     [3]\n",
      "5     [5]\n",
      "7     [a0^2 + 2*a0 - 1]\n",
      "11     [11]\n",
      "13     [-2*a0^2 - a0 + 2, a0^2 + 2*a0 - 2, a0^2 - a0 - 3]\n",
      "17     [17]\n",
      "19     [19]\n",
      "23     [23]\n",
      "29     [-3*a0^2 - a0 + 4, -2*a0^2 + a0 + 4, a0 - 3]\n",
      "31     [31]\n",
      "37     [37]\n",
      "41     [3*a0^2 + a0 - 3, -2*a0^2 - 3*a0 + 4, a0^2 - 2*a0 - 4]\n",
      "43     [3*a0^2 + 2*a0 - 3, 2*a0^2 - a0 - 5, a0^2 + 3*a0 - 2]\n",
      "47     [47]\n",
      "53     [53]\n",
      "59     [59]\n",
      "61     [61]\n",
      "67     [67]\n",
      "71     [4*a0^2 + a0 - 5, 3*a0^2 - a0 - 6, a0 - 4]\n"
     ]
    }
   ],
   "source": [
    "for p in primes_first_n(20):\n",
    "    print(p, \"   \", [I.gens_reduced()[0] for I in L.primes_above(p)])"
   ]
  },
  {
   "cell_type": "code",
   "execution_count": 59,
   "metadata": {},
   "outputs": [
    {
     "data": {
      "text/plain": [
       "11"
      ]
     },
     "execution_count": 59,
     "metadata": {},
     "output_type": "execute_result"
    }
   ],
   "source": [
    "K.<a> = CyclotomicField(23)\n",
    "L = K.maximal_totally_real_subfield()[0]\n",
    "L.degree()"
   ]
  },
  {
   "cell_type": "code",
   "execution_count": 60,
   "metadata": {},
   "outputs": [
    {
     "name": "stdout",
     "output_type": "stream",
     "text": [
      "2     [2]\n",
      "3     [3]\n",
      "5     [5]\n",
      "7     [7]\n",
      "11     [11]\n",
      "13     [13]\n",
      "17     [17]\n",
      "19     [19]\n",
      "23     [-a0^8 - a0^7 + 6*a0^6 + 5*a0^5 - 11*a0^4 - 8*a0^3 + 6*a0^2 + 5*a0]\n",
      "29     [29]\n",
      "31     [31]\n",
      "37     [37]\n",
      "41     [41]\n",
      "43     [43]\n",
      "47     [-a0^10 - 2*a0^9 + 6*a0^8 + 13*a0^7 - 11*a0^6 - 29*a0^5 + 6*a0^4 + 26*a0^3 - 7*a0, -a0^10 + a0^9 + 10*a0^8 - 10*a0^7 - 35*a0^6 + 34*a0^5 + 49*a0^4 - 44*a0^3 - 21*a0^2 + 16*a0, -a0^9 + 9*a0^7 - 27*a0^5 + 29*a0^3 + a0^2 - 7*a0 - 2, a0^8 + a0^7 - 8*a0^6 - 6*a0^5 + 20*a0^4 + 9*a0^3 - 16*a0^2 - 2*a0 + 3, -a0^9 + 8*a0^7 - 21*a0^5 + 21*a0^3 - 8*a0, a0^9 + a0^8 - 7*a0^7 - 6*a0^6 + 14*a0^5 + 9*a0^4 - 6*a0^3 - a0^2 - 3*a0 - 2, -a0^7 + 6*a0^5 - 9*a0^3 + 2*a0 - 1, -a0^5 + 4*a0^3 - 2*a0 - 1, -a0^9 + 8*a0^7 - a0^6 - 21*a0^5 + 5*a0^4 + 20*a0^3 - 5*a0^2 - 4*a0, -a0^10 - a0^9 + 9*a0^8 + 8*a0^7 - 28*a0^6 - 21*a0^5 + 35*a0^4 + 21*a0^3 - 15*a0^2 - 8*a0 + 2, 2*a0^10 + a0^9 - 20*a0^8 - 9*a0^7 + 71*a0^6 + 28*a0^5 - 106*a0^4 - 34*a0^3 + 60*a0^2 + 12*a0 - 8]\n",
      "53     [53]\n",
      "59     [59]\n",
      "61     [61]\n",
      "67     [67]\n",
      "71     [71]\n"
     ]
    }
   ],
   "source": [
    "for p in primes_first_n(20):\n",
    "    print(p, \"   \", [I.gens_reduced()[0] for I in L.primes_above(p)])"
   ]
  },
  {
   "cell_type": "code",
   "execution_count": 58,
   "metadata": {},
   "outputs": [
    {
     "name": "stdout",
     "output_type": "stream",
     "text": [
      "1/2\n",
      "1\n",
      "2\n",
      "3\n",
      "5\n",
      "6\n",
      "8\n",
      "9\n",
      "11\n",
      "14\n",
      "15\n",
      "18\n",
      "20\n",
      "21\n",
      "23\n",
      "26\n",
      "29\n",
      "30\n",
      "33\n",
      "35\n"
     ]
    }
   ],
   "source": [
    "for p in primes_first_n(20):\n",
    "    print((p-1)/2)"
   ]
  },
  {
   "cell_type": "code",
   "execution_count": 10,
   "metadata": {},
   "outputs": [
    {
     "name": "stdout",
     "output_type": "stream",
     "text": [
      "-1 1\n"
     ]
    }
   ],
   "source": [
    "print(legendre_symbol(7,11), legendre_symbol(11, 7))"
   ]
  },
  {
   "cell_type": "code",
   "execution_count": 11,
   "metadata": {},
   "outputs": [
    {
     "name": "stdout",
     "output_type": "stream",
     "text": [
      "-1 1\n"
     ]
    }
   ],
   "source": [
    "print(legendre_symbol(3,7), legendre_symbol(7, 3))"
   ]
  },
  {
   "cell_type": "code",
   "execution_count": 1,
   "metadata": {},
   "outputs": [],
   "source": [
    "a = []\n",
    "a.append('s')"
   ]
  },
  {
   "cell_type": "code",
   "execution_count": 2,
   "metadata": {},
   "outputs": [
    {
     "data": {
      "text/plain": [
       "['s']"
      ]
     },
     "execution_count": 2,
     "metadata": {},
     "output_type": "execute_result"
    }
   ],
   "source": [
    "a"
   ]
  },
  {
   "cell_type": "code",
   "execution_count": 3,
   "metadata": {},
   "outputs": [
    {
     "data": {
      "text/plain": [
       "'s\\n'"
      ]
     },
     "execution_count": 3,
     "metadata": {},
     "output_type": "execute_result"
    }
   ],
   "source": [
    "a[0]+'\\n'"
   ]
  },
  {
   "cell_type": "code",
   "execution_count": 11,
   "metadata": {},
   "outputs": [
    {
     "data": {
      "text/plain": [
       "[(-0.969135011082413, 1), (0.363030898197930, 1), (0.479585593051311, 1)]"
      ]
     },
     "execution_count": 11,
     "metadata": {},
     "output_type": "execute_result"
    }
   ],
   "source": [
    "y = PolynomialRing(RealField(), 'y').gen()\n",
    "f = 1-4*y+3*y^2+9*y^5\n",
    "f.roots()"
   ]
  },
  {
   "cell_type": "code",
   "execution_count": 1,
   "metadata": {},
   "outputs": [],
   "source": [
    "K.<a> = NumberField(x^5+5*x^4-15*x^2-5*x+7)"
   ]
  },
  {
   "cell_type": "code",
   "execution_count": 2,
   "metadata": {},
   "outputs": [],
   "source": [
    "L.<b> = K.extension(x^2-2)"
   ]
  },
  {
   "cell_type": "code",
   "execution_count": 3,
   "metadata": {},
   "outputs": [],
   "source": [
    "M.<c> = L.extension(x^2+7)"
   ]
  },
  {
   "cell_type": "code",
   "execution_count": 10,
   "metadata": {},
   "outputs": [
    {
     "data": {
      "text/plain": [
       "(0, 10)"
      ]
     },
     "execution_count": 10,
     "metadata": {},
     "output_type": "execute_result"
    }
   ],
   "source": [
    "M.signature()"
   ]
  },
  {
   "cell_type": "code",
   "execution_count": 6,
   "metadata": {},
   "outputs": [
    {
     "data": {
      "text/plain": [
       "'s^20 + 20*s^19 + 200*s^18 + 1340*s^17 + 7360*s^16 + 36508*s^15 + 174570*s^14 + 777700*s^13 + 3291700*s^12 + 12709580*s^11 + 46403474*s^10 + 154108240*s^9 + 490842485*s^8 + 1400768900*s^7 + 3810788800*s^6 + 8868134892*s^5 + 19481466890*s^4 + 33220186840*s^3 + 55189841820*s^2 + 53836214880*s + 62086795057'"
      ]
     },
     "execution_count": 6,
     "metadata": {},
     "output_type": "execute_result"
    }
   ],
   "source": [
    "pol = 'x^20 + 20*x^19 + 200*x^18 + 1340*x^17 + 7360*x^16 + 36508*x^15 + 174570*x^14 + 777700*x^13 + 3291700*x^12 + 12709580*x^11 + 46403474*x^10 + 154108240*x^9 + 490842485*x^8 + 1400768900*x^7 + 3810788800*x^6 + 8868134892*x^5 + 19481466890*x^4 + 33220186840*x^3 + 55189841820*x^2 + 53836214880*x + 62086795057'\n",
    "pol.replace('x', 's')"
   ]
  },
  {
   "cell_type": "code",
   "execution_count": null,
   "metadata": {},
   "outputs": [],
   "source": []
  },
  {
   "cell_type": "code",
   "execution_count": 9,
   "metadata": {},
   "outputs": [
    {
     "data": {
      "text/plain": [
       "10*70618812250000000000^(1/20)"
      ]
     },
     "execution_count": 9,
     "metadata": {},
     "output_type": "execute_result"
    }
   ],
   "source": []
  },
  {
   "cell_type": "code",
   "execution_count": 1,
   "metadata": {},
   "outputs": [],
   "source": [
    "K.<a> = NumberField(x^4-x^3+x^2+x-1)"
   ]
  },
  {
   "cell_type": "code",
   "execution_count": 2,
   "metadata": {},
   "outputs": [
    {
     "data": {
      "text/plain": [
       "-331"
      ]
     },
     "execution_count": 2,
     "metadata": {},
     "output_type": "execute_result"
    }
   ],
   "source": [
    "K.discriminant()"
   ]
  },
  {
   "cell_type": "code",
   "execution_count": 6,
   "metadata": {},
   "outputs": [
    {
     "data": {
      "text/plain": [
       "-127*a^3 - 139*a^2 - 181*a - 146"
      ]
     },
     "execution_count": 6,
     "metadata": {},
     "output_type": "execute_result"
    }
   ],
   "source": [
    "n=-127*a^3-139*a^2-181*a-146\n",
    "n"
   ]
  },
  {
   "cell_type": "code",
   "execution_count": 4,
   "metadata": {},
   "outputs": [],
   "source": [
    "L.<b> = NumberField(x^8 - 9*x^6 + 24182*x^4 + 60281988*x + 895172213)"
   ]
  },
  {
   "cell_type": "code",
   "execution_count": null,
   "metadata": {},
   "outputs": [],
   "source": [
    "s^8+645*s^6+90201*s^4+4375521*s^2+61233705\n",
    "\n",
    "s^8+679*s^6+45406*s^4+964704*s^2+5610969"
   ]
  },
  {
   "cell_type": "code",
   "execution_count": 3,
   "metadata": {},
   "outputs": [
    {
     "data": {
      "text/plain": [
       "65536"
      ]
     },
     "execution_count": 3,
     "metadata": {},
     "output_type": "execute_result"
    }
   ],
   "source": [
    "2**16"
   ]
  },
  {
   "cell_type": "code",
   "execution_count": 1,
   "metadata": {},
   "outputs": [],
   "source": [
    "K.<a> = NumberField(x^2+8187139)"
   ]
  },
  {
   "cell_type": "code",
   "execution_count": 2,
   "metadata": {},
   "outputs": [],
   "source": [
    "L.<b> = K.extension(x^2+x+1)"
   ]
  },
  {
   "cell_type": "code",
   "execution_count": 3,
   "metadata": {},
   "outputs": [
    {
     "data": {
      "text/plain": [
       "'s^4 + 2*s^3 + 16374281*s^2 + 16374280*s + 67029236818183'"
      ]
     },
     "execution_count": 3,
     "metadata": {},
     "output_type": "execute_result"
    }
   ],
   "source": [
    "p = str(L.absolute_polynomial())\n",
    "p.replace('x', 's')\n"
   ]
  },
  {
   "cell_type": "code",
   "execution_count": 6,
   "metadata": {},
   "outputs": [
    {
     "data": {
      "text/plain": [
       "172685372072168795314935869156301957921279155233703304*a*b + 86342686036084397657467934578150978960639577616851652*a - 427909831001010957815359135579276657716867011003347427287"
      ]
     },
     "execution_count": 6,
     "metadata": {},
     "output_type": "execute_result"
    }
   ],
   "source": [
    "u = L.units()[0]\n",
    "u^2"
   ]
  },
  {
   "cell_type": "code",
   "execution_count": 11,
   "metadata": {},
   "outputs": [
    {
     "data": {
      "text/plain": [
       "(Fractional ideal (a + 2))^4 * (Fractional ideal (5))^2"
      ]
     },
     "execution_count": 11,
     "metadata": {},
     "output_type": "execute_result"
    }
   ],
   "source": [
    "K.<a> = CyclotomicField(3)\n",
    "L.<b> = K.extension(x^3+5)\n",
    "factor(L.relative_discriminant()) \n"
   ]
  },
  {
   "cell_type": "code",
   "execution_count": 12,
   "metadata": {},
   "outputs": [
    {
     "data": {
      "text/plain": [
       "Fractional ideal (a + 2)"
      ]
     },
     "execution_count": 12,
     "metadata": {},
     "output_type": "execute_result"
    }
   ],
   "source": [
    "K.prime_above(3)"
   ]
  },
  {
   "cell_type": "code",
   "execution_count": 3,
   "metadata": {},
   "outputs": [
    {
     "name": "stdout",
     "output_type": "stream",
     "text": [
      "2 1\n",
      "3 3\n",
      "5 2 * 5\n",
      "7 3 * 7\n",
      "11 5 * 11\n",
      "13 2 * 3 * 13\n",
      "17 2^3 * 17\n",
      "19 3^2 * 19\n"
     ]
    }
   ],
   "source": [
    "for p in primes(20):\n",
    "    print(p, factor(p*(p-1)/2))"
   ]
  },
  {
   "cell_type": "code",
   "execution_count": 4,
   "metadata": {},
   "outputs": [
    {
     "data": {
      "text/plain": [
       "Number Field in a0 with defining polynomial x^10 - 10*x^8 + 35*x^6 + x^5 - 50*x^4 - 5*x^3 + 25*x^2 + 5*x - 1 with a0 = 1.937166322257263?"
      ]
     },
     "execution_count": 4,
     "metadata": {},
     "output_type": "execute_result"
    }
   ],
   "source": [
    "K.<a> = CyclotomicField(25)\n",
    "K.maximal_totally_real_subfield()[0]"
   ]
  },
  {
   "cell_type": "code",
   "execution_count": 5,
   "metadata": {},
   "outputs": [
    {
     "data": {
      "text/plain": [
       "x^20 + x^15 + x^10 + x^5 + 1"
      ]
     },
     "execution_count": 5,
     "metadata": {},
     "output_type": "execute_result"
    }
   ],
   "source": [
    "K.polynomial()"
   ]
  },
  {
   "cell_type": "code",
   "execution_count": 4,
   "metadata": {},
   "outputs": [
    {
     "data": {
      "text/plain": [
       "[1, b, b^2]"
      ]
     },
     "execution_count": 4,
     "metadata": {},
     "output_type": "execute_result"
    }
   ],
   "source": [
    "L.<b> = NumberField(x^3 - 3*x + 1)\n",
    "L.integral_basis()"
   ]
  },
  {
   "cell_type": "code",
   "execution_count": 1,
   "metadata": {},
   "outputs": [
    {
     "ename": "TypeError",
     "evalue": "unsupported operand parent(s) for -: 'Symbolic Ring' and 'Number Field in a with defining polynomial x^2 + 5'",
     "output_type": "error",
     "traceback": [
      "\u001b[0;31m---------------------------------------------------------------------------\u001b[0m",
      "\u001b[0;31mTypeError\u001b[0m                                 Traceback (most recent call last)",
      "\u001b[0;32m<ipython-input-1-9437cd8c58d8>\u001b[0m in \u001b[0;36m<module>\u001b[0;34m\u001b[0m\n\u001b[1;32m      1\u001b[0m \u001b[0mK\u001b[0m \u001b[0;34m=\u001b[0m \u001b[0mNumberField\u001b[0m\u001b[0;34m(\u001b[0m\u001b[0mx\u001b[0m\u001b[0;34m**\u001b[0m\u001b[0mInteger\u001b[0m\u001b[0;34m(\u001b[0m\u001b[0;36m2\u001b[0m\u001b[0;34m)\u001b[0m\u001b[0;34m+\u001b[0m\u001b[0mInteger\u001b[0m\u001b[0;34m(\u001b[0m\u001b[0;36m5\u001b[0m\u001b[0;34m)\u001b[0m\u001b[0;34m,\u001b[0m \u001b[0mnames\u001b[0m\u001b[0;34m=\u001b[0m\u001b[0;34m(\u001b[0m\u001b[0;34m'a'\u001b[0m\u001b[0;34m,\u001b[0m\u001b[0;34m)\u001b[0m\u001b[0;34m)\u001b[0m\u001b[0;34m;\u001b[0m \u001b[0;34m(\u001b[0m\u001b[0ma\u001b[0m\u001b[0;34m,\u001b[0m\u001b[0;34m)\u001b[0m \u001b[0;34m=\u001b[0m \u001b[0mK\u001b[0m\u001b[0;34m.\u001b[0m\u001b[0m_first_ngens\u001b[0m\u001b[0;34m(\u001b[0m\u001b[0;36m1\u001b[0m\u001b[0;34m)\u001b[0m\u001b[0;34m\u001b[0m\u001b[0;34m\u001b[0m\u001b[0m\n\u001b[0;32m----> 2\u001b[0;31m \u001b[0mL\u001b[0m \u001b[0;34m=\u001b[0m \u001b[0mK\u001b[0m\u001b[0;34m.\u001b[0m\u001b[0mextension\u001b[0m\u001b[0;34m(\u001b[0m\u001b[0mx\u001b[0m\u001b[0;34m**\u001b[0m\u001b[0mInteger\u001b[0m\u001b[0;34m(\u001b[0m\u001b[0;36m2\u001b[0m\u001b[0;34m)\u001b[0m\u001b[0;34m-\u001b[0m\u001b[0ma\u001b[0m\u001b[0;34m+\u001b[0m\u001b[0mInteger\u001b[0m\u001b[0;34m(\u001b[0m\u001b[0;36m2\u001b[0m\u001b[0;34m)\u001b[0m\u001b[0;34m,\u001b[0m \u001b[0mnames\u001b[0m\u001b[0;34m=\u001b[0m\u001b[0;34m(\u001b[0m\u001b[0;34m'b'\u001b[0m\u001b[0;34m,\u001b[0m\u001b[0;34m)\u001b[0m\u001b[0;34m)\u001b[0m\u001b[0;34m;\u001b[0m \u001b[0;34m(\u001b[0m\u001b[0mb\u001b[0m\u001b[0;34m,\u001b[0m\u001b[0;34m)\u001b[0m \u001b[0;34m=\u001b[0m \u001b[0mL\u001b[0m\u001b[0;34m.\u001b[0m\u001b[0m_first_ngens\u001b[0m\u001b[0;34m(\u001b[0m\u001b[0;36m1\u001b[0m\u001b[0;34m)\u001b[0m\u001b[0;34m\u001b[0m\u001b[0;34m\u001b[0m\u001b[0m\n\u001b[0m\u001b[1;32m      3\u001b[0m \u001b[0mL\u001b[0m\u001b[0;34m.\u001b[0m\u001b[0mrelative_discriminant\u001b[0m\u001b[0;34m(\u001b[0m\u001b[0;34m)\u001b[0m\u001b[0;34m\u001b[0m\u001b[0;34m\u001b[0m\u001b[0m\n",
      "\u001b[0;32m~/Documents/Programmering/Data-science/miniforge3/envs/sage/lib/python3.9/site-packages/sage/structure/element.pyx\u001b[0m in \u001b[0;36msage.structure.element.Element.__sub__ (build/cythonized/sage/structure/element.c:11571)\u001b[0;34m()\u001b[0m\n\u001b[1;32m   1355\u001b[0m             \u001b[0;32mreturn\u001b[0m \u001b[0;34m(\u001b[0m\u001b[0;34m<\u001b[0m\u001b[0mElement\u001b[0m\u001b[0;34m>\u001b[0m\u001b[0mleft\u001b[0m\u001b[0;34m)\u001b[0m\u001b[0;34m.\u001b[0m\u001b[0m_sub_\u001b[0m\u001b[0;34m(\u001b[0m\u001b[0mright\u001b[0m\u001b[0;34m)\u001b[0m\u001b[0;34m\u001b[0m\u001b[0;34m\u001b[0m\u001b[0m\n\u001b[1;32m   1356\u001b[0m         \u001b[0;32mif\u001b[0m \u001b[0mBOTH_ARE_ELEMENT\u001b[0m\u001b[0;34m(\u001b[0m\u001b[0mcl\u001b[0m\u001b[0;34m)\u001b[0m\u001b[0;34m:\u001b[0m\u001b[0;34m\u001b[0m\u001b[0;34m\u001b[0m\u001b[0m\n\u001b[0;32m-> 1357\u001b[0;31m             \u001b[0;32mreturn\u001b[0m \u001b[0mcoercion_model\u001b[0m\u001b[0;34m.\u001b[0m\u001b[0mbin_op\u001b[0m\u001b[0;34m(\u001b[0m\u001b[0mleft\u001b[0m\u001b[0;34m,\u001b[0m \u001b[0mright\u001b[0m\u001b[0;34m,\u001b[0m \u001b[0msub\u001b[0m\u001b[0;34m)\u001b[0m\u001b[0;34m\u001b[0m\u001b[0;34m\u001b[0m\u001b[0m\n\u001b[0m\u001b[1;32m   1358\u001b[0m \u001b[0;34m\u001b[0m\u001b[0m\n\u001b[1;32m   1359\u001b[0m         \u001b[0;32mtry\u001b[0m\u001b[0;34m:\u001b[0m\u001b[0;34m\u001b[0m\u001b[0;34m\u001b[0m\u001b[0m\n",
      "\u001b[0;32m~/Documents/Programmering/Data-science/miniforge3/envs/sage/lib/python3.9/site-packages/sage/structure/coerce.pyx\u001b[0m in \u001b[0;36msage.structure.coerce.CoercionModel.bin_op (build/cythonized/sage/structure/coerce.c:11722)\u001b[0;34m()\u001b[0m\n\u001b[1;32m   1246\u001b[0m         \u001b[0;31m# We should really include the underlying error.\u001b[0m\u001b[0;34m\u001b[0m\u001b[0;34m\u001b[0m\u001b[0m\n\u001b[1;32m   1247\u001b[0m         \u001b[0;31m# This causes so much headache.\u001b[0m\u001b[0;34m\u001b[0m\u001b[0;34m\u001b[0m\u001b[0m\n\u001b[0;32m-> 1248\u001b[0;31m         \u001b[0;32mraise\u001b[0m \u001b[0mbin_op_exception\u001b[0m\u001b[0;34m(\u001b[0m\u001b[0mop\u001b[0m\u001b[0;34m,\u001b[0m \u001b[0mx\u001b[0m\u001b[0;34m,\u001b[0m \u001b[0my\u001b[0m\u001b[0;34m)\u001b[0m\u001b[0;34m\u001b[0m\u001b[0;34m\u001b[0m\u001b[0m\n\u001b[0m\u001b[1;32m   1249\u001b[0m \u001b[0;34m\u001b[0m\u001b[0m\n\u001b[1;32m   1250\u001b[0m     \u001b[0mcpdef\u001b[0m \u001b[0mcanonical_coercion\u001b[0m\u001b[0;34m(\u001b[0m\u001b[0mself\u001b[0m\u001b[0;34m,\u001b[0m \u001b[0mx\u001b[0m\u001b[0;34m,\u001b[0m \u001b[0my\u001b[0m\u001b[0;34m)\u001b[0m\u001b[0;34m:\u001b[0m\u001b[0;34m\u001b[0m\u001b[0;34m\u001b[0m\u001b[0m\n",
      "\u001b[0;31mTypeError\u001b[0m: unsupported operand parent(s) for -: 'Symbolic Ring' and 'Number Field in a with defining polynomial x^2 + 5'"
     ]
    }
   ],
   "source": [
    "K.<a> = NumberField(x^2+5)\n",
    "L.<b> = K.extension(x^2-a+2)\n",
    "L.relative_discriminant()"
   ]
  },
  {
   "cell_type": "code",
   "execution_count": 17,
   "metadata": {},
   "outputs": [
    {
     "data": {
      "text/plain": [
       "Fractional ideal (a - 2)"
      ]
     },
     "execution_count": 17,
     "metadata": {},
     "output_type": "execute_result"
    }
   ],
   "source": [
    "K.primes_above(3)[0]^2"
   ]
  },
  {
   "cell_type": "code",
   "execution_count": 4,
   "metadata": {},
   "outputs": [
    {
     "data": {
      "text/plain": [
       "[\n",
       "(Number Field in a0 with defining polynomial x with a0 = 0, Ring morphism:\n",
       "  From: Number Field in a0 with defining polynomial x with a0 = 0\n",
       "  To:   Cyclotomic Field of order 9 and degree 6\n",
       "  Defn: 0 |--> 0, None),\n",
       "(Number Field in a1 with defining polynomial x^2 + 3*x + 9 with a1 = -1.5000000000000000? + 2.598076211353316?*I, Ring morphism:\n",
       "  From: Number Field in a1 with defining polynomial x^2 + 3*x + 9 with a1 = -1.5000000000000000? + 2.598076211353316?*I\n",
       "  To:   Cyclotomic Field of order 9 and degree 6\n",
       "  Defn: a1 |--> 3*a^3, None),\n",
       "(Number Field in a2 with defining polynomial x^3 - 3*x + 1 with a2 = 1.532088886237957?, Ring morphism:\n",
       "  From: Number Field in a2 with defining polynomial x^3 - 3*x + 1 with a2 = 1.532088886237957?\n",
       "  To:   Cyclotomic Field of order 9 and degree 6\n",
       "  Defn: a2 |--> -a^5 - a^2 + a, None),\n",
       "(Number Field in a3 with defining polynomial x^6 + x^3 + 1 with a3 = 0.7660444431189781? + 0.6427876096865393?*I, Ring morphism:\n",
       "  From: Number Field in a3 with defining polynomial x^6 + x^3 + 1 with a3 = 0.7660444431189781? + 0.6427876096865393?*I\n",
       "  To:   Cyclotomic Field of order 9 and degree 6\n",
       "  Defn: a3 |--> a, Ring morphism:\n",
       "  From: Cyclotomic Field of order 9 and degree 6\n",
       "  To:   Number Field in a3 with defining polynomial x^6 + x^3 + 1 with a3 = 0.7660444431189781? + 0.6427876096865393?*I\n",
       "  Defn: a |--> a3)\n",
       "]"
      ]
     },
     "execution_count": 4,
     "metadata": {},
     "output_type": "execute_result"
    }
   ],
   "source": [
    "K.<a> = CyclotomicField(9)\n",
    "K.subfields()\n"
   ]
  },
  {
   "cell_type": "code",
   "execution_count": 3,
   "metadata": {},
   "outputs": [
    {
     "data": {
      "text/plain": [
       "[\n",
       "Ring endomorphism of Number Field in b with defining polynomial x^3 - 3*x + 1\n",
       "  Defn: b |--> b,\n",
       "Ring endomorphism of Number Field in b with defining polynomial x^3 - 3*x + 1\n",
       "  Defn: b |--> -b^2 - b + 2,\n",
       "Ring endomorphism of Number Field in b with defining polynomial x^3 - 3*x + 1\n",
       "  Defn: b |--> b^2 - 2\n",
       "]"
      ]
     },
     "execution_count": 3,
     "metadata": {},
     "output_type": "execute_result"
    }
   ],
   "source": [
    "L.<b> = NumberField(x^3 - 3*x + 1)\n",
    "L.automorphisms()"
   ]
  },
  {
   "cell_type": "code",
   "execution_count": 11,
   "metadata": {},
   "outputs": [
    {
     "data": {
      "text/plain": [
       "b^2 - b"
      ]
     },
     "execution_count": 11,
     "metadata": {},
     "output_type": "execute_result"
    }
   ],
   "source": [
    "L.unit_group().gens_values()[1]*L.unit_group().gens_values()[2]^2"
   ]
  },
  {
   "cell_type": "code",
   "execution_count": 4,
   "metadata": {},
   "outputs": [
    {
     "data": {
      "text/plain": [
       "Fractional ideal (3)"
      ]
     },
     "execution_count": 4,
     "metadata": {},
     "output_type": "execute_result"
    }
   ],
   "source": [
    "L.primes_above(3)[0]^3"
   ]
  },
  {
   "cell_type": "code",
   "execution_count": 6,
   "metadata": {},
   "outputs": [
    {
     "data": {
      "text/plain": [
       "81"
      ]
     },
     "execution_count": 6,
     "metadata": {},
     "output_type": "execute_result"
    }
   ],
   "source": [
    "L.discriminant()"
   ]
  },
  {
   "cell_type": "code",
   "execution_count": 15,
   "metadata": {},
   "outputs": [
    {
     "data": {
      "text/plain": [
       "-1 * 3^9"
      ]
     },
     "execution_count": 15,
     "metadata": {},
     "output_type": "execute_result"
    }
   ],
   "source": [
    "factor(K.discriminant())"
   ]
  },
  {
   "cell_type": "code",
   "execution_count": 5,
   "metadata": {},
   "outputs": [
    {
     "data": {
      "text/plain": [
       "-1 * 3^5"
      ]
     },
     "execution_count": 5,
     "metadata": {},
     "output_type": "execute_result"
    }
   ],
   "source": [
    "M.<c> = NumberField(x^3-3)\n",
    "factor(M.discriminant())"
   ]
  },
  {
   "cell_type": "code",
   "execution_count": 7,
   "metadata": {},
   "outputs": [
    {
     "data": {
      "text/plain": [
       "[Fractional ideal (c)]"
      ]
     },
     "execution_count": 7,
     "metadata": {},
     "output_type": "execute_result"
    }
   ],
   "source": [
    "M.primes_above(3)"
   ]
  },
  {
   "cell_type": "markdown",
   "metadata": {},
   "source": [
    "Next we find z_9 in terms of y = z_9-z_9^{-1} and z_3-z_3^{-1}"
   ]
  },
  {
   "cell_type": "code",
   "execution_count": 43,
   "metadata": {},
   "outputs": [
    {
     "data": {
      "text/plain": [
       "-b^2 + (-1/2*a - 1/2)*b - 2"
      ]
     },
     "execution_count": 43,
     "metadata": {},
     "output_type": "execute_result"
    }
   ],
   "source": [
    "K.<a> = NumberField(x^2+3)\n",
    "R.<y> = PolynomialRing(K)\n",
    "f = y^3+3*y-a\n",
    "L.<b> = K.extension(f)\n",
    "(L.roots_of_unity()[3]^5)^8"
   ]
  },
  {
   "cell_type": "code",
   "execution_count": 14,
   "metadata": {},
   "outputs": [
    {
     "data": {
      "text/plain": [
       "-19683"
      ]
     },
     "execution_count": 14,
     "metadata": {},
     "output_type": "execute_result"
    }
   ],
   "source": [
    "M.<c> = CyclotomicField(9)\n",
    "M.discriminant()"
   ]
  },
  {
   "cell_type": "code",
   "execution_count": 138,
   "metadata": {},
   "outputs": [
    {
     "data": {
      "text/plain": [
       "(-6*y^2 - 75/2*y + 21/2)*t^2 + (-123*y^2 - 153/2*y - 3/2)*t"
      ]
     },
     "execution_count": 138,
     "metadata": {},
     "output_type": "execute_result"
    }
   ],
   "source": [
    "K.<a> = NumberField(x^2+3)\n",
    "A.<y1> = PolynomialRing(K)\n",
    "B = A.quotient(y1^3 - 3*y1 + 1, 'y')\n",
    "y = B.gen()\n",
    "C = PolynomialRing(B, 't1') \n",
    "t1 = C.gen()\n",
    "R = C.quotient(t1^3+3*t1, 't')\n",
    "t = R.gen()\n",
    "#S.<z> = PolynomialRing(R)\n",
    "g = (1+(1/2)*y*t)*(y+t)+((1/2)*y*(y+1)+1)*t\n",
    "\n",
    "g^3-3*g+1"
   ]
  },
  {
   "cell_type": "markdown",
   "metadata": {},
   "source": [
    "Next we see the action of Z/3Z on z_9+z_9^{-1}"
   ]
  },
  {
   "cell_type": "code",
   "execution_count": 128,
   "metadata": {},
   "outputs": [
    {
     "data": {
      "text/plain": [
       "0"
      ]
     },
     "execution_count": 128,
     "metadata": {},
     "output_type": "execute_result"
    }
   ],
   "source": [
    "K.<a> = NumberField(x^2+3)\n",
    "A.<y1> = PolynomialRing(K)\n",
    "B = A.quotient(y1^3 - 3*y1 + 1, 'y')\n",
    "y = B.gen()\n",
    "C = PolynomialRing(B, 't1') \n",
    "t1 = C.gen()\n",
    "R = C.quotient(t1^3-t1, 't')\n",
    "t = R.gen()\n",
    "#S.<z> = PolynomialRing(R)\n",
    "g = (1-(3/2)*y*t)*(y+t)+((1/2)*y*(y-1)+1)*t\n",
    "\n",
    "g^3-3*g+1\n"
   ]
  },
  {
   "cell_type": "markdown",
   "metadata": {},
   "source": [
    "Next we see the action of mu_3 (T--O-presentation) on z_9-z_9^{-1}"
   ]
  },
  {
   "cell_type": "code",
   "execution_count": 88,
   "metadata": {},
   "outputs": [
    {
     "data": {
      "text/plain": [
       "0"
      ]
     },
     "execution_count": 88,
     "metadata": {},
     "output_type": "execute_result"
    }
   ],
   "source": [
    "K.<a> = NumberField(x^2+3)\n",
    "A.<y1> = PolynomialRing(K)\n",
    "f = y1^3 + 3*y1 - a\n",
    "B = A.quotient(f, 'y')\n",
    "y = B.gen()\n",
    "C = PolynomialRing(B, 't1') \n",
    "t1 = C.gen()\n",
    "R = C.quotient(t1^3+3*t1, 't')\n",
    "t = R.gen()\n",
    "g = (1+(1/2)*y*t)*(y+t)+((1/2)*y*(y+a)+1)*t\n",
    "\n",
    "g^3+3*g-a"
   ]
  },
  {
   "cell_type": "markdown",
   "metadata": {},
   "source": [
    "Next we express z_9 in terms of z_9+z_9^{-1} and z_3-z_3^{-1}"
   ]
  },
  {
   "cell_type": "code",
   "execution_count": 10,
   "metadata": {},
   "outputs": [
    {
     "data": {
      "text/plain": [
       "1/3*a*b^2 + (1/6*a + 1/2)*b - 2/3*a"
      ]
     },
     "execution_count": 10,
     "metadata": {},
     "output_type": "execute_result"
    }
   ],
   "source": [
    "K.<a> = NumberField(x^2+3)\n",
    "R.<y> = PolynomialRing(K)\n",
    "f = y^3-3*y+1\n",
    "L.<b> = K.extension(f)\n",
    "L.roots_of_unity()[3]^5"
   ]
  },
  {
   "cell_type": "code",
   "execution_count": null,
   "metadata": {},
   "outputs": [],
   "source": []
  }
 ],
 "metadata": {
  "kernelspec": {
   "display_name": "SageMath 9.4 for VSCode",
   "language": "python",
   "name": "sagemath-vscode"
  },
  "language_info": {
   "codemirror_mode": {
    "name": "ipython",
    "version": 3
   },
   "file_extension": ".py",
   "mimetype": "text/x-python",
   "name": "python",
   "nbconvert_exporter": "python",
   "pygments_lexer": "ipython3",
   "version": "3.9.9"
  },
  "orig_nbformat": 4
 },
 "nbformat": 4,
 "nbformat_minor": 2
}
